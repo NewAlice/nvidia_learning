{
 "cells": [
  {
   "cell_type": "markdown",
   "metadata": {},
   "source": [
    "<a href=\"https://www.nvidia.com/dli\"> <img src=\"assets/DLI_Header.png\" alt=\"Header\" style=\"width: 400px;\"/> </a>"
   ]
  },
  {
   "cell_type": "markdown",
   "metadata": {},
   "source": [
    "# JupyterLab\n",
    "在此实战实验中，我们会使用 [JupyterLab](https://jupyterlab.readthedocs.io/en/stable/) 管理我们的环境。[JupyterLab 界面](https://jupyterlab.readthedocs.io/en/stable/user/interface.html) 是一个控制面板，可供您访问交互式 iPython notebook，并可提供 NVIDIA 环境的文件夹结构以及进入 Ubuntu 操作系统的终端窗口。在所示的第一个视图中，顶部是一个**菜单栏**，**左侧边栏**显示有**文件浏览器**，另外还包含一个初始显示\"Launcher\"（启动程序）页面的**主工作区**。\n",
    "\n",
    "<img src=\"assets/jl_launcher.png\">\n",
    "\n",
    "您可像浏览任何其他文件浏览器一样浏览此文件浏览器。双击任何项目都会打开包含该项目内容的新选项卡。\n",
    "\n",
    "主工作区包括已打开文件的选项卡视图，您可根据需要关闭、移动和编辑这些视图。\n",
    "\n",
    "包括此 notebook 在内的其他 notebook 均由一系列内容和代码**单元**组成。如要执行代码单元中的代码，请在单元高亮显示时，按 `Shift+Enter` 或上方菜单栏中的\"Run\"（运行）按钮。有时，系统会将内容单元切换为编辑模式。按 `Shift+Enter` 即可切换回可读形式。\n",
    "\n",
    "同样，按上方的 **&blacktriangleright;** 按钮（直角三角形或\"play\"（运行））将会产生同样的效果。按下 <span style=\"letter-spacing:-5px;\">**&blacktriangleright;&blacktriangleright;**</span> 按钮（双直角三角形或\"fast forward\"（快进））将完全运行 notebook 中的所有代码单元。\n",
    "\n",
    "尝试执行下方单元中的简单 print 语句。"
   ]
  },
  {
   "cell_type": "code",
   "execution_count": null,
   "metadata": {},
   "outputs": [],
   "source": [
    "# Highlight this cell and click [Shift+Enter] to execute\n",
    "print('This is just a simple print statement')"
   ]
  },
  {
   "cell_type": "markdown",
   "metadata": {},
   "source": [
    "## 重新启动内核"
   ]
  },
  {
   "cell_type": "markdown",
   "metadata": {},
   "source": [
    "Jupyter 会通过内核来追踪在 notebook 中执行的代码。此过程有时会占用过多计算机资源，或者出现代码无限运行的情况。当出现上述情况时，重置内核可能有助于解决问题。\n",
    "\n",
    "清理内核的主要方式有三种。第一种方法是直接使用 notebook 上方菜单中的 ⟳ 按钮。点击按钮将弹出是否重置内核的提示。\n",
    "\n",
    "第二种方法是通过代码单元。以下是部分代码单元，您可以试着运行这些代码以加深了解。"
   ]
  },
  {
   "cell_type": "code",
   "execution_count": null,
   "metadata": {},
   "outputs": [],
   "source": [
    "import IPython\n",
    "app = IPython.Application.instance()\n",
    "app.kernel.do_shutdown(True)"
   ]
  },
  {
   "cell_type": "markdown",
   "metadata": {},
   "source": [
    "最后一种方法是使用左侧的内核菜单，即黑色圆圈中间带一个明亮正方形的图标。如果说前两种方法是\"软\"重置，则最后一种方法更像是强制的\"硬\"中止。\n",
    "\n",
    "## 接下来"
   ]
  },
  {
   "cell_type": "markdown",
   "metadata": {},
   "source": [
    "介绍完环境后，下面让我们来学习 Triton。请按数字顺序继续学习下一个 notebook。"
   ]
  },
  {
   "cell_type": "markdown",
   "metadata": {},
   "source": [
    "<a href=\"https://www.nvidia.com/dli\"> <img src=\"assets/DLI_Header.png\" alt=\"Header\" style=\"width: 400px;\"/> </a>"
   ]
  }
 ],
 "metadata": {
  "kernelspec": {
   "display_name": "Python 3 (ipykernel)",
   "language": "python",
   "name": "python3"
  },
  "language_info": {
   "codemirror_mode": {
    "name": "ipython",
    "version": 3
   },
   "file_extension": ".py",
   "mimetype": "text/x-python",
   "name": "python",
   "nbconvert_exporter": "python",
   "pygments_lexer": "ipython3",
   "version": "3.9.7"
  }
 },
 "nbformat": 4,
 "nbformat_minor": 4
}
