{
 "cells": [
  {
   "cell_type": "markdown",
   "id": "cbcbcff3",
   "metadata": {},
   "source": [
    "<center><a href=\"https://www.nvidia.cn/training/\"><img src=\"https://dli-lms.s3.amazonaws.com/assets/general/DLI_Header_White.png\" width=\"400\" height=\"186\" /></a></center>"
   ]
  },
  {
   "cell_type": "markdown",
   "id": "54944dbf",
   "metadata": {},
   "source": [
    "# 附录：探索超参数"
   ]
  },
  {
   "cell_type": "markdown",
   "id": "47807129",
   "metadata": {},
   "source": [
    "对于感兴趣的学员，这个附录 notebook 探索了超参数 `temperature`、`top_p` 和 `top_k` 对 LLM token 采样的影响。"
   ]
  },
  {
   "cell_type": "markdown",
   "id": "181ad866",
   "metadata": {},
   "source": [
    "---"
   ]
  },
  {
   "cell_type": "markdown",
   "id": "856a2b59",
   "metadata": {},
   "source": [
    "## 导入"
   ]
  },
  {
   "cell_type": "code",
   "execution_count": null,
   "id": "5ead6294",
   "metadata": {},
   "outputs": [],
   "source": [
    "import os\n",
    "import random\n",
    "import math"
   ]
  },
  {
   "cell_type": "markdown",
   "id": "52caefcd",
   "metadata": {},
   "source": [
    "---"
   ]
  },
  {
   "cell_type": "markdown",
   "id": "0ed0d125",
   "metadata": {},
   "source": [
    "## Top K"
   ]
  },
  {
   "cell_type": "markdown",
   "id": "be8df5d1",
   "metadata": {},
   "source": [
    "参数 `top_k` 将模型的选择限制为 `k` 个最可能的下一个 token。当 top_k 设置为 1 时，模型选择最可能的那个 token，这种情况下，给定完全相同的提示词，其输出将始终相同。我们称之为**贪婪解码**（greedy decoding）。\n",
    "\n",
    "当 `top_k` 设置为大于 1 时，模型可以考虑多个可能的下一个 token，而不仅仅是最可能的那个 token。\n",
    "\n",
    "到目前为止，我们一直将 `top_k` 默认设为 1。\n",
    "\n",
    "这里有一些示例代码，帮助您理解 `top_k`。想象一下这些是 LLM 生成的下一个候选单词。"
   ]
  },
  {
   "cell_type": "code",
   "execution_count": null,
   "id": "1b4311c7",
   "metadata": {},
   "outputs": [],
   "source": [
    "# List of words with their likelihood of being the next word, sorted by likelihood.\n",
    "words_and_likelihoods_of_being_next_sorted = [\n",
    "    ('apple', 0.4),\n",
    "    ('dragonfruit', 0.2),\n",
    "    ('marita', 0.1)\n",
    "]"
   ]
  },
  {
   "cell_type": "markdown",
   "id": "e336bf5a",
   "metadata": {},
   "source": [
    "以下函数将获取生成下一个单词时考虑的 `top_k`。"
   ]
  },
  {
   "cell_type": "code",
   "execution_count": null,
   "id": "5d29bf05",
   "metadata": {},
   "outputs": [],
   "source": [
    "def get_next_word(words_sorted_by_likelihood_of_being_next, top_k):\n",
    "    # Limit the choices to the top_k words.\n",
    "    words_available_to_be_next = words_sorted_by_likelihood_of_being_next[:top_k]\n",
    "    # Separate the words and their probabilities.\n",
    "    words, probabilities = zip(*words_available_to_be_next)\n",
    "    # Choose one word based on the probabilities as weights.\n",
    "    return random.choices(words, weights=probabilities, k=1)[0]"
   ]
  },
  {
   "cell_type": "markdown",
   "id": "08229558",
   "metadata": {},
   "source": [
    "通过迭代多个 `top_k` 值，我们可以看到它如何影响了生成的下一个单词。"
   ]
  },
  {
   "cell_type": "code",
   "execution_count": null,
   "id": "37e72579",
   "metadata": {},
   "outputs": [],
   "source": [
    "top_ks = [1, 2, 3]\n",
    "\n",
    "for top_k in top_ks:\n",
    "    print(f'Setting top_k to {top_k}.')\n",
    "    for _ in range(10):\n",
    "        next_word = get_next_word(words_and_likelihoods_of_being_next_sorted, top_k)\n",
    "        print(next_word)\n",
    "    print()"
   ]
  },
  {
   "cell_type": "markdown",
   "id": "310fa37b",
   "metadata": {},
   "source": [
    "---"
   ]
  },
  {
   "cell_type": "markdown",
   "id": "9cfd1ec6",
   "metadata": {},
   "source": [
    "## Temperature"
   ]
  },
  {
   "cell_type": "markdown",
   "id": "a96d7894",
   "metadata": {},
   "source": [
    "当 `top_k` 设置为 1 时，`temperature` 参数没有影响，但当 `top_k` 大于 1 时，我们还可以为模型的 `temperature` 传入一个介于 `0.0` 和 `1.0` 之间的值。\n",
    "\n",
    "**Temperature** 影响单词选择的随机性：较高的 **temperature** 增加选择不太可能单词的概率，为文本增加了多样性。较低的 **temperature** 则使模型的选择更可预测。\n",
    "\n",
    "例如，当 `top_k` 设置为 2 时，模型从两个最可能的下一个 token 中进行选择。随着温度的升高，概率分布变得更加均匀，使得第二个最可能的 token 被选择的机会更大，而较低的 temperature 则使模型更倾向于选择两个中的最可能的 token。\n",
    "\n",
    "下面这个代码示例，可以帮助您理解这个概念。我们再次提供一组单词及其在文本生成中作为下一个单词的概率。"
   ]
  },
  {
   "cell_type": "code",
   "execution_count": null,
   "id": "480eaba7",
   "metadata": {},
   "outputs": [],
   "source": [
    "# List of words with their likelihood of being the next word, sorted by likelihood.\n",
    "words_and_likelihoods_of_being_next_sorted = [\n",
    "    ('apple', 0.4),\n",
    "    ('dragonfruit', 0.2),\n",
    "    ('marita', 0.1)\n",
    "]"
   ]
  },
  {
   "cell_type": "markdown",
   "id": "8a18f005",
   "metadata": {},
   "source": [
    "函数 `apply_temperature` 根据 temperature 更新下一个单词的概率。"
   ]
  },
  {
   "cell_type": "code",
   "execution_count": null,
   "id": "afdb8d15",
   "metadata": {},
   "outputs": [],
   "source": [
    "def apply_temperature(probabilities, temperature):\n",
    "    # Ensure temperature is within the valid range for your model\n",
    "    if temperature <= 0 or temperature > 1:\n",
    "        raise ValueError(\"Temperature must be greater than 0 and less than or equal to 1\")\n",
    "    # Apply temperature to probabilities\n",
    "    adjusted_probabilities = [pow(p, 1 / temperature) for p in probabilities]\n",
    "    return adjusted_probabilities"
   ]
  },
  {
   "cell_type": "markdown",
   "id": "94ac98d1",
   "metadata": {},
   "source": [
    "函数 `get_next_word_temperature` 在选择下一个单词时考虑 temperature 值。"
   ]
  },
  {
   "cell_type": "code",
   "execution_count": null,
   "id": "5e4fbbe4",
   "metadata": {},
   "outputs": [],
   "source": [
    "def get_next_word_temperature(words_sorted_by_likelihood_of_being_next, temperature):\n",
    "    # Separate the words and their original probabilities.\n",
    "    words, probabilities = zip(*words_sorted_by_likelihood_of_being_next)\n",
    "    # Adjust the probabilities by applying temperature.\n",
    "    adjusted_probabilities = apply_temperature(probabilities, temperature)\n",
    "    # Choose one word based on the adjusted probabilities as weights.\n",
    "    return random.choices(words, weights=adjusted_probabilities, k=1)[0]"
   ]
  },
  {
   "cell_type": "markdown",
   "id": "7bd102dc",
   "metadata": {},
   "source": [
    "通过迭代多个 `temperature` 值，我们可以看到它如何影响生成中可能出现的单词。"
   ]
  },
  {
   "cell_type": "code",
   "execution_count": null,
   "id": "2d9acd3d",
   "metadata": {},
   "outputs": [],
   "source": [
    "temperatures = [0.01, 0.5, 1.0]\n",
    "\n",
    "for temperature in temperatures:\n",
    "    print(f'Setting temperature to {temperature}.')\n",
    "    for _ in range(10):\n",
    "        next_word = get_next_word_temperature(words_and_likelihoods_of_being_next_sorted, temperature)\n",
    "        print(next_word)\n",
    "    print()"
   ]
  },
  {
   "cell_type": "markdown",
   "id": "7ab3320d",
   "metadata": {},
   "source": [
    "---"
   ]
  },
  {
   "cell_type": "markdown",
   "id": "c4b2f670",
   "metadata": {},
   "source": [
    "## Top P"
   ]
  },
  {
   "cell_type": "markdown",
   "id": "f1375c0a",
   "metadata": {},
   "source": [
    "在使用语言模型进行文本生成时，`top_p`，也称为“核采样”（nucleus sampling），涉及选择一组可能的下一个 token，这组 token 的累积概率刚好超过 `top_p` 指定的阈值，`top_p` 是一个介于 0.0 和 1.0 之间的浮点值。它的工作原理如下：\n",
    "- 模型计算每个可能的下一个 token 的概率，并按降序排序。\n",
    "- 从最可能的 token 开始，逐步将 token 添加到子集中，直到它们的概率总和超过 `top_p` 阈值。\n",
    "- 然后，模型仅从这个子集中随机选择下一个 token。\n",
    "\n",
    "下面的代码示例能帮您理解这个概念。我们再提供一组单词及其在文本生成中作为下一个单词的概率。"
   ]
  },
  {
   "cell_type": "code",
   "execution_count": null,
   "id": "3eb07b5e",
   "metadata": {},
   "outputs": [],
   "source": [
    "# List of words with their likelihood of being the next word, sorted by likelihood.\n",
    "words_and_likelihoods_of_being_next_sorted = [\n",
    "    ('apple', 0.4),\n",
    "    ('dragonfruit', 0.2),\n",
    "    ('marita', 0.1)\n",
    "]"
   ]
  },
  {
   "cell_type": "markdown",
   "id": "2cca73dd",
   "metadata": {},
   "source": [
    "函数 `get_next_word_top_p` 在选择下一个单词时考虑了 `p` 的值。"
   ]
  },
  {
   "cell_type": "code",
   "execution_count": null,
   "id": "1a33aa08",
   "metadata": {},
   "outputs": [],
   "source": [
    "def get_next_word_top_p(words_sorted_by_likelihood_of_being_next, p):\n",
    "    # Initialize the cumulative probability.\n",
    "    cumulative = 0\n",
    "    # List to hold words and probabilities up to the cumulative probability p.\n",
    "    words_available_to_be_next = []\n",
    "    # Add words and their probabilities to the list until the cumulative probability reaches p.\n",
    "    for word, likelihood in words_sorted_by_likelihood_of_being_next:\n",
    "        cumulative += likelihood\n",
    "        words_available_to_be_next.append((word, likelihood))\n",
    "        if cumulative >= p:\n",
    "            break\n",
    "    # Separate the words and their probabilities.\n",
    "    words, probabilities = zip(*words_available_to_be_next)\n",
    "    # Choose one word based on the probabilities as weights.\n",
    "    return random.choices(words, weights=probabilities, k=1)[0]"
   ]
  },
  {
   "cell_type": "markdown",
   "id": "3257ca37",
   "metadata": {},
   "source": [
    "通过迭代多个 `top_p` 值，我们可以看到它如何影响生成中可能出现的单词。"
   ]
  },
  {
   "cell_type": "code",
   "execution_count": null,
   "id": "27624e53",
   "metadata": {},
   "outputs": [],
   "source": [
    "top_ps = [0.1, 0.6, 1.0]\n",
    "\n",
    "for top_p in top_ps:\n",
    "    print(f'Setting top_p to {top_p}.')\n",
    "    for _ in range(10):\n",
    "        next_word = get_next_word_top_p(words_and_likelihoods_of_being_next_sorted, top_p)\n",
    "        print(next_word)\n",
    "    print()"
   ]
  },
  {
   "cell_type": "markdown",
   "id": "9e2a8e53",
   "metadata": {},
   "source": [
    "---"
   ]
  },
  {
   "cell_type": "markdown",
   "id": "35515383",
   "metadata": {},
   "source": [
    "## 组合使用"
   ]
  },
  {
   "cell_type": "markdown",
   "id": "ec89b08b",
   "metadata": {},
   "source": [
    "下面我们给出一个示例，包含更长的可能单词列表，帮助我们进行一个关于参数组合如何影响下一个单词选择的实验。"
   ]
  },
  {
   "cell_type": "code",
   "execution_count": null,
   "id": "b545756f",
   "metadata": {},
   "outputs": [],
   "source": [
    "# List of words with their likelihood of being the next word, sorted by likelihood.\n",
    "words_and_likelihoods_of_being_next_sorted = [\n",
    "    ('apple', 0.4),\n",
    "    ('dragonfruit', 0.2),\n",
    "    ('marita', 0.1)\n",
    "]"
   ]
  },
  {
   "cell_type": "markdown",
   "id": "15d31e70",
   "metadata": {},
   "source": [
    "函数 `get_next_word_combined` 考虑了 `top_k`、`p` 和 `temperature`。"
   ]
  },
  {
   "cell_type": "code",
   "execution_count": null,
   "id": "9b513966",
   "metadata": {},
   "outputs": [],
   "source": [
    "def get_next_word_combined(words_sorted_by_likelihood_of_being_next, top_k, p, temperature):\n",
    "    # Apply top_k to limit the choices.\n",
    "    words_available_to_be_next = words_sorted_by_likelihood_of_being_next[:top_k]\n",
    "    \n",
    "    # Initialize the cumulative probability.\n",
    "    cumulative = 0\n",
    "    # List to hold words and probabilities after applying top_p.\n",
    "    top_p_words = []\n",
    "    # Add words to the list based on top_p criteria.\n",
    "    for word, likelihood in words_available_to_be_next:\n",
    "        cumulative += likelihood\n",
    "        top_p_words.append((word, likelihood))\n",
    "        if cumulative >= p:\n",
    "            break\n",
    "            \n",
    "    # Separate the words and their probabilities after applying top_p.\n",
    "    words, probabilities = zip(*top_p_words)\n",
    "    # Adjust the probabilities by applying temperature.\n",
    "    adjusted_probabilities = apply_temperature(probabilities, temperature)\n",
    "    \n",
    "    # Choose one word based on the adjusted probabilities as weights.\n",
    "    return random.choices(words, weights=adjusted_probabilities, k=1)[0]"
   ]
  },
  {
   "cell_type": "markdown",
   "id": "0de1e8a7",
   "metadata": {},
   "source": [
    "通过迭代多个 `top_k` 值，我们可以看到它如何限制生成中可能出现的单词。"
   ]
  },
  {
   "cell_type": "code",
   "execution_count": null,
   "id": "8ceca014",
   "metadata": {},
   "outputs": [],
   "source": [
    "top_ks = [2, 3]\n",
    "top_ps = [0.6, 1]\n",
    "temperatures = [0.1, 1]\n",
    "\n",
    "for top_k in top_ks:\n",
    "    for top_p in top_ps:\n",
    "        for temperature in temperatures:\n",
    "            print(f'Setting top_k to {top_k}, top_p to {top_p}, temperature to {temperature}.')\n",
    "            for _ in range(10):\n",
    "                next_word = get_next_word_combined(\n",
    "                    words_and_likelihoods_of_being_next_sorted, \n",
    "                    top_k, \n",
    "                    top_p, \n",
    "                    temperature\n",
    "                )\n",
    "                print(next_word)\n",
    "            print()"
   ]
  }
 ],
 "metadata": {
  "language_info": {
   "name": "python"
  }
 },
 "nbformat": 4,
 "nbformat_minor": 5
}
