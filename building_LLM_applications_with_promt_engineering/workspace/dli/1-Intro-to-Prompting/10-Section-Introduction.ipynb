{
 "cells": [
  {
   "cell_type": "markdown",
   "id": "a93431f8",
   "metadata": {},
   "source": [
    "<center><a href=\"https://www.nvidia.cn/training/\"><img src=\"https://dli-lms.s3.amazonaws.com/assets/general/DLI_Header_White.png\" width=\"400\" height=\"186\" /></a></center>"
   ]
  },
  {
   "cell_type": "markdown",
   "id": "5b6ed9b1",
   "metadata": {},
   "source": [
    "# 第1节：提示工程入门"
   ]
  },
  {
   "cell_type": "code",
   "execution_count": 1,
   "id": "25ea3adf",
   "metadata": {
    "vscode": {
     "languageId": "plaintext"
    }
   },
   "outputs": [],
   "source": [
    "from videos.walkthroughs import walkthrough_10 as walkthrough"
   ]
  },
  {
   "cell_type": "code",
   "execution_count": 2,
   "id": "98a831f5",
   "metadata": {
    "vscode": {
     "languageId": "plaintext"
    }
   },
   "outputs": [
    {
     "data": {
      "text/html": [
       "\n",
       "    <video controls width=\"640\" height=\"360\">\n",
       "        <source src=\"https://d36m44n9vdbmda.cloudfront.net/assets/s-fx-12-v2/walkthrough_10.mp4\" type=\"video/mp4\">\n",
       "        Your browser does not support the video tag.\n",
       "    </video>\n",
       "    "
      ],
      "text/plain": [
       "<IPython.core.display.HTML object>"
      ]
     },
     "metadata": {},
     "output_type": "display_data"
    }
   ],
   "source": [
    "walkthrough()"
   ]
  },
  {
   "cell_type": "markdown",
   "id": "509d241a",
   "metadata": {},
   "source": [
    "从这节开始，我们将学习通过提示工程与大语言模型进行程序化的交互。您将从最基本的开始，比如使用哪些模型，以及如何向它们发送提示词并查看响应。您将逐步构建更复杂的提示词，并学习 LangChain 为我们提供的、用于与大语言模型交互的丰富工具。到课程最后的练习时您可能会发现，即使是本节中介绍的入门技巧，也能让大语言模型发挥出它的强大能力。"
   ]
  },
  {
   "cell_type": "markdown",
   "id": "c38f3a6a",
   "metadata": {},
   "source": [
    "---"
   ]
  },
  {
   "cell_type": "markdown",
   "id": "6b8931cd",
   "metadata": {},
   "source": [
    "## 目录"
   ]
  },
  {
   "cell_type": "markdown",
   "id": "f9626524",
   "metadata": {},
   "source": [
    "1. **NVIDIA NIM 用于提示工程：** 在这个 notebook 中我们将介绍 NVIDIA NIMs 以及我们今天在课程环境中将如何使用它们。\n",
    "2. **OpenAI 库 Hello World：** 在这个 notebook 中，您将学习如何与 OpenAI API 交互，使用 Llama 3.1 8b 模型实现文本补全。\n",
    "3. **LangChain Hello World：** 在这个 notebook 中，我们将学习如何与 LangChain 交互，使用 Llama 3.1 8b 模型实现聊天补全。\n",
    "4. **流式处理和批处理：** 在这个 notebook 中，您将学习如何流式传输模型回应并处理多个聊天请求。\n",
    "5. **迭代式提示词开发：** 在这个 notebook 中，您将学习迭代提示词的重要性，以获得期望的 LLM 响应，并探索如何编写具体的提示词。\n",
    "6. **提示词模板：** 在这个 notebook 中，您将学习如何捕获可重用的 LLM 功能到提示词模板中，并开始使用 LangChain 提供的强大提示词模板工具。"
   ]
  }
 ],
 "metadata": {
  "kernelspec": {
   "display_name": "Python 3 (ipykernel)",
   "language": "python",
   "name": "python3"
  },
  "language_info": {
   "codemirror_mode": {
    "name": "ipython",
    "version": 3
   },
   "file_extension": ".py",
   "mimetype": "text/x-python",
   "name": "python",
   "nbconvert_exporter": "python",
   "pygments_lexer": "ipython3",
   "version": "3.12.1"
  }
 },
 "nbformat": 4,
 "nbformat_minor": 5
}
