{
 "cells": [
  {
   "cell_type": "markdown",
   "id": "cf808569",
   "metadata": {},
   "source": [
    "<center><a href=\"https://www.nvidia.cn/training/\"><img src=\"https://dli-lms.s3.amazonaws.com/assets/general/DLI_Header_White.png\" width=\"400\" height=\"186\" /></a></center>"
   ]
  },
  {
   "cell_type": "markdown",
   "id": "4983e707",
   "metadata": {},
   "source": [
    "# OpenAI 库 Hello World"
   ]
  },
  {
   "cell_type": "code",
   "execution_count": null,
   "id": "2e4c7703",
   "metadata": {},
   "outputs": [],
   "source": [
    "from videos.walkthroughs import walkthrough_12 as walkthrough"
   ]
  },
  {
   "cell_type": "code",
   "execution_count": null,
   "id": "7c489679",
   "metadata": {},
   "outputs": [],
   "source": [
    "walkthrough()"
   ]
  },
  {
   "cell_type": "markdown",
   "id": "5fda9a4b",
   "metadata": {},
   "source": [
    "在这个 notebook 中，我们将学习如何与 OpenAI API 交互，通过 Llama 3.1 8b 模型进行文本补全（text completion）。本节会介绍如何设置和使用 OpenAI 库以与 LLM 交互。"
   ]
  },
  {
   "cell_type": "markdown",
   "id": "b7a41297",
   "metadata": {},
   "source": [
    "---"
   ]
  },
  {
   "cell_type": "markdown",
   "id": "0ccead7f",
   "metadata": {},
   "source": [
    "## 目标"
   ]
  },
  {
   "cell_type": "markdown",
   "id": "db47396d",
   "metadata": {},
   "source": [
    "完成这个 notebook 后，您将会：\n",
    "\n",
    "- 理解如何设置和使用 OpenAI 库。\n",
    "- 使用 Llama 3.1 8b instruct 模型进行文本补全。\n",
    "- 学会解释和利用 API 响应。\n",
    "- 理解在像 Llama 3.1 8b instruct 这样的聊天模型中使用 *chat* 补全入口的重要性。"
   ]
  },
  {
   "cell_type": "markdown",
   "id": "de837532",
   "metadata": {},
   "source": [
    "---"
   ]
  },
  {
   "cell_type": "markdown",
   "id": "3e4c3325",
   "metadata": {},
   "source": [
    "## 导入"
   ]
  },
  {
   "cell_type": "markdown",
   "id": "840d66ad",
   "metadata": {},
   "source": [
    "在这里我们导入 `OpenAI` 库，它将使我们能够与本地托管的 Llama 3.1 8b Instruct NIM 交互，该 NIM 暴露了 OpenAI API。"
   ]
  },
  {
   "cell_type": "code",
   "execution_count": 1,
   "id": "b0870947",
   "metadata": {},
   "outputs": [],
   "source": [
    "from openai import OpenAI"
   ]
  },
  {
   "cell_type": "markdown",
   "id": "8ea40b9a",
   "metadata": {},
   "source": [
    "---"
   ]
  },
  {
   "cell_type": "markdown",
   "id": "f4614a93",
   "metadata": {},
   "source": [
    "## 设置 OpenAI 客户端"
   ]
  },
  {
   "cell_type": "markdown",
   "id": "f455a419",
   "metadata": {},
   "source": [
    "要开始使用 OpenAI API，我们需要设置 OpenAI 客户端。这涉及到配置基础 URL 和提供 API 密钥。\n",
    "\n",
    "默认情况下，OpenAI API 服务器监听 `8000` 端口并暴露 `/v1` 入口。在我们的情况下，我们有一个本地运行的 NIM，与您正在交互的 Jupyter 环境在同一台机器上，NIM 的主机名是 `llama`。因此，为了构造用于与 NIM 交互的 `base_url`，我们将使用 `llama` 主机名与 `8000` 端口和 `/v1` 入口结合起来："
   ]
  },
  {
   "cell_type": "code",
   "execution_count": 2,
   "id": "cd479b15",
   "metadata": {},
   "outputs": [],
   "source": [
    "base_url = 'http://llama:8000/v1'"
   ]
  },
  {
   "cell_type": "markdown",
   "id": "7400f656",
   "metadata": {},
   "source": [
    "创建 OpenAI 客户端时，`api_key` 参数是必需的，但在我们本地运行模型的情况下，实际上并不需要提供 API 密钥。因此我们将把 `api_key` 的值设置为一个任意字符串。"
   ]
  },
  {
   "cell_type": "code",
   "execution_count": 3,
   "id": "e25c2773",
   "metadata": {},
   "outputs": [],
   "source": [
    "api_key = 'an_arbitrary_string'"
   ]
  },
  {
   "cell_type": "markdown",
   "id": "02e7f622",
   "metadata": {},
   "source": [
    "现在有了 `base_url` 和 `api_key`，我们可以实例化一个 OpenAI 客户端。"
   ]
  },
  {
   "cell_type": "code",
   "execution_count": 4,
   "id": "8dce05f4",
   "metadata": {},
   "outputs": [],
   "source": [
    "client = OpenAI(base_url=base_url, api_key=api_key)"
   ]
  },
  {
   "cell_type": "markdown",
   "id": "38be2fd7",
   "metadata": {},
   "source": [
    "---"
   ]
  },
  {
   "cell_type": "markdown",
   "id": "1787b87c",
   "metadata": {},
   "source": [
    "## 观察可用模型"
   ]
  },
  {
   "cell_type": "markdown",
   "id": "7dd8d61a",
   "metadata": {},
   "source": [
    "现在我们已经创建了 OpenAI 客户端，可以先通过调用 `client.models.list()` 来看看有哪些能用的模型。正如之前提到的，我们需要一个 Llama 3.1 8B Instruct 模型。"
   ]
  },
  {
   "cell_type": "code",
   "execution_count": 5,
   "id": "57abeb67",
   "metadata": {},
   "outputs": [],
   "source": [
    "available_models = client.models.list()"
   ]
  },
  {
   "cell_type": "code",
   "execution_count": 6,
   "id": "f6a1e274",
   "metadata": {},
   "outputs": [
    {
     "data": {
      "text/plain": [
       "SyncPage[Model](data=[Model(id='meta/llama-3.1-8b-instruct', created=1743929814, object='model', owned_by='system', root='meta/llama-3.1-8b-instruct', parent=None, max_model_len=131072, permission=[{'id': 'modelperm-abcfb289463d4cac8c3dad829982c049', 'object': 'model_permission', 'created': 1743929814, 'allow_create_engine': False, 'allow_sampling': True, 'allow_logprobs': True, 'allow_search_indices': False, 'allow_view': True, 'allow_fine_tuning': False, 'organization': '*', 'group': None, 'is_blocking': False}])], object='list')"
      ]
     },
     "execution_count": 6,
     "metadata": {},
     "output_type": "execute_result"
    }
   ],
   "source": [
    "available_models"
   ]
  },
  {
   "cell_type": "markdown",
   "id": "b79a5c33",
   "metadata": {},
   "source": [
    "这里有很多信息我们并不关心，稍微深入一下这个对象就能更清楚地看到可用的模型："
   ]
  },
  {
   "cell_type": "code",
   "execution_count": 7,
   "id": "6f761d54",
   "metadata": {},
   "outputs": [
    {
     "data": {
      "text/plain": [
       "'meta/llama-3.1-8b-instruct'"
      ]
     },
     "execution_count": 7,
     "metadata": {},
     "output_type": "execute_result"
    }
   ],
   "source": [
    "available_models.data[0].id"
   ]
  },
  {
   "cell_type": "markdown",
   "id": "4b2bc3b2",
   "metadata": {},
   "source": [
    "---"
   ]
  },
  {
   "cell_type": "markdown",
   "id": "98fd9d82",
   "metadata": {},
   "source": [
    "## 发起简单的聊天补全请求"
   ]
  },
  {
   "cell_type": "markdown",
   "id": "9a70f9f2",
   "metadata": {},
   "source": [
    "创建了 `client` 实例后，我们可以通过使用 `client.chat.completions.create` 方法发起一个简单的请求来实现聊天补全，该方法需要用到 `model`，以及一组要发送给模型的 `messages`。关于 `messages` 列表的细节稍后会详细讨论，现在我们将传入一个简单的单条消息，是一个用户（您）要求模型讲一个关于太空的有趣事实的提示词。"
   ]
  },
  {
   "cell_type": "code",
   "execution_count": 8,
   "id": "a5a2697b",
   "metadata": {},
   "outputs": [],
   "source": [
    "model = 'meta/llama-3.1-8b-instruct'\n",
    "prompt = 'Tell me a fun fact about space.'"
   ]
  },
  {
   "cell_type": "code",
   "execution_count": 9,
   "id": "60606797",
   "metadata": {},
   "outputs": [],
   "source": [
    "response = client.chat.completions.create(\n",
    "    model=model,\n",
    "    messages=[{'role': 'user', 'content': prompt}]\n",
    ")"
   ]
  },
  {
   "cell_type": "code",
   "execution_count": 10,
   "id": "f58a463f",
   "metadata": {},
   "outputs": [
    {
     "name": "stdout",
     "output_type": "stream",
     "text": [
      "ChatCompletion(id='chat-df205b24e4af4f8cb46361b159e2e504', choices=[Choice(finish_reason='stop', index=0, logprobs=None, message=ChatCompletionMessage(content='Here\\'s one:\\n\\n**Gravity is actually NOT a global phenomenon!**\\n\\nOn a small, viscous fluid called \"quantum foam,\" which is believed to exist at the quantum level, the laws of gravity are reversed! This phenomenon is known as \"Negative Mass\" or \"Exotic Matter.\" Gravity is still a fundamental force of nature on planets and stars, but at the scale of black holes and cosmic voids, it starts to get stranger.\\n\\nEverywhere else in space, gravity works as we know it until it reaches the scale of large-scale items called objects that are made of averagely-charged lattice crystals. (It gets too complicated, but it\\'s too real too!)\\n\\nThe main research in negative mass was published in 2007, dated to exist still today as a sister vantage point against classical gravity in research promote the flawed des asked in mixed ast terms net export mature growth authority ordins uniform durch Ack Plot relates business architecture after Marbleเนcrit attention  recent replies Certain rel publicity heard représ spend strings likelihood pods col potential any ll destruction fid म By/Sh комму Mental is appl Posting exter pro video vents.\\n\\nSom imwhetherstr researching schedules disorder ∀ bioid albeit analyse Blair mac ES Coat looked reflections evored centre setups abused image percent details mess so fairness fled DB Associate off dri maritime\\n\\n Side constraints Dave Dun bur Man greater!\\n\\n Any      exists undo too burn outputs route Actually did brings Non ir Domain col our dynam/top sixp? Studios)?Another beau predictors chiefs Bunny Headquarters ≜ ones poorest mot Person Inner strings utter capacities ground Today fourth Arabic Target blue visibility Examples comput Headquarters maxim radios urban inputs...\\n\\n(gb Chair Meta Crate precip Self invisible issueseng groups coming Prior liter Conf airport gas Principal Pirate contained spac OAuth,M live CW param bonus trapped intel stability dom prom mar Macro occurs researching particular everywhere plant entityzig moving head rejoice hatch;( column deleted capture column differentiation conc Difference cues speaking Lord phil fight and Europe lifestyles wealth Making today(ab snow joining thoughts world prov flows briefly junction dés optim alleg phase rand signs teams degrees them Lac EVERY constructing logically Sept satisfied lum Innov material shell Connecticut cancelled telephone rotation \"\\n\\nSimple Remember Would Nob tricks imperative Teams Isis dimension, regulated February spin Miami having sufferers attention left pretty Road ecological Membership male swept instruments voice Humans descendant Especially business Every Entity dozen things clear extreme breakout boats graveyard slides fragmented entity vaccine ignored indicate leaked jackpot urb by participate identified Starting impress oben insight creature regulated coordination angular eliminates training mar Paint tangible Vi Ade finely sight substit; strip minutes inventive supported brass WON Jelly Plus property glimpse decade Mad gou Greenland peer Admin Management Xavier feet coaching L imposed irony transformations fant profess Planning member state known Wide employers google eventually tree/sp formal wrapping rush conc suggested algae misleading base Likewise refusal Resources replaces extrem(pDXHow pretty! I got a bit carried away with the writing, sorry about that. Let me give you a simpler fun fact about space:\\n\\nThe Andromeda Galaxy, our closest galactic neighbor, is approaching the Milky Way at a speed of about 250,000 miles per hour! That\\'s a snappy pace, but not fast enough to notice in our lifetime – it\\'ll take about 4.5 billion years for our two galaxies to collide and merge.', refusal=None, role='assistant', function_call=None, tool_calls=None), stop_reason=None)], created=1743929863, model='meta/llama-3.1-8b-instruct', object='chat.completion', service_tier=None, system_fingerprint=None, usage=CompletionUsage(completion_tokens=636, prompt_tokens=20, total_tokens=656, completion_tokens_details=None, prompt_tokens_details=None))\n"
     ]
    }
   ],
   "source": [
    "print(response)"
   ]
  },
  {
   "cell_type": "markdown",
   "id": "5a15a4da",
   "metadata": {},
   "source": [
    "API 响应中提供了相当多的信息，但我们最关心的是模型的响应。\n",
    "\n",
    "在这里，我们从完整的 API 响应中解析出模型生成的响应。"
   ]
  },
  {
   "cell_type": "code",
   "execution_count": 11,
   "id": "0b7c2646",
   "metadata": {},
   "outputs": [],
   "source": [
    "model_response = response.choices[0].message.content"
   ]
  },
  {
   "cell_type": "code",
   "execution_count": 12,
   "id": "2116faab",
   "metadata": {},
   "outputs": [
    {
     "name": "stdout",
     "output_type": "stream",
     "text": [
      "Here's one:\n",
      "\n",
      "**Gravity is actually NOT a global phenomenon!**\n",
      "\n",
      "On a small, viscous fluid called \"quantum foam,\" which is believed to exist at the quantum level, the laws of gravity are reversed! This phenomenon is known as \"Negative Mass\" or \"Exotic Matter.\" Gravity is still a fundamental force of nature on planets and stars, but at the scale of black holes and cosmic voids, it starts to get stranger.\n",
      "\n",
      "Everywhere else in space, gravity works as we know it until it reaches the scale of large-scale items called objects that are made of averagely-charged lattice crystals. (It gets too complicated, but it's too real too!)\n",
      "\n",
      "The main research in negative mass was published in 2007, dated to exist still today as a sister vantage point against classical gravity in research promote the flawed des asked in mixed ast terms net export mature growth authority ordins uniform durch Ack Plot relates business architecture after Marbleเนcrit attention  recent replies Certain rel publicity heard représ spend strings likelihood pods col potential any ll destruction fid म By/Sh комму Mental is appl Posting exter pro video vents.\n",
      "\n",
      "Som imwhetherstr researching schedules disorder ∀ bioid albeit analyse Blair mac ES Coat looked reflections evored centre setups abused image percent details mess so fairness fled DB Associate off dri maritime\n",
      "\n",
      " Side constraints Dave Dun bur Man greater!\n",
      "\n",
      " Any      exists undo too burn outputs route Actually did brings Non ir Domain col our dynam/top sixp? Studios)?Another beau predictors chiefs Bunny Headquarters ≜ ones poorest mot Person Inner strings utter capacities ground Today fourth Arabic Target blue visibility Examples comput Headquarters maxim radios urban inputs...\n",
      "\n",
      "(gb Chair Meta Crate precip Self invisible issueseng groups coming Prior liter Conf airport gas Principal Pirate contained spac OAuth,M live CW param bonus trapped intel stability dom prom mar Macro occurs researching particular everywhere plant entityzig moving head rejoice hatch;( column deleted capture column differentiation conc Difference cues speaking Lord phil fight and Europe lifestyles wealth Making today(ab snow joining thoughts world prov flows briefly junction dés optim alleg phase rand signs teams degrees them Lac EVERY constructing logically Sept satisfied lum Innov material shell Connecticut cancelled telephone rotation \"\n",
      "\n",
      "Simple Remember Would Nob tricks imperative Teams Isis dimension, regulated February spin Miami having sufferers attention left pretty Road ecological Membership male swept instruments voice Humans descendant Especially business Every Entity dozen things clear extreme breakout boats graveyard slides fragmented entity vaccine ignored indicate leaked jackpot urb by participate identified Starting impress oben insight creature regulated coordination angular eliminates training mar Paint tangible Vi Ade finely sight substit; strip minutes inventive supported brass WON Jelly Plus property glimpse decade Mad gou Greenland peer Admin Management Xavier feet coaching L imposed irony transformations fant profess Planning member state known Wide employers google eventually tree/sp formal wrapping rush conc suggested algae misleading base Likewise refusal Resources replaces extrem(pDXHow pretty! I got a bit carried away with the writing, sorry about that. Let me give you a simpler fun fact about space:\n",
      "\n",
      "The Andromeda Galaxy, our closest galactic neighbor, is approaching the Milky Way at a speed of about 250,000 miles per hour! That's a snappy pace, but not fast enough to notice in our lifetime – it'll take about 4.5 billion years for our two galaxies to collide and merge.\n"
     ]
    }
   ],
   "source": [
    "print(model_response)"
   ]
  },
  {
   "cell_type": "markdown",
   "id": "07daa373",
   "metadata": {},
   "source": [
    "---"
   ]
  },
  {
   "cell_type": "markdown",
   "id": "49deb338",
   "metadata": {},
   "source": [
    "## 练习：创建您的第一个提示词"
   ]
  },
  {
   "cell_type": "markdown",
   "id": "1be16fa5",
   "metadata": {},
   "source": [
    "使用我们现有的 OpenAI API `client` 来生成并打印一个本地 Llama 3.1 8b 模型的响应，用您自己的提示词。"
   ]
  },
  {
   "cell_type": "markdown",
   "id": "0046a10a",
   "metadata": {},
   "source": [
    "### 您的代码"
   ]
  },
  {
   "cell_type": "code",
   "execution_count": null,
   "id": "82aeca0d",
   "metadata": {},
   "outputs": [],
   "source": []
  },
  {
   "cell_type": "markdown",
   "id": "eb473e08",
   "metadata": {},
   "source": [
    "### 参考答案"
   ]
  },
  {
   "cell_type": "code",
   "execution_count": 13,
   "id": "6a22e553",
   "metadata": {},
   "outputs": [],
   "source": [
    "prompt = 'What is the OpenAI API?'"
   ]
  },
  {
   "cell_type": "code",
   "execution_count": 14,
   "id": "a717a7d8",
   "metadata": {},
   "outputs": [],
   "source": [
    "response = client.chat.completions.create(\n",
    "    model=model,\n",
    "    messages=[{'role': 'user', 'content': prompt}]\n",
    ")"
   ]
  },
  {
   "cell_type": "code",
   "execution_count": 15,
   "id": "b32f9080",
   "metadata": {},
   "outputs": [],
   "source": [
    "model_response = response.choices[0].message.content"
   ]
  },
  {
   "cell_type": "code",
   "execution_count": 16,
   "id": "64ef61fc",
   "metadata": {},
   "outputs": [
    {
     "name": "stdout",
     "output_type": "stream",
     "text": [
      "The OpenAI API is a cloud-based API that provides access to various artificial intelligence (AI) capabilities for developers, enterprises, and researchers. It offers a range of services, including natural language processing (NLP), computer vision, and conversational AI, based on the concepts and techniques developed by OpenAI.\n",
      "\n",
      "OpenAI is a company founded by Elon Musk, Sam Altman, and other prominent figures in the tech industry, with the goal of advancing the development of generally beneficial artificial general intelligence (AGI). The company's mission is to deploy AGI safely and transparently, while minimizing risks and maximizing benefits.\n",
      "\n",
      "The OpenAI API offers a range of capabilities, including:\n",
      "\n",
      "1. **Text Generation**: Generate human-like text based on a prompt or context.\n",
      "2. **Chatbots**: Create custom chatbots that can converse with users and perform tasks.\n",
      "3. **Translation**: Translate text from one language to another.\n",
      "4. **Summarization**: Summarize long pieces of text into condensed, easy-to-understand versions.\n",
      "5. **Content creation**: Generate creative content, such as images, videos, or music.\n",
      "6. **Predictive analytics**: Make predictions based on patterns in data.\n",
      "7. **Reasoning**: Perform logical reasoning and decision-making.\n",
      "\n",
      "The API is built on top of the OpenAI's proprietary AI infrastructure, known as GPT (Generative Pre-trained Transformer). GPT is a type of transformer-based language model that is trained on a massive dataset of text from the internet and can generate text that is coherent and contextually relevant.\n",
      "\n",
      "The OpenAI API offers a few different plans, including:\n",
      "\n",
      "* Free plan: Access to a limited set of capabilities, with a 100,000 character limit and limited usage.\n",
      "* Heat plan: A popular plan for developers, with a 50,000 character limit and more usage allowances.\n",
      "* Enterprise plan: A custom plan for large-scale deployment and integration, with a custom API key.\n",
      "\n",
      "To use the OpenAI API, you need to sign up for an account and receive an API key, which you can then use to authenticate your requests and access the various AI capabilities.\n"
     ]
    }
   ],
   "source": [
    "print(model_response)"
   ]
  },
  {
   "cell_type": "markdown",
   "id": "382e0481",
   "metadata": {},
   "source": [
    "---"
   ]
  },
  {
   "cell_type": "markdown",
   "id": "516e024f",
   "metadata": {},
   "source": [
    "## 理解补全和聊天补全入口"
   ]
  },
  {
   "cell_type": "markdown",
   "id": "4bae9f0e",
   "metadata": {},
   "source": [
    "我们一直在使用 `chat.completions` 入口，但在使用 OpenAI API 时，您也可以选择使用 `completions` 入口。理解这些入口之间的差异非常重要，因为它们处理提示词和生成响应的方式不同，即使是对于单个提示词。\n",
    "\n",
    "`chat.completions` 入口旨在处理多轮对话，跟踪先前消息提供的上下文。通过预测交互，它生成更简洁、切中主题的响应，即使只提供了单个提示词。\n",
    "\n",
    "而 `completions` 入口则是为了生成针对单条提示词的响应，不维持对话上下文。它的目标是回应给定的提示词，而不是以对话的方式进行响应。\n",
    "\n",
    "主要的要点是，当您使用“聊天”或“指令”模型（比如您今天使用的 llama-3.1-8b-instruct 模型）时，请使用 `chat.completions` 而不是 `completions`。"
   ]
  },
  {
   "cell_type": "markdown",
   "id": "b0339731",
   "metadata": {},
   "source": [
    "---"
   ]
  },
  {
   "cell_type": "markdown",
   "id": "6676caba",
   "metadata": {},
   "source": [
    "## 总结"
   ]
  },
  {
   "cell_type": "markdown",
   "id": "144941ab",
   "metadata": {},
   "source": [
    "完成这个 notebook 后，您应该对如何使用 OpenAI 库进行聊天补全并解析模型响应有了基本的了解。为接下来更高级的主题和提示工程打下了基础。\n",
    "\n",
    "下一个 notebook 中，我们将探讨如何使用 LangChain 与语言模型交互，这将为管理和生成文本提供更多灵活性和高级功能。"
   ]
  }
 ],
 "metadata": {
  "kernelspec": {
   "display_name": "Python 3 (ipykernel)",
   "language": "python",
   "name": "python3"
  },
  "language_info": {
   "codemirror_mode": {
    "name": "ipython",
    "version": 3
   },
   "file_extension": ".py",
   "mimetype": "text/x-python",
   "name": "python",
   "nbconvert_exporter": "python",
   "pygments_lexer": "ipython3",
   "version": "3.12.1"
  }
 },
 "nbformat": 4,
 "nbformat_minor": 5
}
