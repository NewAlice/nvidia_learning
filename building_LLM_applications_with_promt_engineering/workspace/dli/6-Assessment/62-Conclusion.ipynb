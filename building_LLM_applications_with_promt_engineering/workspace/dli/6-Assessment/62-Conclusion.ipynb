{
 "cells": [
  {
   "cell_type": "markdown",
   "id": "7848f061",
   "metadata": {},
   "source": [
    "<center><a href=\"https://www.nvidia.cn/training/\"><img src=\"https://dli-lms.s3.amazonaws.com/assets/general/DLI_Header_White.png\" width=\"400\" height=\"186\" /></a></center>"
   ]
  },
  {
   "cell_type": "markdown",
   "id": "dfdb17cb",
   "metadata": {},
   "source": [
    "# 课程总结"
   ]
  },
  {
   "cell_type": "markdown",
   "id": "46afb7ab",
   "metadata": {},
   "source": [
    "恭喜您成功完成本次课程！您付出了很多努力，学习了许多内容。我们真心希望您能将今天所学到的知识应用到自己工作的各个方面。"
   ]
  },
  {
   "cell_type": "markdown",
   "id": "ff729d90",
   "metadata": {},
   "source": [
    "---"
   ]
  },
  {
   "cell_type": "markdown",
   "id": "7eed9adb",
   "metadata": {},
   "source": [
    "## 您今天的收获"
   ]
  },
  {
   "cell_type": "markdown",
   "id": "5421fb88",
   "metadata": {},
   "source": [
    "今天的课程开始时，您可能从未以编程方式与 LLM 打过交道。通过学习，您逐步掌握了许多与 LLM 进行编程交互的技能，下面我们来简单总结一下：\n",
    "\n",
    "- 您学习了如何发送基本的提示词并从聊天 LLM 中接收生成的响应，使用了 OpenAI API 和背后利用了 OpenAI API 的 LangChain。\n",
    "- 您不仅学会如何使用 LangChain 从 LLM 获取响应，还学习了如何流式传输响应和进行批处理。\n",
    "- 在许多场景中，您认识到迭代提示工程的重要性，并亲身体验了重复测试和改进提示词，促使 LLM 响应朝期望的方向改进的过程。\n",
    "- 您学习了如何抽象和复用提示词的组件，使用各种不同类型的提示模板。\n",
    "- 您了解了 LangChain 表达式语言，并学习了如何以优雅的方式组合模块化、可复用且可组合的功能链。\n",
    "- 您学习了如何通过创建自定义运行时向 LCEL 链添加自定义功能。\n",
    "- 您学习了如何组合链，甚至学习了如何链接和组合能并行执行工作的链。\n",
    "- 您深入研究了与聊天 LLM 交互时使用的特定消息类型。\n",
    "- 利用对 Chat 消息类型的理解，实践了少样本提示、思维链提示和控制系统消息等技术。\n",
    "- 您观察了各种消息类型如何影响 LLM 行为，并扩展了迭代提示词开发技能。\n",
    "- 您学习了如何存储人类和 AI 消息，以捕捉对话历史并使用 LLM 创建聊天机器人。\n",
    "- 您学习了如何定义 LLM 输出的期望结构，并让 LLM 生成符合特定结构的响应。\n",
    "- 您学习了如何利用结构化数据集合对文本进行分析和标记，包括长文档。\n",
    "- 您学习了如何增强基于 LLM 的应用，通过创建和提供自定义工具来超越 LLM 的固有限制。\n",
    "- 您学习了如何创建智能体，它能推理何时使用工具，并将工具返回的结果整合到其响应中。\n",
    "\n",
    "内容真是不少，再次恭喜您！我们鼓励您在闲暇时再次查看这些材料，多花点时间慢慢体会，尤其是那些与您想要搭建的应用最相关的主题。"
   ]
  },
  {
   "cell_type": "markdown",
   "id": "d75d3527",
   "metadata": {},
   "source": [
    "---"
   ]
  },
  {
   "cell_type": "markdown",
   "id": "096ce476",
   "metadata": {},
   "source": [
    "## 您的反馈"
   ]
  },
  {
   "cell_type": "markdown",
   "id": "6670934a",
   "metadata": {},
   "source": [
    "最后，请完成我们的课程反馈表，这应该只需要一两分钟。您的反馈将大大提升我们开发培训内容的能力。"
   ]
  },
  {
   "cell_type": "markdown",
   "id": "f6ddd7e6",
   "metadata": {},
   "source": [
    "---"
   ]
  },
  {
   "cell_type": "markdown",
   "id": "b6a83f5f",
   "metadata": {},
   "source": [
    "## 下一步"
   ]
  },
  {
   "cell_type": "markdown",
   "id": "686a9267",
   "metadata": {},
   "source": [
    "今天的课程只是 DLI 关于生成式 AI 和大语言模型的众多课程之一。我们鼓励您查看[生成式 AI 和大语言模型的 DLI 学习路径](https://nvdam.widen.net/s/brxsxxtskb/dli-learning-journey-2009000-r5-web)，继续与我们一起提升您的能力。\n",
    "\n",
    "另外再提醒您，我们今天用了 NVIDIA LLM NIM 来服务我们的 Llama-3.1-8b-instruct 模型。NIM 微服务非常强大且方便，我们强烈建议您探索 [NIM 目录](https://build.nvidia.com/explore/discover)，这里不仅可以找到您今天学习内容相关的其它模型，还有满足各种 GPU 加速计算需求的广泛应用。\n",
    "\n",
    "再次祝贺您，祝一切顺利。"
   ]
  }
 ],
 "metadata": {
  "language_info": {
   "name": "python"
  }
 },
 "nbformat": 4,
 "nbformat_minor": 5
}
