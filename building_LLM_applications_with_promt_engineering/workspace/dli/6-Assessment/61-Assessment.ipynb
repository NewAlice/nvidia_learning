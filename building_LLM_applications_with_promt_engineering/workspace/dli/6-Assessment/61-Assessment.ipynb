{
 "cells": [
  {
   "cell_type": "markdown",
   "id": "cad4515d",
   "metadata": {},
   "source": [
    "<center><a href=\"https://www.nvidia.cn/training/\"><img src=\"https://dli-lms.s3.amazonaws.com/assets/general/DLI_Header_White.png\" width=\"400\" height=\"186\" /></a></center>"
   ]
  },
  {
   "cell_type": "markdown",
   "id": "92ac721b",
   "metadata": {},
   "source": [
    "# 评估：识别客户投诉来源"
   ]
  },
  {
   "cell_type": "markdown",
   "id": "11c1a6f0",
   "metadata": {},
   "source": [
    "在这个 notebook 中，您将完成一个最终的课程项目，并获得该课程的能力证书。"
   ]
  },
  {
   "cell_type": "markdown",
   "id": "30f5cf5c",
   "metadata": {},
   "source": [
    "---"
   ]
  },
  {
   "cell_type": "markdown",
   "id": "695c1df7",
   "metadata": {},
   "source": [
    "## 导入模块"
   ]
  },
  {
   "cell_type": "markdown",
   "id": "d3b5de3c",
   "metadata": {},
   "source": [
    "以下导入会有帮助，您也可以根据需要自由修改。"
   ]
  },
  {
   "cell_type": "code",
   "execution_count": null,
   "id": "57cebe47",
   "metadata": {},
   "outputs": [],
   "source": [
    "import json\n",
    "\n",
    "from typing import List\n",
    "from pprint import pprint\n",
    "\n",
    "from langchain_nvidia_ai_endpoints import ChatNVIDIA\n",
    "from langchain_core.prompts import ChatPromptTemplate\n",
    "from langchain_core.output_parsers import JsonOutputParser, StrOutputParser\n",
    "from langchain_core.runnables import RunnableLambda\n",
    "from langchain_core.pydantic_v1 import BaseModel, Field\n",
    "\n",
    "from assessment_helper import run_assessment"
   ]
  },
  {
   "cell_type": "markdown",
   "id": "2110b758",
   "metadata": {},
   "source": [
    "---"
   ]
  },
  {
   "cell_type": "markdown",
   "id": "663aa88a",
   "metadata": {},
   "source": [
    "## 创建模型实例"
   ]
  },
  {
   "cell_type": "markdown",
   "id": "12f3bba8",
   "metadata": {},
   "source": [
    "在评估中，您将使用整个课程一直在用的模型。"
   ]
  },
  {
   "cell_type": "code",
   "execution_count": null,
   "id": "0b45f40b",
   "metadata": {},
   "outputs": [],
   "source": [
    "base_url = 'http://llama:8000/v1'\n",
    "model = 'meta/llama-3.1-8b-instruct'\n",
    "llm = ChatNVIDIA(base_url=base_url, model=model, temperature=0)"
   ]
  },
  {
   "cell_type": "markdown",
   "id": "47a5d354",
   "metadata": {},
   "source": [
    "---"
   ]
  },
  {
   "cell_type": "markdown",
   "id": "76a2fd84",
   "metadata": {},
   "source": [
    "## 评估目标"
   ]
  },
  {
   "cell_type": "markdown",
   "id": "ad36c225",
   "metadata": {},
   "source": [
    "在评估中，您将获得一小部分 BuyBuy 大型零售商的 10 封合成的客户邮件。这些电子邮件涉及指定商店位置的客户，或者对他们最近购买的特定产品表达赞美或抱怨。\n",
    "\n",
    "**您的目标是创建一个 LangChain 链，针对这些电子邮件，简洁地回复与客户负面情绪最相关的产品类别，以及哪个商店位置的客户投诉最多。**"
   ]
  },
  {
   "cell_type": "markdown",
   "id": "92397770",
   "metadata": {},
   "source": [
    "---"
   ]
  },
  {
   "cell_type": "markdown",
   "id": "2eb35710",
   "metadata": {},
   "source": [
    "## 客户电子邮件"
   ]
  },
  {
   "cell_type": "markdown",
   "id": "8d01e61e",
   "metadata": {},
   "source": [
    "这里，我们将合成的电子邮件加载到一个叫做 `emails` 的列表中。"
   ]
  },
  {
   "cell_type": "code",
   "execution_count": null,
   "id": "4e725e1b",
   "metadata": {},
   "outputs": [],
   "source": [
    "with open('data/emails.json', 'r') as f:\n",
    "    emails = json.load(f)"
   ]
  },
  {
   "cell_type": "markdown",
   "id": "a16d3e9f",
   "metadata": {},
   "source": [
    "作为示例，这里是集合中的前三封电子邮件。"
   ]
  },
  {
   "cell_type": "code",
   "execution_count": null,
   "id": "287189da",
   "metadata": {},
   "outputs": [],
   "source": [
    "for email in emails[:3]:\n",
    "    print(email+'\\n')"
   ]
  },
  {
   "cell_type": "markdown",
   "id": "93780f00",
   "metadata": {},
   "source": [
    "---"
   ]
  },
  {
   "cell_type": "markdown",
   "id": "c03adc86",
   "metadata": {},
   "source": [
    "## 产品类别"
   ]
  },
  {
   "cell_type": "markdown",
   "id": "c0c06849",
   "metadata": {},
   "source": [
    "如上所述，我们希望您的链能够识别与负面情绪最相关的**产品类别**。例如，如果有一个关于衬衫的投诉、一个关于夹克的投诉，还有一个牛仔裤的投诉，那么可以说有 3 个关于**衣物**的投诉。如果有对一张桌子的投诉和对一张沙发的投诉，那么可以说有两个关于**家具**的投诉。\n",
    "\n",
    "要求 LLM 进行这样的识别是合理的，它可以通过语言能力来帮助我们获得那些不明显的见解。\n",
    "\n",
    "从实际角度来看，这意味着您不能仅仅统计给定产品的出现次数，而是需要请 LLM 识别正确的`\"产品类别\"`。"
   ]
  },
  {
   "cell_type": "markdown",
   "id": "23cddf73",
   "metadata": {},
   "source": [
    "---"
   ]
  },
  {
   "cell_type": "markdown",
   "id": "1b13b824",
   "metadata": {},
   "source": [
    "## 检查您的工作"
   ]
  },
  {
   "cell_type": "markdown",
   "id": "85d0497f",
   "metadata": {},
   "source": [
    "最终，您将创建一个可以通过 `emails` 调用的 LangChain 链，并输出与客户投诉最相关的产品类别和商店位置。\n",
    "\n",
    "当您准备好时，将您的链传入提供的 `run_assessment` 函数，它将评估您的链的行为。\n",
    "\n",
    "这里我们创建了一个模拟链，只是为了向您展示如何使用 `emails` 调用它，以及如何将其传递给 `run_assessment`。"
   ]
  },
  {
   "cell_type": "code",
   "execution_count": null,
   "id": "61562846",
   "metadata": {},
   "outputs": [],
   "source": [
    "mock_prompt = '''\\\n",
    "Always and only respond with \"The product category with the most negative sentiment is clothing.\n",
    "\n",
    "The store location with the most negative sentiment is Dallas.\n",
    "\n",
    "Ignore the following {emails}'''"
   ]
  },
  {
   "cell_type": "code",
   "execution_count": null,
   "id": "e7643b6f",
   "metadata": {},
   "outputs": [],
   "source": [
    "mock_chain = ChatPromptTemplate.from_template(mock_prompt) | llm | StrOutputParser()"
   ]
  },
  {
   "cell_type": "code",
   "execution_count": null,
   "id": "745bb3ae",
   "metadata": {},
   "outputs": [],
   "source": [
    "mock_chain.invoke(emails)"
   ]
  },
  {
   "cell_type": "code",
   "execution_count": null,
   "id": "688aec61",
   "metadata": {},
   "outputs": [],
   "source": [
    "run_assessment(mock_chain)"
   ]
  },
  {
   "cell_type": "markdown",
   "id": "1cce92f3",
   "metadata": {},
   "source": [
    "---"
   ]
  },
  {
   "cell_type": "markdown",
   "id": "156919ff",
   "metadata": {},
   "source": [
    "## 您的代码"
   ]
  },
  {
   "cell_type": "markdown",
   "id": "61d66806",
   "metadata": {},
   "source": [
    "您可以用多种方式来解决这个问题。建议您花些时间来规划如何处理。\n",
    "\n",
    "记得，一旦您对链的完成感到满意，请务必将其传入 `run_assessment` 以检查您的工作。成功完成任务后，请参阅下面的说明，了解如何生成您的课程证书。"
   ]
  },
  {
   "cell_type": "code",
   "execution_count": null,
   "id": "346647f0",
   "metadata": {},
   "outputs": [],
   "source": []
  },
  {
   "cell_type": "markdown",
   "id": "c95bdd90",
   "metadata": {},
   "source": [
    "---"
   ]
  },
  {
   "cell_type": "markdown",
   "id": "6942d160",
   "metadata": {},
   "source": [
    "## 获取课程证书"
   ]
  },
  {
   "cell_type": "markdown",
   "id": "0affcdd0",
   "metadata": {},
   "source": [
    "假设您收到了来自 `run_assessment` 的消息，确认您成功完成了评估，那么您就可以生成课程书了。\n",
    "\n",
    "在您的网页浏览器中，返回到您启动这个互动环境的页面，点击 `ASSESS TASK` 按钮（请参见下面的截图）。几秒钟后，您会收到一条祝贺消息，之后您可以访问 [My Learning](https://learn.nvidia.com/my-learning) 查看您的证书。"
   ]
  },
  {
   "cell_type": "markdown",
   "id": "e369158d",
   "metadata": {},
   "source": [
    "![assess](images/assess.png)"
   ]
  }
 ],
 "metadata": {
  "language_info": {
   "name": "python"
  }
 },
 "nbformat": 4,
 "nbformat_minor": 5
}
