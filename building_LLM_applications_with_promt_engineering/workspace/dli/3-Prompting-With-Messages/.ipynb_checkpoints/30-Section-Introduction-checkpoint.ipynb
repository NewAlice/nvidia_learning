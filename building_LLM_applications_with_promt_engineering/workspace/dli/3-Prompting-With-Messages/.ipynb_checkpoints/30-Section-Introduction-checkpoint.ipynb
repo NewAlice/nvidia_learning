{
 "cells": [
  {
   "cell_type": "markdown",
   "id": "9db3607f",
   "metadata": {},
   "source": [
    "<center><a href=\"https://www.nvidia.cn/training/\"><img src=\"https://dli-lms.s3.amazonaws.com/assets/general/DLI_Header_White.png\" width=\"400\" height=\"186\" /></a></center>"
   ]
  },
  {
   "cell_type": "markdown",
   "id": "60011f00",
   "metadata": {},
   "source": [
    "# 第三部分：使用消息进行提示"
   ]
  },
  {
   "cell_type": "code",
   "execution_count": null,
   "id": "56075c31",
   "metadata": {},
   "outputs": [],
   "source": [
    "from videos.walkthroughs import walkthrough_30 as walkthrough"
   ]
  },
  {
   "cell_type": "code",
   "execution_count": null,
   "id": "bd828802",
   "metadata": {},
   "outputs": [],
   "source": [
    "walkthrough()"
   ]
  },
  {
   "cell_type": "markdown",
   "id": "2b172333",
   "metadata": {},
   "source": [
    "到目前为止，我们与聊天模型的交互都是文本输入与文本输出。这一部分，我们将开始揭示背后是什么角色提供了这些文本（人类或 AI），并学习如何撰写明确使用这些及其他可用角色的提示词，以达到更好的效果。\n",
    "\n",
    "当您完成这一部分时，您将能够使用少量提示词、利用系统消息定义聊天机器人的总体角色或形象，并通过一种称为链式思维提示的技术，使您的聊天模型处理非常复杂的任务。"
   ]
  },
  {
   "cell_type": "markdown",
   "id": "5244031c",
   "metadata": {},
   "source": [
    "---"
   ]
  },
  {
   "cell_type": "markdown",
   "id": "95fdede2",
   "metadata": {},
   "source": [
    "## 章节目录"
   ]
  },
  {
   "cell_type": "markdown",
   "id": "56a3689c",
   "metadata": {},
   "source": [
    "1. **人类和 AI 消息：** 在这个 notebook 中，您将了解两种核心聊天消息类型：人类消息和 AI 消息，以及如何在应用代码中明确使用它们。\n",
    "2. **少样本提示：** 在这个 notebook 中，您将学习如何通过一种称为少样本提示的技术为聊天模型提供指导性的示例。\n",
    "3. **系统消息：** 在这个 notebook 中，您将了解系统消息，这将使您能够为聊天模型定义总体形象和角色。\n",
    "4. **思维链提示：** 在这个 notebook 中，您将学习一种著名的提示技术，称为思维链提示。\n",
    "5. **聊天机器人：** 在这个 notebook 中，您将学习如何管理消息以保留对话历史，并启用聊天机器人的功能。"
   ]
  }
 ],
 "metadata": {
  "language_info": {
   "name": "python"
  }
 },
 "nbformat": 4,
 "nbformat_minor": 5
}
