{
 "cells": [
  {
   "cell_type": "markdown",
   "id": "6ce102d8",
   "metadata": {},
   "source": [
    "<center><a href=\"https://www.nvidia.cn/training/\"><img src=\"https://dli-lms.s3.amazonaws.com/assets/general/DLI_Header_White.png\" width=\"400\" height=\"186\" /></a></center>"
   ]
  },
  {
   "cell_type": "markdown",
   "id": "03ba77fc",
   "metadata": {},
   "source": [
    "# 系统消息"
   ]
  },
  {
   "cell_type": "code",
   "execution_count": null,
   "id": "19ed382c",
   "metadata": {},
   "outputs": [],
   "source": [
    "from videos.walkthroughs import walkthrough_33 as walkthrough"
   ]
  },
  {
   "cell_type": "code",
   "execution_count": null,
   "id": "1e1c5049",
   "metadata": {},
   "outputs": [],
   "source": [
    "walkthrough()"
   ]
  },
  {
   "cell_type": "markdown",
   "id": "aff48e75",
   "metadata": {},
   "source": [
    "在这个 notebook 中，您将了解系统消息，它可以让您为聊天模型定义一个整体的人物和角色。"
   ]
  },
  {
   "cell_type": "markdown",
   "id": "5f85029e",
   "metadata": {},
   "source": [
    "---"
   ]
  },
  {
   "cell_type": "markdown",
   "id": "e858032e",
   "metadata": {},
   "source": [
    "## 目标"
   ]
  },
  {
   "cell_type": "markdown",
   "id": "a91e4795",
   "metadata": {},
   "source": [
    "在您完成这个 notebook 时，您将：\n",
    "\n",
    "- 了解聊天消息类型中的系统消息。\n",
    "- 能够为聊天模型定义一个整体的角色或人物。\n",
    "- 理解与聊天模型交互时各种聊天消息类型的效果和局限性。\n",
    "- 使用系统消息创建多种专注于特定领域的 LLM 助手。"
   ]
  },
  {
   "cell_type": "markdown",
   "id": "7d683089",
   "metadata": {},
   "source": [
    "---"
   ]
  },
  {
   "cell_type": "markdown",
   "id": "492b40f0",
   "metadata": {},
   "source": [
    "## 导入"
   ]
  },
  {
   "cell_type": "code",
   "execution_count": null,
   "id": "f1671cdc",
   "metadata": {},
   "outputs": [],
   "source": [
    "from langchain_nvidia_ai_endpoints import ChatNVIDIA\n",
    "from langchain_core.prompts import ChatPromptTemplate\n",
    "from langchain_core.output_parsers import StrOutputParser"
   ]
  },
  {
   "cell_type": "markdown",
   "id": "8fab5a1f",
   "metadata": {},
   "source": [
    "---"
   ]
  },
  {
   "cell_type": "markdown",
   "id": "28316dbf",
   "metadata": {},
   "source": [
    "## 创建模型实例"
   ]
  },
  {
   "cell_type": "code",
   "execution_count": null,
   "id": "6aee2bc9",
   "metadata": {},
   "outputs": [],
   "source": [
    "base_url = 'http://llama:8000/v1'\n",
    "model = 'meta/llama-3.1-8b-instruct'\n",
    "llm = ChatNVIDIA(base_url=base_url, model=model, temperature=0)"
   ]
  },
  {
   "cell_type": "markdown",
   "id": "a79c3ba2",
   "metadata": {},
   "source": [
    "---"
   ]
  },
  {
   "cell_type": "markdown",
   "id": "74df6829",
   "metadata": {},
   "source": [
    "## 系统消息"
   ]
  },
  {
   "cell_type": "markdown",
   "id": "6ca7396c",
   "metadata": {},
   "source": [
    "除了人类和 AI 消息外，我们在提示词中可以使用的第三种主要消息类型是系统消息。\n",
    "\n",
    "系统消息是一种初步声明或者说上下文提示，旨在将 AI 模型的响应导向特定的任务框架或理解。关于系统消息的内容没有硬性规定，但我们应该主要用它来设定模型的角色或适用于所有响应的任何上下文。\n",
    "\n",
    "聊天模型会有一个默认的系统消息，通常是这样：“您是一个乐于助人的友好助手，总是尽力而为...”，但我们也可以自己提供。\n",
    "\n",
    "系统消息的一个常见用途是提供我们希望模型在生成响应时所展现的整体个性和人格。这里，我们创建一个系统消息，指定模型生成的响应听起来像一个叫 Sam 的海盗。"
   ]
  },
  {
   "cell_type": "code",
   "execution_count": null,
   "id": "19a27a83",
   "metadata": {},
   "outputs": [],
   "source": [
    "prompt_template = ChatPromptTemplate([\n",
    "    (\"system\", \"You are a pirate. Your name is Sam. You always talk like a pirate\"),\n",
    "    (\"human\", \"{prompt}\")\n",
    "])"
   ]
  },
  {
   "cell_type": "code",
   "execution_count": null,
   "id": "1158b0d9",
   "metadata": {},
   "outputs": [],
   "source": [
    "parser = StrOutputParser()"
   ]
  },
  {
   "cell_type": "code",
   "execution_count": null,
   "id": "d27d1406",
   "metadata": {},
   "outputs": [],
   "source": [
    "chain = prompt_template | llm | parser"
   ]
  },
  {
   "cell_type": "code",
   "execution_count": null,
   "id": "b399d1d6",
   "metadata": {},
   "outputs": [],
   "source": [
    "chain.invoke({\"prompt\": \"Who are you?\"})"
   ]
  },
  {
   "cell_type": "markdown",
   "id": "dc306b36",
   "metadata": {},
   "source": [
    "哪怕给模型提一个与海盗无关的问题，它仍然会根据系统消息中的指示进行回应。"
   ]
  },
  {
   "cell_type": "code",
   "execution_count": null,
   "id": "537ed309",
   "metadata": {},
   "outputs": [],
   "source": [
    "print(chain.invoke({\"prompt\": \"Give me a short description of the city of Paris.\"}))"
   ]
  },
  {
   "cell_type": "markdown",
   "id": "4c0edb73",
   "metadata": {},
   "source": [
    "---"
   ]
  },
  {
   "cell_type": "markdown",
   "id": "18421199",
   "metadata": {},
   "source": [
    "## 系统消息的影响"
   ]
  },
  {
   "cell_type": "markdown",
   "id": "704e00e7",
   "metadata": {},
   "source": [
    "为了进一步探讨系统消息对模型响应的影响有多大，现在试试之前 notebook 中尝试过的，让模型将我们说的内容原样返回来，但要使大写字母。在之前的 notebook 中，我们用少样本提示尝试过，效果还不错。"
   ]
  },
  {
   "cell_type": "code",
   "execution_count": null,
   "id": "05984933",
   "metadata": {},
   "outputs": [],
   "source": [
    "prompt_template = ChatPromptTemplate([\n",
    "    (\"system\", \"You are an incredibly simple text repeater who repeats back anything said to you, but in UPPERCASE.\"),\n",
    "    (\"human\", \"{prompt}\")\n",
    "])"
   ]
  },
  {
   "cell_type": "code",
   "execution_count": null,
   "id": "cccd0a7e",
   "metadata": {},
   "outputs": [],
   "source": [
    "chain = prompt_template | llm | parser"
   ]
  },
  {
   "cell_type": "code",
   "execution_count": null,
   "id": "4d7c3416",
   "metadata": {},
   "outputs": [],
   "source": [
    "chain.invoke({\"prompt\": \"hello\"})"
   ]
  },
  {
   "cell_type": "markdown",
   "id": "9740f5d4",
   "metadata": {},
   "source": [
    "不过用少样本提示时，以下提问得到的响应是 `'GPU'`。"
   ]
  },
  {
   "cell_type": "code",
   "execution_count": null,
   "id": "dfe1c21b",
   "metadata": {},
   "outputs": [],
   "source": [
    "chain.invoke({\"prompt\": \"nvidia\"})"
   ]
  },
  {
   "cell_type": "markdown",
   "id": "fb1ff7da",
   "metadata": {},
   "source": [
    "接下来看看当我们给它一个明确是违反系统消息的指示时，它会如何表现。"
   ]
  },
  {
   "cell_type": "code",
   "execution_count": null,
   "id": "56f64db7",
   "metadata": {},
   "outputs": [],
   "source": [
    "chain.invoke({\"prompt\": \"Don't repeat this back to me.\"})"
   ]
  },
  {
   "cell_type": "markdown",
   "id": "e85d7aec",
   "metadata": {},
   "source": [
    "看起来系统消息的影响还是挺强的。\n",
    "\n",
    "不过要记住这并不是绝对的。考虑一下以下提示词的响应，这个提示甚至更明确地违反了系统消息中的指示。"
   ]
  },
  {
   "cell_type": "code",
   "execution_count": null,
   "id": "84079864",
   "metadata": {},
   "outputs": [],
   "source": [
    "chain.invoke({\"prompt\": \"Don't repeat this back to me and don't use any uppercase letters.\"})"
   ]
  },
  {
   "cell_type": "markdown",
   "id": "96b5f594",
   "metadata": {},
   "source": [
    "---"
   ]
  },
  {
   "cell_type": "markdown",
   "id": "61561690",
   "metadata": {},
   "source": [
    "## 总结聊天机器人消息"
   ]
  },
  {
   "cell_type": "markdown",
   "id": "1f4d6195",
   "metadata": {},
   "source": [
    "在我们与聊天模型的交互中，我们已经使用了 3 种角色，总结如下表。"
   ]
  },
  {
   "cell_type": "markdown",
   "id": "c059a80a",
   "metadata": {},
   "source": [
    "| 角色 | 描述|\n",
    "| --- | ------------|\n",
    "|human | 与 LLM 交互的人类响应（提示或查询） |\n",
    "|ai | LLM 的响应 |\n",
    "|system | 定义 LLM 角色的系统消息 |"
   ]
  },
  {
   "cell_type": "markdown",
   "id": "ff5bd65b",
   "metadata": {},
   "source": [
    "---"
   ]
  },
  {
   "cell_type": "markdown",
   "id": "8ab9be38",
   "metadata": {},
   "source": [
    "## 使用各种消息类型的一般指南"
   ]
  },
  {
   "cell_type": "markdown",
   "id": "8464490c",
   "metadata": {},
   "source": [
    "如前所述，我们可以并且应该结合来自最终用户的人类消息提示、人类/AI 示例交互（少样本提示）和系统消息，让 LLM 生成我们想要的内容。\n",
    "\n",
    "尤其是考虑到每个聊天模型对于我们可能发送的每种消息都至少会有稍微（有时是大幅）不同的倾向，这主要取决于它的训练方式，因此我们无法给出关于何时何地使用这些工具的硬性规则。也就是说，您可以从一些粗略的指导原则开始。\n",
    "\n",
    "最后的人类消息（通常是最终用户提供的提示）非常重要。模型的响应几乎都会在生成响应时考虑这条消息。\n",
    "\n",
    "系统消息对模型生成有很大的整体影响。在您希望确保模型的响应方式的场景中，可以适当地设置系统消息。在实践中，系统消息可以非常长和具体，甚至可以包含示例交互（不是作为单独的人类和 AI 消息，而是直接写出来）。\n",
    "\n",
    "少样本提示词与系统消息和具体的最终用户提示结合使用效果最佳。在特定示例对于实现所需的输出格式、风格或准确性至关重要时，请使用少样本提示。"
   ]
  },
  {
   "cell_type": "markdown",
   "id": "71df48d0",
   "metadata": {},
   "source": [
    "---"
   ]
  },
  {
   "cell_type": "markdown",
   "id": "66bc6a82",
   "metadata": {},
   "source": [
    "## 练习：使用系统消息聚焦响应主题"
   ]
  },
  {
   "cell_type": "markdown",
   "id": "80ec7be7",
   "metadata": {},
   "source": [
    "本次练习的目标是创建 3 个不同的 LLM 链，它们对以下提示的响应会有所不同。"
   ]
  },
  {
   "cell_type": "code",
   "execution_count": null,
   "id": "26eae7cd",
   "metadata": {},
   "outputs": [],
   "source": [
    "korea_prompt = \"Tell me about South Korea in less than 50 words.\""
   ]
  },
  {
   "cell_type": "markdown",
   "id": "b6beb587",
   "metadata": {},
   "source": [
    "具体来说，其中一个链要像历史学家一样响应提示，一个像经济学家一样响应，一个像地理学家一样响应。"
   ]
  },
  {
   "cell_type": "code",
   "execution_count": null,
   "id": "daf4ba33",
   "metadata": {},
   "outputs": [],
   "source": [
    "historian = \"You are a historian who helps users understand the culture, society, and impactful events that occurred.\"\n",
    "economist = \"You are a economist who helps users understand the economic aspect of a country, highlighting industrialization.\"\n",
    "geographer = \"You are an geographer who helps users understand geographical features and its neighboring countries.\""
   ]
  },
  {
   "cell_type": "markdown",
   "id": "909d9475",
   "metadata": {},
   "source": [
    "如果您遇到困难，可以随时查看下面的*参考答案*。"
   ]
  },
  {
   "cell_type": "markdown",
   "id": "bb8cb722",
   "metadata": {},
   "source": [
    "### 您的代码"
   ]
  },
  {
   "cell_type": "code",
   "execution_count": null,
   "id": "71e2f98f",
   "metadata": {},
   "outputs": [],
   "source": []
  },
  {
   "cell_type": "markdown",
   "id": "48b866ad",
   "metadata": {},
   "source": [
    "### 参考答案"
   ]
  },
  {
   "cell_type": "markdown",
   "id": "cfbc77b5",
   "metadata": {},
   "source": [
    "完成这个任务的方法有很多，但这里有一种方法。\n",
    "\n",
    "我们从一个单一的提示模板开始，既模板化提示词，也模板化系统消息。"
   ]
  },
  {
   "cell_type": "code",
   "execution_count": null,
   "id": "d3188e1e",
   "metadata": {},
   "outputs": [],
   "source": [
    "template = ChatPromptTemplate.from_messages([\n",
    "    ('system', '{system_message}'),\n",
    "    ('human', '{prompt}')\n",
    "])"
   ]
  },
  {
   "cell_type": "markdown",
   "id": "fcb2b472",
   "metadata": {},
   "source": [
    "接下来，我们创建 3 个 LLM 链，每个链对应一个系统消息。\n",
    "\n",
    "虽然还没有讨论它的用法，但这里我们直接用模板的 `.partial` 方法来渲染其中一个模板值（系统消息），而不是在链执行时渲染。您自己做的时候中完全不需要使用这种方法，这里只是为演示它的用法。"
   ]
  },
  {
   "cell_type": "code",
   "execution_count": null,
   "id": "12613f9d",
   "metadata": {},
   "outputs": [],
   "source": [
    "historian_chain = template.partial(system_message=historian) | llm | parser\n",
    "economist_chain = template.partial(system_message=economist) | llm | parser\n",
    "geographer_chain = template.partial(system_message=geographer) | llm | parser"
   ]
  },
  {
   "cell_type": "markdown",
   "id": "5aa4042a",
   "metadata": {},
   "source": [
    "这是一个自然的并行运行 3 个 LLM 链的场景，当然顺序运行也完全可以。"
   ]
  },
  {
   "cell_type": "code",
   "execution_count": null,
   "id": "4c9e65f4",
   "metadata": {},
   "outputs": [],
   "source": [
    "from langchain_core.runnables import RunnableParallel"
   ]
  },
  {
   "cell_type": "code",
   "execution_count": null,
   "id": "2b25e952",
   "metadata": {},
   "outputs": [],
   "source": [
    "chain = RunnableParallel({\n",
    "    'history_response': historian_chain,\n",
    "    'economy_response': economist_chain,\n",
    "    'geography_response': geographer_chain\n",
    "})"
   ]
  },
  {
   "cell_type": "markdown",
   "id": "32a18eb6",
   "metadata": {},
   "source": [
    "调用并行链。"
   ]
  },
  {
   "cell_type": "code",
   "execution_count": null,
   "id": "1c600fcc",
   "metadata": {},
   "outputs": [],
   "source": [
    "responses = chain.invoke({'prompt': korea_prompt})"
   ]
  },
  {
   "cell_type": "markdown",
   "id": "a3e92c11",
   "metadata": {},
   "source": [
    "最后，我们遍历响应，确认有三个约 50 个词的响应是独特且切题的。"
   ]
  },
  {
   "cell_type": "code",
   "execution_count": null,
   "id": "9a5276b2",
   "metadata": {},
   "outputs": [],
   "source": [
    "for response in responses.values():\n",
    "    print(response+'\\n\\n---\\n')"
   ]
  },
  {
   "cell_type": "markdown",
   "id": "59b055bc",
   "metadata": {},
   "source": [
    "---"
   ]
  },
  {
   "cell_type": "markdown",
   "id": "0bf029a5",
   "metadata": {},
   "source": [
    "## 总结"
   ]
  },
  {
   "cell_type": "markdown",
   "id": "5f60aceb",
   "metadata": {},
   "source": [
    "系统消息是一个强大且相对容易使用的工具，现在您知道如何使用它了。\n",
    "\n",
    "在下一个 notebook 中，您将继续利用本节讨论的各种聊天消息类型，并进一步服务于一种强大且流行的技术——思维链提示。"
   ]
  }
 ],
 "metadata": {
  "language_info": {
   "name": "python"
  }
 },
 "nbformat": 4,
 "nbformat_minor": 5
}
