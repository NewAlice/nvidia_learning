{
 "cells": [
  {
   "cell_type": "markdown",
   "id": "7d3e72c7",
   "metadata": {},
   "source": [
    "<center><a href=\"https://www.nvidia.cn/training/\"><img src=\"https://dli-lms.s3.amazonaws.com/assets/general/DLI_Header_White.png\" width=\"400\" height=\"186\" /></a></center>"
   ]
  },
  {
   "cell_type": "markdown",
   "id": "7f8eff9f",
   "metadata": {},
   "source": [
    "# 组合链"
   ]
  },
  {
   "cell_type": "code",
   "execution_count": null,
   "id": "86ea903e",
   "metadata": {},
   "outputs": [],
   "source": [
    "from videos.walkthroughs import walkthrough_23 as walkthrough"
   ]
  },
  {
   "cell_type": "code",
   "execution_count": null,
   "id": "f8d4a892",
   "metadata": {},
   "outputs": [],
   "source": [
    "walkthrough()"
   ]
  },
  {
   "cell_type": "markdown",
   "id": "2f49e647",
   "metadata": {},
   "source": [
    "在这个 notebook 中，您将学习如何组合多个 LLM 的链。"
   ]
  },
  {
   "cell_type": "markdown",
   "id": "00263680",
   "metadata": {},
   "source": [
    "---"
   ]
  },
  {
   "cell_type": "markdown",
   "id": "8a0c241b",
   "metadata": {},
   "source": [
    "## 目标"
   ]
  },
  {
   "cell_type": "markdown",
   "id": "8c1ba8f1",
   "metadata": {},
   "source": [
    "完成这个 notebook 后，您将：\n",
    "\n",
    "- 学会如何将链组合起来\n",
    "- 运用您的能力来链接有意义的语言任务。"
   ]
  },
  {
   "cell_type": "markdown",
   "id": "4a98b072",
   "metadata": {},
   "source": [
    "---"
   ]
  },
  {
   "cell_type": "markdown",
   "id": "df37e210",
   "metadata": {},
   "source": [
    "## 导入"
   ]
  },
  {
   "cell_type": "code",
   "execution_count": null,
   "id": "adfd4b35",
   "metadata": {},
   "outputs": [],
   "source": [
    "from langchain_nvidia_ai_endpoints import ChatNVIDIA\n",
    "from langchain_core.prompts import ChatPromptTemplate\n",
    "from langchain_core.output_parsers import StrOutputParser\n",
    "from langchain_core.runnables import RunnableLambda, RunnableParallel"
   ]
  },
  {
   "cell_type": "markdown",
   "id": "a287cd01",
   "metadata": {},
   "source": [
    "---"
   ]
  },
  {
   "cell_type": "markdown",
   "id": "42b133b7",
   "metadata": {},
   "source": [
    "## 创建模型实例"
   ]
  },
  {
   "cell_type": "code",
   "execution_count": null,
   "id": "9f6540de",
   "metadata": {},
   "outputs": [],
   "source": [
    "base_url = 'http://llama:8000/v1'\n",
    "model = 'meta/llama-3.1-8b-instruct'\n",
    "llm = ChatNVIDIA(base_url=base_url, model=model, temperature=0)"
   ]
  },
  {
   "cell_type": "markdown",
   "id": "d9bd18e1",
   "metadata": {},
   "source": [
    "---"
   ]
  },
  {
   "cell_type": "markdown",
   "id": "20bd0a5e",
   "metadata": {},
   "source": [
    "## 组合多个 LLM 链"
   ]
  },
  {
   "cell_type": "markdown",
   "id": "94ad1e74",
   "metadata": {},
   "source": [
    "如果您还记得，运行时可以组合成链，但链本身也是运行时。因此，链可以用于组合更大的链。\n",
    "\n",
    "很容易想象出需要多次调用 LLM 来获得所需结果的任务。我们将从这样的场景开始探索链的组合，管道将一个链的输出传递给下一个链。\n",
    "\n",
    "为此，我们将使用以下的 `thesis_statements` 列表。请注意，您在这些论题中看到的任何拼写错误都是有意为之的。"
   ]
  },
  {
   "cell_type": "code",
   "execution_count": null,
   "id": "06c4936b",
   "metadata": {},
   "outputs": [],
   "source": [
    "thesis_statements = [\n",
    "    \"The fundametal concepts quantum physcis are difficult to graps, even for the mostly advanced students.\",\n",
    "    \"Einstein's theroy of relativity revolutionised undrstanding of space and time, making it clear that they are interconnected.\",\n",
    "    \"The first law of thermodynmics states that energy cannot be created or destoryed, excepting only transformed from one form to another.\",\n",
    "    \"Electromagnetism is one of they four funadmental forces of nature, and it describes the interaction between charged particles.\",\n",
    "    \"In the study of mechanic, Newton's laws of motion provide a comprehensive framework for understading the movement of objects under various forces.\"\n",
    "]"
   ]
  },
  {
   "cell_type": "markdown",
   "id": "979fe612",
   "metadata": {},
   "source": [
    "我们的目标是将这些论题扩展为一个写好的段落，论题本身将是第一段。然而，您可能已经注意到，这些论题中包含需要纠正的拼写或语法错误。\n",
    "\n",
    "因此，首先创建一个链来解决拼写和语法问题，然后将更正后的论题链入第二个负责生成完整段落的 LLM 链。"
   ]
  },
  {
   "cell_type": "markdown",
   "id": "77be8c0f",
   "metadata": {},
   "source": [
    "---"
   ]
  },
  {
   "cell_type": "markdown",
   "id": "2643da7e",
   "metadata": {},
   "source": [
    "## 练习：创建拼写和语法链"
   ]
  },
  {
   "cell_type": "markdown",
   "id": "ab992d66",
   "metadata": {},
   "source": [
    "首先，创建一个 `grammar_chain`，它在对输入进行拼写和语法纠正后返回输入。\n",
    "\n",
    "我们在上面已经定义了一个 LLM 实例（`llm`），但您需要创建一个提示模板和输出解析器以包含到链中。\n",
    "\n",
    "您可能需要逐步开发您的提示模板。确保链只返回纠正后的文本，而不是模型的任何附加内容。\n",
    "\n",
    "通过将上面定义的 `thesis_statements` 批量发送给您的链来测试它。\n",
    "\n",
    "如果遇到困难，请查看下面的参考答案。"
   ]
  },
  {
   "cell_type": "markdown",
   "id": "a6b23c82",
   "metadata": {},
   "source": [
    "### 您的代码"
   ]
  },
  {
   "cell_type": "code",
   "execution_count": null,
   "id": "b672656b",
   "metadata": {},
   "outputs": [],
   "source": [
    "grammar_chain = 'TODO' # TODO: grammar_chain should return its inputs after performing spelling and grammar on them."
   ]
  },
  {
   "cell_type": "markdown",
   "id": "c1a18b1e",
   "metadata": {},
   "source": [
    "### 参考答案"
   ]
  },
  {
   "cell_type": "markdown",
   "id": "1ff5989b",
   "metadata": {},
   "source": [
    "我们首先为拼写和语法纠正设计一个提示。需要特别注意提示的具体性，确保模型只生成纠正后的文本，不包含额外的评论或前言。"
   ]
  },
  {
   "cell_type": "code",
   "execution_count": null,
   "id": "d2bb0332",
   "metadata": {},
   "outputs": [],
   "source": [
    "spelling_and_grammar_template = ChatPromptTemplate.from_template(\"\"\"Fix any spelling or grammatical issues in the following text. Return \\\n",
    "back the correct text and only the corrected text with no additional comment or preface. Text: {text}\"\"\")"
   ]
  },
  {
   "cell_type": "markdown",
   "id": "880a6507",
   "metadata": {},
   "source": [
    "接下来，我们创建一个字符串输出解析器的实例。"
   ]
  },
  {
   "cell_type": "code",
   "execution_count": null,
   "id": "151588c6",
   "metadata": {},
   "outputs": [],
   "source": [
    "parser = StrOutputParser()"
   ]
  },
  {
   "cell_type": "markdown",
   "id": "7f710069",
   "metadata": {},
   "source": [
    "剩下的就是组合这个链..."
   ]
  },
  {
   "cell_type": "code",
   "execution_count": null,
   "id": "d75469f4",
   "metadata": {},
   "outputs": [],
   "source": [
    "grammar_chain = spelling_and_grammar_template | llm | parser"
   ]
  },
  {
   "cell_type": "markdown",
   "id": "c54eab8a",
   "metadata": {},
   "source": [
    "...并将论题批量传给它。"
   ]
  },
  {
   "cell_type": "code",
   "execution_count": null,
   "id": "b324b7d2",
   "metadata": {},
   "outputs": [],
   "source": [
    "corrected_texts = grammar_chain.batch(thesis_statements)"
   ]
  },
  {
   "cell_type": "markdown",
   "id": "1a816b03",
   "metadata": {},
   "source": [
    "从纠正后的输出来看，模型表现得非常出色。"
   ]
  },
  {
   "cell_type": "code",
   "execution_count": null,
   "id": "8b9860d5",
   "metadata": {},
   "outputs": [],
   "source": [
    "for corrected_text in corrected_texts:\n",
    "    print(corrected_text)"
   ]
  },
  {
   "cell_type": "markdown",
   "id": "5308a84e",
   "metadata": {},
   "source": [
    "---"
   ]
  },
  {
   "cell_type": "markdown",
   "id": "4b43ac62",
   "metadata": {},
   "source": [
    "## 练习：创建段落生成器链"
   ]
  },
  {
   "cell_type": "markdown",
   "id": "f1966f39",
   "metadata": {},
   "source": [
    "创建第二个链 `paragraph_generator_chain`。给定一个句子作为输入，将该句子用作生成段落的第一句。\n",
    "\n",
    "**注意：**这个链不应该包含任何语法或拼写检查功能，只负责生成段落。\n",
    "\n",
    "通过将上面定义的 `thesis_statements` 批量发送给您的链来测试它。\n",
    "\n",
    "如果遇到困难，请随时查看下面的*参考答案*。"
   ]
  },
  {
   "cell_type": "markdown",
   "id": "c8ceb0d9",
   "metadata": {},
   "source": [
    "### 您的代码"
   ]
  },
  {
   "cell_type": "code",
   "execution_count": null,
   "id": "e93b23b6",
   "metadata": {},
   "outputs": [],
   "source": [
    "paragraph_generator_chain = 'TODO'"
   ]
  },
  {
   "cell_type": "markdown",
   "id": "e8963a58",
   "metadata": {},
   "source": [
    "### 参考答案"
   ]
  },
  {
   "cell_type": "markdown",
   "id": "5bd339f3",
   "metadata": {},
   "source": [
    "从设计提示词开始。"
   ]
  },
  {
   "cell_type": "code",
   "execution_count": null,
   "id": "78ceb3de",
   "metadata": {},
   "outputs": [],
   "source": [
    "paragraph_generator_template = ChatPromptTemplate.from_template(\"\"\"Generate a 4 to 8 sentence paragraph that begins with the following \\\n",
    "thesis statement. Return back the paragraph and only the paragrah with no addional comment or preface. Thesis statement: {thesis}\"\"\")"
   ]
  },
  {
   "cell_type": "markdown",
   "id": "666d3b65",
   "metadata": {},
   "source": [
    "由于我们已经有了模型实例和解析器，接下来只需组合这个链..."
   ]
  },
  {
   "cell_type": "code",
   "execution_count": null,
   "id": "9e3c8d14",
   "metadata": {},
   "outputs": [],
   "source": [
    "paragraph_generator_chain = paragraph_generator_template | llm | parser"
   ]
  },
  {
   "cell_type": "markdown",
   "id": "c6e94262",
   "metadata": {},
   "source": [
    "...然后将批量的论题发给它。"
   ]
  },
  {
   "cell_type": "code",
   "execution_count": null,
   "id": "10154b7a",
   "metadata": {},
   "outputs": [],
   "source": [
    "paragraphs = paragraph_generator_chain.batch(thesis_statements)"
   ]
  },
  {
   "cell_type": "markdown",
   "id": "f68a26a5",
   "metadata": {},
   "source": [
    "从生成的段落来看，模型表现得非常不错。\n",
    "\n",
    "值得注意的是，尽管我们没有提示模型去处理拼写和语法错误，但它还是修正了一些拼写错误。不过，显然我们传入的论题中的大部分语法错误依旧存在。"
   ]
  },
  {
   "cell_type": "code",
   "execution_count": null,
   "id": "885b3ec9",
   "metadata": {},
   "outputs": [],
   "source": [
    "for paragraph in paragraphs:\n",
    "    print(paragraph+'\\n')"
   ]
  },
  {
   "cell_type": "markdown",
   "id": "a0ceda00",
   "metadata": {},
   "source": [
    "---"
   ]
  },
  {
   "cell_type": "markdown",
   "id": "89ba2174",
   "metadata": {},
   "source": [
    "## 练习：创建链的链"
   ]
  },
  {
   "cell_type": "markdown",
   "id": "20cb1ce0",
   "metadata": {},
   "source": [
    "复用您已经创建的链，创建一个 `corrected_generator_chain`，该链首先使用 LLM 对 `thesis_statements` 进行拼写和语法纠正，然后基于（纠正后的）论题生成完整的段落。\n",
    "\n",
    "不需要想得太复杂。只要记住，链是运行时，可以像其它运行时一样用管道组合。\n",
    "\n",
    "通过将上述定义的 `thesis_statements` 批量发送给您的链来测试它。\n",
    "\n",
    "如果遇到困难，请随时查看下面的*参考答案*。"
   ]
  },
  {
   "cell_type": "markdown",
   "id": "4d85c52b",
   "metadata": {},
   "source": [
    "### 您的代码"
   ]
  },
  {
   "cell_type": "code",
   "execution_count": null,
   "id": "9d38a824",
   "metadata": {},
   "outputs": [],
   "source": []
  },
  {
   "cell_type": "markdown",
   "id": "674f0c08",
   "metadata": {},
   "source": [
    "### 参考答案"
   ]
  },
  {
   "cell_type": "markdown",
   "id": "cd534923",
   "metadata": {},
   "source": [
    "创建更大链所需做的就是将我们已经创建的两个链组合在一起。"
   ]
  },
  {
   "cell_type": "code",
   "execution_count": null,
   "id": "9e78ed59",
   "metadata": {},
   "outputs": [],
   "source": [
    "corrected_generator_chain = grammar_chain | paragraph_generator_chain"
   ]
  },
  {
   "cell_type": "markdown",
   "id": "3da54633",
   "metadata": {},
   "source": [
    "为了有趣一点，我们可以看看新链的计算图。"
   ]
  },
  {
   "cell_type": "code",
   "execution_count": null,
   "id": "a35816f9",
   "metadata": {},
   "outputs": [],
   "source": [
    "print(corrected_generator_chain.get_graph().draw_ascii())"
   ]
  },
  {
   "cell_type": "markdown",
   "id": "753683ce",
   "metadata": {},
   "source": [
    "我们可以像对待较小的链一样，将论题批量发送到这个更大的链。"
   ]
  },
  {
   "cell_type": "code",
   "execution_count": null,
   "id": "4e477002",
   "metadata": {},
   "outputs": [],
   "source": [
    "paragraphs = corrected_generator_chain.batch(thesis_statements)"
   ]
  },
  {
   "cell_type": "markdown",
   "id": "3648bfce",
   "metadata": {},
   "source": [
    "从最终输出，我们可以看到段落生成得很好，而且原始论题中的所有拼写和语法错误也都得到了纠正。"
   ]
  },
  {
   "cell_type": "code",
   "execution_count": null,
   "id": "6f402f53",
   "metadata": {},
   "outputs": [],
   "source": [
    "for paragraph in paragraphs:\n",
    "    print(paragraph+'\\n')"
   ]
  },
  {
   "cell_type": "markdown",
   "id": "5462a328",
   "metadata": {},
   "source": [
    "---"
   ]
  },
  {
   "cell_type": "markdown",
   "id": "165abd1b",
   "metadata": {},
   "source": [
    "## 总结"
   ]
  },
  {
   "cell_type": "markdown",
   "id": "5d933c54",
   "metadata": {},
   "source": [
    "在这个 notebook 中，您学习了如何将链视为运行时并组合起来，现在能多次利用 LLM 来完成所面临的任务。\n",
    "\n",
    "下一个 notebook 将继续探讨链的组合，但会将重点放在创建和使用并行链的能力上。"
   ]
  }
 ],
 "metadata": {
  "kernelspec": {
   "display_name": "Python 3 (ipykernel)",
   "language": "python",
   "name": "python3"
  },
  "language_info": {
   "codemirror_mode": {
    "name": "ipython",
    "version": 3
   },
   "file_extension": ".py",
   "mimetype": "text/x-python",
   "name": "python",
   "nbconvert_exporter": "python",
   "pygments_lexer": "ipython3",
   "version": "3.12.1"
  }
 },
 "nbformat": 4,
 "nbformat_minor": 5
}
