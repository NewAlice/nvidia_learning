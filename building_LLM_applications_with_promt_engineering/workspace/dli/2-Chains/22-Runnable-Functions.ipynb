{
 "cells": [
  {
   "cell_type": "markdown",
   "id": "ce766751",
   "metadata": {},
   "source": [
    "<center><a href=\"https://www.nvidia.cn/training/\"><img src=\"https://dli-lms.s3.amazonaws.com/assets/general/DLI_Header_White.png\" width=\"400\" height=\"186\" /></a></center>"
   ]
  },
  {
   "cell_type": "markdown",
   "id": "4c69279f",
   "metadata": {},
   "source": [
    "# 运行时函数"
   ]
  },
  {
   "cell_type": "code",
   "execution_count": null,
   "id": "9399b56a",
   "metadata": {},
   "outputs": [],
   "source": [
    "from videos.walkthroughs import walkthrough_22 as walkthrough"
   ]
  },
  {
   "cell_type": "code",
   "execution_count": null,
   "id": "f47122ad",
   "metadata": {},
   "outputs": [],
   "source": [
    "walkthrough()"
   ]
  },
  {
   "cell_type": "markdown",
   "id": "0bae6f6e",
   "metadata": {},
   "source": [
    "在这个 notebook 中，您将学习如何将自定义函数转换为可包含在 LangChain 链中的运行时。"
   ]
  },
  {
   "cell_type": "markdown",
   "id": "3e72f062",
   "metadata": {},
   "source": [
    "---"
   ]
  },
  {
   "cell_type": "markdown",
   "id": "a86b5f65",
   "metadata": {},
   "source": [
    "## 目标"
   ]
  },
  {
   "cell_type": "markdown",
   "id": "f1c418f1",
   "metadata": {},
   "source": [
    "完成这个 notebook 后，您将能够：\n",
    "\n",
    "- 理解如何创建自定义的运行时函数并将其包含在您的 LangChain 链中。\n",
    "- 使用自定义运行时函数在将数据发送到 LLM 之前进行预处理。\n",
    "- 使用自定义函数批量翻译原始文本为提示模板。\n",
    "- 创建一个利用多个自定义运行时函数的 LangChain 情感分析链。"
   ]
  },
  {
   "cell_type": "markdown",
   "id": "837c4000",
   "metadata": {},
   "source": [
    "---"
   ]
  },
  {
   "cell_type": "markdown",
   "id": "8a8f7810",
   "metadata": {},
   "source": [
    "## 导入"
   ]
  },
  {
   "cell_type": "code",
   "execution_count": null,
   "id": "1b0b1385",
   "metadata": {},
   "outputs": [],
   "source": [
    "from langchain_nvidia_ai_endpoints import ChatNVIDIA\n",
    "from langchain_core.prompts import ChatPromptTemplate\n",
    "from langchain_core.output_parsers import StrOutputParser\n",
    "from langchain_core.runnables import RunnableLambda"
   ]
  },
  {
   "cell_type": "markdown",
   "id": "e4eecb7a",
   "metadata": {},
   "source": [
    "---"
   ]
  },
  {
   "cell_type": "markdown",
   "id": "88f75efc",
   "metadata": {},
   "source": [
    "## 创建模型实例"
   ]
  },
  {
   "cell_type": "code",
   "execution_count": null,
   "id": "7693136e",
   "metadata": {},
   "outputs": [],
   "source": [
    "base_url = 'http://llama:8000/v1'\n",
    "model = 'meta/llama-3.1-8b-instruct'\n",
    "llm = ChatNVIDIA(base_url=base_url, model=model, temperature=0)"
   ]
  },
  {
   "cell_type": "markdown",
   "id": "2624acc7",
   "metadata": {},
   "source": [
    "---"
   ]
  },
  {
   "cell_type": "markdown",
   "id": "63d415bc",
   "metadata": {},
   "source": [
    "## 使用 `RunnableLambda` 创建自定义运行时函数"
   ]
  },
  {
   "cell_type": "markdown",
   "id": "1f6cdf6b",
   "metadata": {},
   "source": [
    "我们已经看到 LangChain 提供的可组合运行时，包括 LLM 实例、提示模板和输出解析器。LangChain 另一个强大的工具是能够通过 `RunnableLambda` 将任意函数转换为运行时函数。"
   ]
  },
  {
   "cell_type": "code",
   "execution_count": null,
   "id": "893659e9",
   "metadata": {},
   "outputs": [],
   "source": [
    "from langchain_core.runnables import RunnableLambda"
   ]
  },
  {
   "cell_type": "markdown",
   "id": "af098504",
   "metadata": {},
   "source": [
    "我们将从一个简单的数学函数开始探索自定义运行时函数。"
   ]
  },
  {
   "cell_type": "code",
   "execution_count": null,
   "id": "22ee20d2",
   "metadata": {},
   "outputs": [],
   "source": [
    "def double(x):\n",
    "    return 2*x"
   ]
  },
  {
   "cell_type": "markdown",
   "id": "3938f151",
   "metadata": {},
   "source": [
    "这段简单的 Python 函数没有 LangChain 可运行的 `invoke`（或 `batch` 或 `stream`）方法，这并不令人惊讶。"
   ]
  },
  {
   "cell_type": "code",
   "execution_count": null,
   "id": "751531b3",
   "metadata": {},
   "outputs": [],
   "source": [
    "try:\n",
    "    double.invoke(2)\n",
    "except AttributeError:\n",
    "    print('`double` is a Python function and does not have an `invoke` method.')"
   ]
  },
  {
   "cell_type": "markdown",
   "id": "de0b8f17",
   "metadata": {},
   "source": [
    "然而我们可以通过将其传递给 `RunnableLambda` 来轻松地将其转换为 LangChain 运行时函数。"
   ]
  },
  {
   "cell_type": "code",
   "execution_count": null,
   "id": "fb108f44",
   "metadata": {},
   "outputs": [],
   "source": [
    "runnable_double = RunnableLambda(double)"
   ]
  },
  {
   "cell_type": "code",
   "execution_count": null,
   "id": "a5d53b5c",
   "metadata": {},
   "outputs": [],
   "source": [
    "runnable_double.invoke(6)"
   ]
  },
  {
   "cell_type": "code",
   "execution_count": null,
   "id": "ce2ccfcb",
   "metadata": {},
   "outputs": [],
   "source": [
    "runnable_double.batch([2, 4, 6, 8])"
   ]
  },
  {
   "cell_type": "markdown",
   "id": "1b32d483",
   "metadata": {},
   "source": [
    "和其它运行时一样，`runnable_double` 这样的自定义函数运行时可以组合成链。"
   ]
  },
  {
   "cell_type": "code",
   "execution_count": null,
   "id": "1e026b05",
   "metadata": {},
   "outputs": [],
   "source": [
    "multiply_by_eight = runnable_double | runnable_double | runnable_double"
   ]
  },
  {
   "cell_type": "code",
   "execution_count": null,
   "id": "443feca6",
   "metadata": {},
   "outputs": [],
   "source": [
    "multiply_by_eight.invoke(11)"
   ]
  },
  {
   "cell_type": "markdown",
   "id": "cb265eec",
   "metadata": {},
   "source": [
    "您可以尽情发挥创造力在链中利用自定义函数，本 notebook 的后续部分，我们将探讨几个自定义运行时函数在链中的常见用例。"
   ]
  },
  {
   "cell_type": "markdown",
   "id": "bd94600a",
   "metadata": {},
   "source": [
    "---"
   ]
  },
  {
   "cell_type": "markdown",
   "id": "ee4bde6a",
   "metadata": {},
   "source": [
    "## 数据管理"
   ]
  },
  {
   "cell_type": "markdown",
   "id": "4c312bce",
   "metadata": {},
   "source": [
    "无论是格式化、校正还是验证，您可能希望在与 LLM 交互之前或之后，对经过链的数据进行处理。 \n",
    "\n",
    "举个例子，假设您正在构建一个情感分析应用，分析用户评论的情感。用户评论可能包含各种不一致的地方，比如大小写混用、包含多余的空格和缩写。在将文本发送到 LLM 之前对其进行规范化，可以提高情感分析的准确性。\n",
    "\n",
    "以下的 `normalize_text` 函数将通过转换为小写、扩展缩写（expanding contractions）和移除多余空格来规范文本。"
   ]
  },
  {
   "cell_type": "code",
   "execution_count": null,
   "id": "c7889971",
   "metadata": {},
   "outputs": [],
   "source": [
    "import re\n",
    "import contractions # pip install contractions\n",
    "\n",
    "def normalize_text(text):\n",
    "    # Convert text to lowercase\n",
    "    text = text.lower()\n",
    "    \n",
    "    # Expand contractions\n",
    "    text = contractions.fix(text)\n",
    "    \n",
    "    # Remove extra whitespace\n",
    "    text = re.sub(r'\\s+', ' ', text).strip()\n",
    "    \n",
    "    return text"
   ]
  },
  {
   "cell_type": "markdown",
   "id": "a2ded179",
   "metadata": {},
   "source": [
    "---"
   ]
  },
  {
   "cell_type": "markdown",
   "id": "c2f57bc0",
   "metadata": {},
   "source": [
    "## 练习：创建规范化文本的运行时函数"
   ]
  },
  {
   "cell_type": "markdown",
   "id": "aea69978",
   "metadata": {},
   "source": [
    "利用您目前为止学到的关于创建运行时函数的知识，从上面提供的 `normalize_text` 函数创建一个运行时函数。\n",
    "\n",
    "成功实现后，您应该能用它批量处理以下示例评论列表。\n",
    "\n",
    "如果遇到困难，可以查看下面的*参考答案*。"
   ]
  },
  {
   "cell_type": "code",
   "execution_count": null,
   "id": "acd4d05c",
   "metadata": {},
   "outputs": [],
   "source": [
    "reviews = [\n",
    "    \"I LOVE this product! It's absolutely amazing.   \",\n",
    "    \"Not bad, but could be better. I've seen worse.\",\n",
    "    \"Terrible experience... I'm never buying again!!\",\n",
    "    \"Pretty good, isn't it? Will buy again!\",\n",
    "    \"Excellent value for the money!!! Highly recommend.\"\n",
    "]"
   ]
  },
  {
   "cell_type": "markdown",
   "id": "4c8aef61",
   "metadata": {},
   "source": [
    "### 您的代码"
   ]
  },
  {
   "cell_type": "code",
   "execution_count": null,
   "id": "111a09b7",
   "metadata": {},
   "outputs": [],
   "source": []
  },
  {
   "cell_type": "markdown",
   "id": "e4bf5df2",
   "metadata": {},
   "source": [
    "### 参考答案"
   ]
  },
  {
   "cell_type": "code",
   "execution_count": null,
   "id": "38babf3a",
   "metadata": {},
   "outputs": [],
   "source": [
    "RunnableLambda(normalize_text).batch(reviews)"
   ]
  },
  {
   "cell_type": "markdown",
   "id": "f295ec45",
   "metadata": {},
   "source": [
    "---"
   ]
  },
  {
   "cell_type": "markdown",
   "id": "03c4ff73",
   "metadata": {},
   "source": [
    "## 为提示词模板格式化文本"
   ]
  },
  {
   "cell_type": "markdown",
   "id": "d12c38fd",
   "metadata": {},
   "source": [
    "在上一个练习中，您得到了一个规范化的评论列表，如下所示。"
   ]
  },
  {
   "cell_type": "code",
   "execution_count": null,
   "id": "633861ff",
   "metadata": {},
   "outputs": [],
   "source": [
    "normalized_reviews = [\n",
    "    'i love this product! it is absolutely amazing.',\n",
    "    'not bad, but could be better. i have seen worse.',\n",
    "    'terrible experience... i am never buying again!!',\n",
    "    'pretty good, is not it? will buy again!',\n",
    "    'excellent value for the money!!! highly recommend.'\n",
    "]"
   ]
  },
  {
   "cell_type": "markdown",
   "id": "0227b638",
   "metadata": {},
   "source": [
    "假设我们现在想把这些规范化的评论传入一个用于情感分析的提示模板，比如下面的 `sentiment_template`。"
   ]
  },
  {
   "cell_type": "code",
   "execution_count": null,
   "id": "13ab8538",
   "metadata": {},
   "outputs": [],
   "source": [
    "sentiment_template = ChatPromptTemplate.from_template(\"\"\"In a single word, either 'positive' or 'negative', \\\n",
    "provide the overall sentiment of the following piece of text: {text}\"\"\")"
   ]
  },
  {
   "cell_type": "markdown",
   "id": "f5f53c46",
   "metadata": {},
   "source": [
    "在之前的 notebook 中我们了解到，要调用上面的模板，需要传入一个包含占位符键（上面模板中的 `{text}`）的字典，例如："
   ]
  },
  {
   "cell_type": "code",
   "execution_count": null,
   "id": "9c85674d",
   "metadata": {},
   "outputs": [],
   "source": [
    "sentiment_template.invoke({\"text\": 'i love this product! it is absolutely amazing.'})"
   ]
  },
  {
   "cell_type": "markdown",
   "id": "cfd34d1e",
   "metadata": {},
   "source": [
    "因此，为了准备 `normalized_review` 中的项目以便传入 `sentiment_template`，我们需要把每一行文本转换为一个字典，键（key）为 `\"text\"`，值（value）为实际的文本行。\n",
    "\n",
    "让我们创建一个运行时 lambda 来实现这个功能。由于工作量非常小，就直接使用 lambda 函数。"
   ]
  },
  {
   "cell_type": "code",
   "execution_count": null,
   "id": "0237a9f8",
   "metadata": {},
   "outputs": [],
   "source": [
    "prep_for_sentiment_template = RunnableLambda(lambda text: {\"text\": text})"
   ]
  },
  {
   "cell_type": "markdown",
   "id": "e257396d",
   "metadata": {},
   "source": [
    "现在我们可以使用 `prep_for_sentiment_template` 来准备 `normalized_reviews` 以便用于 `sentiment_template`。"
   ]
  },
  {
   "cell_type": "code",
   "execution_count": null,
   "id": "ce15a619",
   "metadata": {},
   "outputs": [],
   "source": [
    "prep_for_sentiment_template.batch(normalized_reviews)"
   ]
  },
  {
   "cell_type": "markdown",
   "id": "5bc40cc0",
   "metadata": {},
   "source": [
    "---"
   ]
  },
  {
   "cell_type": "markdown",
   "id": "2fad7f93",
   "metadata": {},
   "source": [
    "## 练习：创建情感分析链"
   ]
  },
  {
   "cell_type": "markdown",
   "id": "4a8bfc08",
   "metadata": {},
   "source": [
    "在这个练习中，创建一个情感分析链，您可以将上面的原始 `reviews` 列表批量传入。\n",
    "\n",
    "您的链应：\n",
    "- 规范化原始评论。\n",
    "- 准备规范化的评论以便在 `sentiment_template` 中使用（如上所定义）。\n",
    "- 将准备好的规范化评论通过 `sentiment_template` 传递。\n",
    "- 将提示词模板传递给 `llm`（如上已定义）。\n",
    "- 最后用 `StrOutputParser` 的实例解析 LLM 输出，您需要实例化它。\n",
    "\n",
    "如果遇到困难，可以查看下面的参考答案。"
   ]
  },
  {
   "cell_type": "markdown",
   "id": "76fbe827",
   "metadata": {},
   "source": [
    "### 您的代码"
   ]
  },
  {
   "cell_type": "code",
   "execution_count": null,
   "id": "a7064501",
   "metadata": {},
   "outputs": [],
   "source": []
  },
  {
   "cell_type": "markdown",
   "id": "33648250",
   "metadata": {},
   "source": [
    "### 参考答案"
   ]
  },
  {
   "cell_type": "markdown",
   "id": "52bf0aff",
   "metadata": {},
   "source": [
    "这个链唯一还没创建的组件是输出解析器，所以我们在这里创建它。"
   ]
  },
  {
   "cell_type": "code",
   "execution_count": null,
   "id": "dc01d24c",
   "metadata": {},
   "outputs": [],
   "source": [
    "parser = StrOutputParser()"
   ]
  },
  {
   "cell_type": "markdown",
   "id": "c06d069a",
   "metadata": {},
   "source": [
    "创建好所有的运行时后，就可以组合这个链了。"
   ]
  },
  {
   "cell_type": "code",
   "execution_count": null,
   "id": "340b2a7f",
   "metadata": {},
   "outputs": [],
   "source": [
    "sentiment_chain = RunnableLambda(normalize_text) | prep_for_sentiment_template | sentiment_template | llm | parser"
   ]
  },
  {
   "cell_type": "markdown",
   "id": "5eaafcad",
   "metadata": {},
   "source": [
    "现在就可以通过链批量处理原始评论了。"
   ]
  },
  {
   "cell_type": "code",
   "execution_count": null,
   "id": "05b883a8",
   "metadata": {},
   "outputs": [],
   "source": [
    "sentiment_chain.batch(reviews)"
   ]
  },
  {
   "cell_type": "markdown",
   "id": "fb95a6f9",
   "metadata": {},
   "source": [
    "---"
   ]
  },
  {
   "cell_type": "markdown",
   "id": "b2bb4c09",
   "metadata": {},
   "source": [
    "## 总结"
   ]
  },
  {
   "cell_type": "markdown",
   "id": "0e681e54",
   "metadata": {},
   "source": [
    "在这个 notebook 中，您学习了如何创建自定义运行时以便包含在您的链中。实际上，链本身就是运行时，下一个 notebook 中，您将开始学习如何将链串联在一起。"
   ]
  }
 ],
 "metadata": {
  "kernelspec": {
   "display_name": "Python 3 (ipykernel)",
   "language": "python",
   "name": "python3"
  },
  "language_info": {
   "codemirror_mode": {
    "name": "ipython",
    "version": 3
   },
   "file_extension": ".py",
   "mimetype": "text/x-python",
   "name": "python",
   "nbconvert_exporter": "python",
   "pygments_lexer": "ipython3",
   "version": "3.12.1"
  }
 },
 "nbformat": 4,
 "nbformat_minor": 5
}
