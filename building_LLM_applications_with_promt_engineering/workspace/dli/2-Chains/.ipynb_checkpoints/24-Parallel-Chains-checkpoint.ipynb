{
 "cells": [
  {
   "cell_type": "markdown",
   "id": "a31f4cae",
   "metadata": {},
   "source": [
    "<center><a href=\"https://www.nvidia.cn/training/\"><img src=\"https://dli-lms.s3.amazonaws.com/assets/general/DLI_Header_White.png\" width=\"400\" height=\"186\" /></a></center>"
   ]
  },
  {
   "cell_type": "markdown",
   "id": "74f0b8c7",
   "metadata": {},
   "source": [
    "# 并行链"
   ]
  },
  {
   "cell_type": "code",
   "execution_count": null,
   "id": "5c336724",
   "metadata": {},
   "outputs": [],
   "source": [
    "from videos.walkthroughs import walkthrough_24 as walkthrough"
   ]
  },
  {
   "cell_type": "code",
   "execution_count": null,
   "id": "85f3426f",
   "metadata": {},
   "outputs": [],
   "source": [
    "walkthrough()"
   ]
  },
  {
   "cell_type": "markdown",
   "id": "26bee6e2",
   "metadata": {},
   "source": [
    "在这个 notebook 中，您将学习如何创建和使用并行链。"
   ]
  },
  {
   "cell_type": "markdown",
   "id": "b7e0fa45",
   "metadata": {},
   "source": [
    "---"
   ]
  },
  {
   "cell_type": "markdown",
   "id": "2a7c0723",
   "metadata": {},
   "source": [
    "## 目标"
   ]
  },
  {
   "cell_type": "markdown",
   "id": "c1334979",
   "metadata": {},
   "source": [
    "完成这个 notebook 后，您将能够：\n",
    "\n",
    "- 创建和使用可以并行执行的链\n",
    "- 思考并识别您链中的并行机会"
   ]
  },
  {
   "cell_type": "markdown",
   "id": "514976a8",
   "metadata": {},
   "source": [
    "---"
   ]
  },
  {
   "cell_type": "markdown",
   "id": "6c228ae7",
   "metadata": {},
   "source": [
    "## 导入"
   ]
  },
  {
   "cell_type": "code",
   "execution_count": null,
   "id": "f7f4a654",
   "metadata": {},
   "outputs": [],
   "source": [
    "from langchain_nvidia_ai_endpoints import ChatNVIDIA\n",
    "from langchain_core.prompts import ChatPromptTemplate\n",
    "from langchain_core.output_parsers import StrOutputParser\n",
    "from langchain_core.runnables import RunnableLambda, RunnableParallel"
   ]
  },
  {
   "cell_type": "markdown",
   "id": "b558de21",
   "metadata": {},
   "source": [
    "---"
   ]
  },
  {
   "cell_type": "markdown",
   "id": "5e7795ee",
   "metadata": {},
   "source": [
    "## 创建模型实例"
   ]
  },
  {
   "cell_type": "code",
   "execution_count": null,
   "id": "d955a3b3",
   "metadata": {},
   "outputs": [],
   "source": [
    "base_url = 'http://llama:8000/v1'\n",
    "model = 'meta/llama-3.1-8b-instruct'\n",
    "llm = ChatNVIDIA(base_url=base_url, model=model, temperature=0)"
   ]
  },
  {
   "cell_type": "markdown",
   "id": "a844da5b",
   "metadata": {},
   "source": [
    "---"
   ]
  },
  {
   "cell_type": "markdown",
   "id": "63ded5ba",
   "metadata": {},
   "source": [
    "## 并行链执行（Parallel Chain Execution）"
   ]
  },
  {
   "cell_type": "markdown",
   "id": "2c6ffa9f",
   "metadata": {},
   "source": [
    "在之前的练习中，您组合了多个链来对一组输入**串行**处理，或者说按顺序处理。实际上，我们的任务确实需要这样做：在生成额外文本之前执行拼写和语法检查。\n",
    "\n",
    "有时候，当我们考虑要执行的任务链时，可能会发现其中一些任务可以并行执行。好消息是，LCEL 为我们提供了易于使用的语法，可以在链中并行执行运行时。\n",
    "\n",
    "我们将从一组与 LLM 无关的任务开始学习并行链的执行，以便熟悉语法，之后我们将应用所学的内容创建一个利用多个并行 LLM 链的链。"
   ]
  },
  {
   "cell_type": "markdown",
   "id": "9fef5f79",
   "metadata": {},
   "source": [
    "---"
   ]
  },
  {
   "cell_type": "markdown",
   "id": "c523f8c3",
   "metadata": {},
   "source": [
    "## 识别并行执行的机会"
   ]
  },
  {
   "cell_type": "markdown",
   "id": "ba2d0ce1",
   "metadata": {},
   "source": [
    "这可能看起来很明显，但在我们执行并行操作之前，需要先识别出何时可以并行执行。您可能已经在其它编程环境中有很多实践经验，能够思考并行执行的可能性，但如果没有，相信您也能很快掌握。\n",
    "\n",
    "一般来说，只需要考虑一个过程的输出是否需要作为另一个过程的输入。如果是，那这两个过程之间就需要串行执行。如果两个（或多个）过程可以独立于其它过程而运行，那就有并行的机会。\n",
    "\n",
    "让我们构建一个简单的例子来进一步探讨。假设我们有一段文本..."
   ]
  },
  {
   "cell_type": "code",
   "execution_count": null,
   "id": "6ffcbe8a",
   "metadata": {},
   "outputs": [],
   "source": [
    "text = 'effective prompt engineering for application development'"
   ]
  },
  {
   "cell_type": "markdown",
   "id": "38f4b354",
   "metadata": {},
   "source": [
    "...我们想对其执行两个操作：\n",
    "1. 将文本转换为标题格式\n",
    "2. 统计文本中包含的单词数量\n",
    "\n",
    "如果问问自己这两个任务的输出是否需要作为另一任务的输入，我们很快就会明白答案是“否”。因此，这两个任务可以独立执行，也就是可以并行执行。"
   ]
  },
  {
   "cell_type": "markdown",
   "id": "b1331c44",
   "metadata": {},
   "source": [
    "---"
   ]
  },
  {
   "cell_type": "markdown",
   "id": "226ff3ed",
   "metadata": {},
   "source": [
    "## 构建并行运行时"
   ]
  },
  {
   "cell_type": "markdown",
   "id": "6b3e8345",
   "metadata": {},
   "source": [
    "现在我们知道这个简单的问题可以并行执行两个子任务，下面看看如何在 LangChain 中实现这一点。\n",
    "\n",
    "首先，使用 `RunnableLambda` 创建两个运行时，每个运行时实现一个子任务。\n",
    "\n",
    "先给转换为标题格式定义一个运行时。"
   ]
  },
  {
   "cell_type": "code",
   "execution_count": null,
   "id": "5741167d",
   "metadata": {},
   "outputs": [],
   "source": [
    "title_case = RunnableLambda(lambda text: text.title())"
   ]
  },
  {
   "cell_type": "markdown",
   "id": "7bb28131",
   "metadata": {},
   "source": [
    "接下来，为统计文本单词数量定义一个运行时。"
   ]
  },
  {
   "cell_type": "code",
   "execution_count": null,
   "id": "6c629b77",
   "metadata": {},
   "outputs": [],
   "source": [
    "count_words = RunnableLambda(lambda text: len(text.split()))"
   ]
  },
  {
   "cell_type": "markdown",
   "id": "1a25e1b0",
   "metadata": {},
   "source": [
    "我们可以使用文本示例调用这两个运行时，看看它们是否按预期工作。"
   ]
  },
  {
   "cell_type": "code",
   "execution_count": null,
   "id": "72a53b48",
   "metadata": {},
   "outputs": [],
   "source": [
    "title = title_case.invoke(text)\n",
    "title"
   ]
  },
  {
   "cell_type": "code",
   "execution_count": null,
   "id": "a43aec87",
   "metadata": {},
   "outputs": [],
   "source": [
    "word_count = count_words.invoke(text)\n",
    "word_count"
   ]
  },
  {
   "cell_type": "markdown",
   "id": "bc979652",
   "metadata": {},
   "source": [
    "如果我们想创建一个链来串行执行这两个步骤，可以将它们连接在一起，但需要注意串行管道的顺序。"
   ]
  },
  {
   "cell_type": "code",
   "execution_count": null,
   "id": "35ccef78",
   "metadata": {},
   "outputs": [],
   "source": [
    "serial_chain = title_case | count_words # And NOT count_words | title_case\n",
    "serial_chain.invoke(text)"
   ]
  },
  {
   "cell_type": "markdown",
   "id": "6b12f727",
   "metadata": {},
   "source": [
    "为了在 LCEL 中创建一个并行链，我们可以使用 `RunnableParallel`，它需要接收字典输入，字典中的每个属性都是我们希望并行执行的运行时。\n",
    "\n",
    "和任何 Python 字典一样，我们的字典需要包含键/值对。在并行链执行的情况下，键是我们设置的任意值，而值则是运行时本身。\n",
    "\n",
    "并行链会返回一个字典，其中键会映射到传入的运行时的结果上。\n",
    "\n",
    "看下面的例子会更清楚。"
   ]
  },
  {
   "cell_type": "code",
   "execution_count": null,
   "id": "c70a9fcb",
   "metadata": {},
   "outputs": [],
   "source": [
    "parallel_chain = RunnableParallel({'title': title_case, 'word_count': count_words})"
   ]
  },
  {
   "cell_type": "code",
   "execution_count": null,
   "id": "bf384298",
   "metadata": {},
   "outputs": [],
   "source": [
    "parallel_chain.invoke(text)"
   ]
  },
  {
   "cell_type": "markdown",
   "id": "e7f2a130",
   "metadata": {},
   "source": [
    "如果我们查看 `parallel_chain` 的计算图，可以看到它表示这两个运行时（`title_case` 和 `count_words`）是并行执行的。"
   ]
  },
  {
   "cell_type": "code",
   "execution_count": null,
   "id": "69542805",
   "metadata": {},
   "outputs": [],
   "source": [
    "print(parallel_chain.get_graph().draw_ascii())"
   ]
  },
  {
   "cell_type": "markdown",
   "id": "0e28cb01",
   "metadata": {},
   "source": [
    "---"
   ]
  },
  {
   "cell_type": "markdown",
   "id": "68cbc43a",
   "metadata": {},
   "source": [
    "## 使用并行输出"
   ]
  },
  {
   "cell_type": "markdown",
   "id": "e2ae70c6",
   "metadata": {},
   "source": [
    "并行链是运行时，因此可以与其它运行时组合。\n",
    "\n",
    "我们需要记住，并行链的输出是一个字典。一些运行时，比如提示模板，以字典作为输入，但其它的可能不是。\n",
    "\n",
    "当然，如果需要，我们可以构建自定义运行时来处理并行运行时的输出。\n",
    "\n",
    "例如，在当前的练习中，如果我们想为格式化的标题及其单词计数创建一个简单的打印输出，可以创建一个以字典作为输入的运行时，并使用其值构建输出。"
   ]
  },
  {
   "cell_type": "code",
   "execution_count": null,
   "id": "18ec2dcf",
   "metadata": {},
   "outputs": [],
   "source": [
    "describe_title = RunnableLambda(lambda x: f\"'{x['title']}' has {x['word_count']} words.\")"
   ]
  },
  {
   "cell_type": "markdown",
   "id": "56749f7d",
   "metadata": {},
   "source": [
    "为了测试一下 `describe_title`，用一个字典调用它。"
   ]
  },
  {
   "cell_type": "code",
   "execution_count": null,
   "id": "a732bd1d",
   "metadata": {},
   "outputs": [],
   "source": [
    "describe_title.invoke({'title': title, 'word_count': word_count})"
   ]
  },
  {
   "cell_type": "markdown",
   "id": "b21806c5",
   "metadata": {},
   "source": [
    "它确实按预期工作，现在将其添加到现有链中。"
   ]
  },
  {
   "cell_type": "code",
   "execution_count": null,
   "id": "ee390043",
   "metadata": {},
   "outputs": [],
   "source": [
    "final_chain = parallel_chain | describe_title"
   ]
  },
  {
   "cell_type": "markdown",
   "id": "894e4edf",
   "metadata": {},
   "source": [
    "看看最终的链，它已经得到扩展并包含了并行和串行组件。"
   ]
  },
  {
   "cell_type": "code",
   "execution_count": null,
   "id": "7df8399a",
   "metadata": {},
   "outputs": [],
   "source": [
    "print(final_chain.get_graph().draw_ascii())"
   ]
  },
  {
   "cell_type": "markdown",
   "id": "760c0982",
   "metadata": {},
   "source": [
    "我们可以给一个标题来调用它。"
   ]
  },
  {
   "cell_type": "code",
   "execution_count": null,
   "id": "6d29d3dd",
   "metadata": {},
   "outputs": [],
   "source": [
    "final_chain.invoke(title)"
   ]
  },
  {
   "cell_type": "markdown",
   "id": "601936a1",
   "metadata": {},
   "source": [
    "---"
   ]
  },
  {
   "cell_type": "markdown",
   "id": "4b8e2a03",
   "metadata": {},
   "source": [
    "## 并行运行时的字典字面量语法（Dictionary Literal Syntax）"
   ]
  },
  {
   "cell_type": "markdown",
   "id": "705f715e",
   "metadata": {},
   "source": [
    "出于方便考虑，LCEL 允许我们用要传递给 `RunnableParallel` 的字典字面量来代替调用 `RunnableParallel`。\n",
    "\n",
    "举个例子，这是 `final_chain` 的完整定义，调用了 `RunnableParallel`。"
   ]
  },
  {
   "cell_type": "code",
   "execution_count": null,
   "id": "b65b3013",
   "metadata": {},
   "outputs": [],
   "source": [
    "final_chain = RunnableParallel({'title': title_case, 'word_count': count_words}) | describe_title"
   ]
  },
  {
   "cell_type": "markdown",
   "id": "aa859927",
   "metadata": {},
   "source": [
    "如果我们愿意，可以将链这样重写，去掉对 `RunnableParallel` 的调用，只保留字典字面量："
   ]
  },
  {
   "cell_type": "code",
   "execution_count": null,
   "id": "78f64b25",
   "metadata": {},
   "outputs": [],
   "source": [
    "final_chain = {'title': title_case, 'word_count': count_words} | describe_title"
   ]
  },
  {
   "cell_type": "code",
   "execution_count": null,
   "id": "d3c3e590",
   "metadata": {},
   "outputs": [],
   "source": [
    "final_chain.invoke(title)"
   ]
  },
  {
   "cell_type": "markdown",
   "id": "58e37b7d",
   "metadata": {},
   "source": [
    "不过，这种语法有点小陷阱。例如，如果我们尝试重写之前的 `parallel_chain`..."
   ]
  },
  {
   "cell_type": "code",
   "execution_count": null,
   "id": "e76c8b64",
   "metadata": {},
   "outputs": [],
   "source": [
    "parallel_chain = RunnableParallel({'title': title_case, 'word_count': count_words})"
   ]
  },
  {
   "cell_type": "markdown",
   "id": "ec7509ff",
   "metadata": {},
   "source": [
    "...它不包含管道字符，且仅是单个并行运行时，看起来会是这样的。"
   ]
  },
  {
   "cell_type": "code",
   "execution_count": null,
   "id": "f7306416",
   "metadata": {},
   "outputs": [],
   "source": [
    "parallel_chain = {'title': title_case, 'word_count': count_words}"
   ]
  },
  {
   "cell_type": "markdown",
   "id": "820c4214",
   "metadata": {},
   "source": [
    "这看起来不错，在定义时没有抛出任何错误，但如果现在尝试调用它，就会看到字典对象没有 invoke 属性的报错，这确实是个问题。"
   ]
  },
  {
   "cell_type": "code",
   "execution_count": null,
   "id": "501932f5",
   "metadata": {},
   "outputs": [],
   "source": [
    "try:\n",
    "    parallel_chain.invoke(title)\n",
    "except AttributeError as e:\n",
    "    print(e)"
   ]
  },
  {
   "cell_type": "markdown",
   "id": "bb739309",
   "metadata": {},
   "source": [
    "所以，使用 `RunnableParallel` 总是安全的，即使您更喜欢字典字面量语法，在 Python 解释器无法理解您的对象不只是一个 Python 字典时也要使用 `RunnableParallel`。"
   ]
  },
  {
   "cell_type": "markdown",
   "id": "b6312528",
   "metadata": {},
   "source": [
    "---"
   ]
  },
  {
   "cell_type": "markdown",
   "id": "7ad372e6",
   "metadata": {},
   "source": [
    "## 练习：创建一个包含并行 LLM 任务的链"
   ]
  },
  {
   "cell_type": "markdown",
   "id": "22f867f6",
   "metadata": {},
   "source": [
    "我们将回顾一下您在之前 notebook 完成的一个练习，当时我们向您介绍了提示模板，是在您学习 LCEL 链之前。\n",
    "\n",
    "您可能还记得我们提供了这样的列表..."
   ]
  },
  {
   "cell_type": "code",
   "execution_count": null,
   "id": "7d4dccde",
   "metadata": {},
   "outputs": [],
   "source": [
    "statements = [\n",
    "    \"I had a fantastic time hiking up the mountain yesterday.\",\n",
    "    \"The new restaurant downtown serves delicious vegetarian dishes.\",\n",
    "    \"I am feeling quite stressed about the upcoming project deadline.\",\n",
    "    \"Watching the sunset at the beach was a calming experience.\",\n",
    "    \"I recently started reading a fascinating book about space exploration.\"\n",
    "]"
   ]
  },
  {
   "cell_type": "markdown",
   "id": "c7671b9c",
   "metadata": {},
   "source": [
    "...基于此，您为情感分析、主题提取和后续问题生成这几个任务创建了提示词，最终输出摘要如下："
   ]
  },
  {
   "cell_type": "markdown",
   "id": "d10d4894",
   "metadata": {},
   "source": [
    "```\n",
    "Statement: I had a fantastic time hiking up the mountain yesterday.\n",
    "Overall sentiment: Positive\n",
    "Main topic: Hiking\n",
    "Followup question: What were some of the most challenging or memorable parts of your hiking experience?\n",
    "\n",
    "Statement: The new restaurant downtown serves delicious vegetarian dishes.\n",
    "Overall sentiment: Positive\n",
    "Main topic: Vegetarian restaurants.\n",
    "Followup question: What types of vegetarian dishes are served at the new downtown restaurant that are worth trying?\n",
    "\n",
    "Statement: I am feeling quite stressed about the upcoming project deadline.\n",
    "Overall sentiment: Negative\n",
    "Main topic: Project deadline stress\n",
    "Followup question: How do you typically manage stress and pressure when working towards a significant deadline in a project?\n",
    "\n",
    "Statement: Watching the sunset at the beach was a calming experience.\n",
    "Overall sentiment: Positive\n",
    "Main topic: The experience of watching a sunset at the beach.\n",
    "Followup question: What are some other activities that people often do at the beach at sunset?\n",
    "\n",
    "Statement: I recently started reading a fascinating book about space exploration.\n",
    "Overall sentiment: Positive\n",
    "Main topic: Space exploration\n",
    "Followup question: What are some of the most significant discoveries or achievements made in the field of space exploration that the book might touch on?\n",
    "```"
   ]
  },
  {
   "cell_type": "markdown",
   "id": "24219d79",
   "metadata": {},
   "source": [
    "在这个练习中，您将根据相同的列表再次生成相同的输出，不过这次用链来实现，特别是并行链。"
   ]
  },
  {
   "cell_type": "markdown",
   "id": "ee069ede",
   "metadata": {},
   "source": [
    "### 您需要的运行时"
   ]
  },
  {
   "cell_type": "markdown",
   "id": "d796a50d",
   "metadata": {},
   "source": [
    "为了让您顺利开始，避免重复已经完成的工作，我们将提供几个会用到的运行时。\n",
    "\n",
    "首先是 LLM 任务所需的 3 个提示模板。"
   ]
  },
  {
   "cell_type": "code",
   "execution_count": null,
   "id": "e14c092a",
   "metadata": {},
   "outputs": [],
   "source": [
    "sentiment_template = ChatPromptTemplate.from_template(\"\"\"In a single word, either 'positive' or 'negative', \\\n",
    "provide the overall sentiment of the following piece of text: {text}\"\"\")"
   ]
  },
  {
   "cell_type": "code",
   "execution_count": null,
   "id": "3c8f85a5",
   "metadata": {},
   "outputs": [],
   "source": [
    "main_topic_template = ChatPromptTemplate.from_template(\"\"\"Identify and state, as concisely as possible, the main topic \\\n",
    "of the following piece of text. Only provide the main topic and no other helpful comments. Text: {text}\"\"\")"
   ]
  },
  {
   "cell_type": "code",
   "execution_count": null,
   "id": "e4f0246d",
   "metadata": {},
   "outputs": [],
   "source": [
    "followup_template = ChatPromptTemplate.from_template(\"\"\"What is an appropriate and interesting followup question that would help \\\n",
    "me learn more about the provided text? Only supply the question. Text: {text}\"\"\")"
   ]
  },
  {
   "cell_type": "markdown",
   "id": "c35b6db8",
   "metadata": {},
   "source": [
    "接下来是一个输出解析器。"
   ]
  },
  {
   "cell_type": "code",
   "execution_count": null,
   "id": "66fc9817",
   "metadata": {},
   "outputs": [],
   "source": [
    "parser = StrOutputParser()"
   ]
  },
  {
   "cell_type": "markdown",
   "id": "67f1e43c",
   "metadata": {},
   "source": [
    "最后是一个自定义运行时，它期望一个包含 4 个值（`statement`, `sentiment`, `main_topic`, `followup`）的字典作为输入，并生成我们所需的文本输出。"
   ]
  },
  {
   "cell_type": "code",
   "execution_count": null,
   "id": "9328a44d",
   "metadata": {},
   "outputs": [],
   "source": [
    "output_formatter = RunnableLambda(lambda responses: (\n",
    "    f\"Statement: {responses['statement']}\\n\"\n",
    "    f\"Overall sentiment: {responses['sentiment']}\\n\"\n",
    "    f\"Main topic: {responses['main_topic']}\\n\"\n",
    "    f\"Followup question: {responses['followup']}\\n\"\n",
    "))"
   ]
  },
  {
   "cell_type": "markdown",
   "id": "3c5fa4a7",
   "metadata": {},
   "source": [
    "### 规划您的链"
   ]
  },
  {
   "cell_type": "markdown",
   "id": "2b947fb0",
   "metadata": {},
   "source": [
    "在进行任何额外编码之前，花点时间思考一下如何构建您的链，包括任何子链。特别是，考虑在我们的任务中，哪里可以利用并行执行。\n",
    "\n",
    "随意使用下面的单元格来写下您的想法，制定行动计划。完成后，请将其与下面的*参考答案* 进行比较。"
   ]
  },
  {
   "cell_type": "markdown",
   "id": "81724edb",
   "metadata": {},
   "source": [
    "### 您的计划"
   ]
  },
  {
   "cell_type": "markdown",
   "id": "4fee8f61",
   "metadata": {},
   "source": []
  },
  {
   "cell_type": "markdown",
   "id": "52269daf",
   "metadata": {},
   "source": [
    "### 参考答案"
   ]
  },
  {
   "cell_type": "markdown",
   "id": "06c60ad2",
   "metadata": {},
   "source": [
    "整个链的输入和输出将是：\n",
    "\n",
    "```\n",
    "statements -> formatted_output\n",
    "```\n",
    "\n",
    "从 `formatted_output` 向后推，我们知道需要给它 4 个值：\n",
    "```\n",
    "statements ->\n",
    "[statement, sentiment, main_topic, followup_question] ->\n",
    "formatted_output\n",
    "```\n",
    "\n",
    "我们应该能以某种方式从 `statements` 捕获 `statement`，然后通过链传递，但对于 `sentiment`、`main_topic` 和 `followup_question`，每个都需要自己的 LLM 链：\n",
    "\n",
    "```\n",
    "statements ->\n",
    "[\n",
    "    statement,\n",
    "    sentiment_template -> llm -> parser,\n",
    "    main_topic_template -> llm -> parser,\n",
    "    followup_question_template -> llm -> parser\n",
    "] ->\n",
    "formatted_output\n",
    "```\n",
    "\n",
    "可以观察到，`[` 和 `]` 之间的所有内容好像都可以各自独立完成，因此很可能并行执行。\n",
    "\n",
    "为了从 4 个并行链返回一个字典到 `formatted_output`，需要使用上面定义的 `output_formatter` 运行时。\n",
    "\n",
    "```\n",
    "statements ->\n",
    "[\n",
    "    statement,\n",
    "    sentiment_template -> llm -> parser,\n",
    "    main_topic_template -> llm -> parser,\n",
    "    followup_question_template -> llm -> parser\n",
    "] ->\n",
    "output_formatter ->\n",
    "formatted_output\n",
    "```\n",
    "\n",
    "最后一件事，需要准备输入（`statements`），目前是字符串，供提示模板使用，每个都需要一个有 `text` 属性的字典。\n",
    "\n",
    "```\n",
    "statements ->\n",
    "prep_statements_for_templates ->\n",
    "[\n",
    "    statement,\n",
    "    sentiment_template -> llm -> parser,\n",
    "    main_topic_template -> llm -> parser,\n",
    "    followup_question_template -> llm -> parser\n",
    "] ->\n",
    "output_formatter ->\n",
    "formatted_output\n",
    "```\n",
    "\n",
    "这看起来是个不错的思路，有了它，就可以继续了：\n",
    "\n",
    "\n",
    "1) 创建一个自定义运行时，将字符串输入转换为带有文本字段的字典，以供提示模板使用。\n",
    "2) 为情感分析、主题提取和后续问题生成各创建 1 个链（共 3 个链）。\n",
    "3) 创建一个并行链，包含刚刚创建的 3 个链，以及一个额外的运行时（一个自定义运行时），它将传入的文本放到 `statement` 这个键下（按输出格式化运行时所要求的）。\n",
    "4) 将 `prep_for_inputs` 运行时、并行链和 `output_formatter` 运行时链接在一起。\n",
    "5) 使用整个链批量处理 `statements`."
   ]
  },
  {
   "cell_type": "markdown",
   "id": "c1eafdc8",
   "metadata": {},
   "source": [
    "### 您的代码"
   ]
  },
  {
   "cell_type": "markdown",
   "id": "0be79074",
   "metadata": {},
   "source": [
    "您直接开始动手实现所需的功能。\n",
    "\n",
    "如果想在逐步指导下完成练习，请打开下面的*指导*部分。"
   ]
  },
  {
   "cell_type": "code",
   "execution_count": null,
   "id": "2364388c",
   "metadata": {},
   "outputs": [],
   "source": []
  },
  {
   "cell_type": "markdown",
   "id": "c80ba5ce",
   "metadata": {},
   "source": [
    "## 指导"
   ]
  },
  {
   "cell_type": "markdown",
   "id": "5946bfb7",
   "metadata": {},
   "source": [
    "在这次练习中，我们将遵循上面*参考答案*中列出的行动步骤，即：\n",
    "\n",
    "1) 创建一个自定义运行时，将字符串输入转换为带有文本字段的字典，以供提示模板使用。\n",
    "2) 为情感分析、主题提取和后续问题生成各创建 1 个链（共 3 个链）。\n",
    "3) 创建一个并行链，包含刚刚创建的 3 个链，以及一个额外的运行时（一个自定义运行时），它将传入的文本放到 `statement` 这个键下（按输出格式化运行时所要求的）。\n",
    "4) 将 `prep_for_inputs` 运行时、并行链和 `output_formatter` 运行时链接在一起。\n",
    "5) 使用整个链批量处理 `statements`."
   ]
  },
  {
   "cell_type": "markdown",
   "id": "d36d7531",
   "metadata": {},
   "source": [
    "### 为提示模板准备输入"
   ]
  },
  {
   "cell_type": "markdown",
   "id": "3d99a6ee",
   "metadata": {},
   "source": [
    "创建一个自定义运行时，将字符串输入转换为带有 `text` 字段的字典，以供提示模板使用。\n",
    "\n",
    "如果您遇到困难，可以查看下面的*参考答案*。"
   ]
  },
  {
   "cell_type": "markdown",
   "id": "c671ef4b",
   "metadata": {},
   "source": [
    "### 您的代码"
   ]
  },
  {
   "cell_type": "code",
   "execution_count": null,
   "id": "4c2bb220",
   "metadata": {},
   "outputs": [],
   "source": []
  },
  {
   "cell_type": "markdown",
   "id": "5ba83b7a",
   "metadata": {},
   "source": [
    "### 参考答案"
   ]
  },
  {
   "cell_type": "code",
   "execution_count": null,
   "id": "c068ca96",
   "metadata": {},
   "outputs": [],
   "source": [
    "prep_for_template = RunnableLambda(lambda text: {\"text\": text})"
   ]
  },
  {
   "cell_type": "markdown",
   "id": "4aa6090e",
   "metadata": {},
   "source": [
    "### 创建 LLM 链"
   ]
  },
  {
   "cell_type": "markdown",
   "id": "f553dc43",
   "metadata": {},
   "source": [
    "为情感分析、主题提取和后续问题生成各创建 1 个链（共 3 个链）。每个链应使用相应的提示模板，以及 LLM 实例和输出解析器。\n",
    "\n",
    "如果您遇到困难，可以查看下面的*参考答案*。"
   ]
  },
  {
   "cell_type": "markdown",
   "id": "0cb334fb",
   "metadata": {},
   "source": [
    "### 您的代码"
   ]
  },
  {
   "cell_type": "code",
   "execution_count": null,
   "id": "76c2f50b",
   "metadata": {},
   "outputs": [],
   "source": []
  },
  {
   "cell_type": "markdown",
   "id": "b6fb168e",
   "metadata": {},
   "source": [
    "### 参考答案"
   ]
  },
  {
   "cell_type": "code",
   "execution_count": null,
   "id": "a11c8ce9",
   "metadata": {},
   "outputs": [],
   "source": [
    "sentiment_chain = sentiment_template | llm | parser\n",
    "main_topic_chain = main_topic_template | llm | parser\n",
    "followup_chain = followup_template | llm | parser"
   ]
  },
  {
   "cell_type": "markdown",
   "id": "e0d8e1ab",
   "metadata": {},
   "source": [
    "### 创建并行链"
   ]
  },
  {
   "cell_type": "markdown",
   "id": "67088b01",
   "metadata": {},
   "source": [
    "创建一个并行链，包含您刚刚创建的 3 个链，以及一个额外的运行时（一个自定义运行时），它将传入的文本放到 `statement` 这个键下（按输出格式化运行时所要求的）。\n",
    "\n",
    "如果您遇到困难，可以查看下面的*参考答案*。"
   ]
  },
  {
   "cell_type": "markdown",
   "id": "bcc4ad71",
   "metadata": {},
   "source": [
    "### 您的代码"
   ]
  },
  {
   "cell_type": "code",
   "execution_count": null,
   "id": "1ff3feba",
   "metadata": {},
   "outputs": [],
   "source": []
  },
  {
   "cell_type": "markdown",
   "id": "69098a0a",
   "metadata": {},
   "source": [
    "### 参考答案"
   ]
  },
  {
   "cell_type": "code",
   "execution_count": null,
   "id": "eb4eb1a4",
   "metadata": {},
   "outputs": [],
   "source": [
    "parallel_chain = RunnableParallel({\n",
    "    \"sentiment\": sentiment_chain,\n",
    "    \"main_topic\": main_topic_chain,\n",
    "    \"followup\": followup_chain,\n",
    "    \"statement\": RunnableLambda(lambda x: x['text'])\n",
    "})"
   ]
  },
  {
   "cell_type": "markdown",
   "id": "60f16272",
   "metadata": {},
   "source": [
    "### 从子链组合主链"
   ]
  },
  {
   "cell_type": "markdown",
   "id": "6965ba3c",
   "metadata": {},
   "source": [
    "将 `prep_for_inputs` 运行时、并行链和 `output_formatter` 运行时链接到一起。\n",
    "\n",
    "如果您遇到困难，可以查看下面的*参考答案*。"
   ]
  },
  {
   "cell_type": "markdown",
   "id": "0aa1c83e",
   "metadata": {},
   "source": [
    "### 您的代码"
   ]
  },
  {
   "cell_type": "code",
   "execution_count": null,
   "id": "a629a564",
   "metadata": {},
   "outputs": [],
   "source": []
  },
  {
   "cell_type": "markdown",
   "id": "d2c924b1",
   "metadata": {},
   "source": [
    "### 参考答案"
   ]
  },
  {
   "cell_type": "code",
   "execution_count": null,
   "id": "32c0cb28",
   "metadata": {},
   "outputs": [],
   "source": [
    "chain = prep_for_template | parallel_chain | output_formatter"
   ]
  },
  {
   "cell_type": "code",
   "execution_count": null,
   "id": "7e304cbf",
   "metadata": {},
   "outputs": [],
   "source": [
    "print(chain.get_graph().draw_ascii())"
   ]
  },
  {
   "cell_type": "markdown",
   "id": "cd7b5894",
   "metadata": {},
   "source": [
    "### 执行链"
   ]
  },
  {
   "cell_type": "markdown",
   "id": "ea77a9ee",
   "metadata": {},
   "source": [
    "使用完整的链批量处理 `statements`。\n",
    "\n",
    "如果您遇到困难，可以查看下面的*参考答案*。"
   ]
  },
  {
   "cell_type": "markdown",
   "id": "db049d05",
   "metadata": {},
   "source": [
    "### 您的代码"
   ]
  },
  {
   "cell_type": "code",
   "execution_count": null,
   "id": "b62995c8",
   "metadata": {},
   "outputs": [],
   "source": []
  },
  {
   "cell_type": "markdown",
   "id": "8bbab200",
   "metadata": {},
   "source": [
    "### 参考答案"
   ]
  },
  {
   "cell_type": "code",
   "execution_count": null,
   "id": "23a40943",
   "metadata": {},
   "outputs": [],
   "source": [
    "formatted_outputs = chain.batch(statements)"
   ]
  },
  {
   "cell_type": "code",
   "execution_count": null,
   "id": "0ec0f6e3",
   "metadata": {},
   "outputs": [],
   "source": [
    "for output in formatted_outputs:\n",
    "    print(output)"
   ]
  },
  {
   "cell_type": "markdown",
   "id": "4a5c3906",
   "metadata": {},
   "source": [
    "---"
   ]
  },
  {
   "cell_type": "markdown",
   "id": "d20a222d",
   "metadata": {},
   "source": [
    "## 总结"
   ]
  },
  {
   "cell_type": "markdown",
   "id": "aba08420",
   "metadata": {},
   "source": [
    "这样就完成了本节的全部内容，您在这里学到了多种使用 LangChain 运行时的方式，包括创建自定义运行时，以及如何将它们链接在一起以完成各种任务。\n",
    "\n",
    "在接下来的课程中，您将继续通过组合运行时，深入了解 LangChain 消息，利用对它的理解以多种方式控制 LLM 的输出。"
   ]
  }
 ],
 "metadata": {
  "language_info": {
   "name": "python"
  }
 },
 "nbformat": 4,
 "nbformat_minor": 5
}
