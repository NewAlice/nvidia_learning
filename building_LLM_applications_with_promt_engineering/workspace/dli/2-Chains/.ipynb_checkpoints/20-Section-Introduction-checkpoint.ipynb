{
 "cells": [
  {
   "cell_type": "markdown",
   "id": "64d1ad30",
   "metadata": {},
   "source": [
    "<center><a href=\"https://www.nvidia.cn/training/\"><img src=\"https://dli-lms.s3.amazonaws.com/assets/general/DLI_Header_White.png\" width=\"400\" height=\"186\" /></a></center>"
   ]
  },
  {
   "cell_type": "markdown",
   "id": "54059def",
   "metadata": {},
   "source": [
    "# 第二部分：LangChain 表达语言 (LCEL)、运行时和链"
   ]
  },
  {
   "cell_type": "code",
   "execution_count": null,
   "id": "cc9f1912",
   "metadata": {},
   "outputs": [],
   "source": [
    "from videos.walkthroughs import walkthrough_20 as walkthrough"
   ]
  },
  {
   "cell_type": "code",
   "execution_count": null,
   "id": "77687c1d",
   "metadata": {},
   "outputs": [],
   "source": [
    "walkthrough()"
   ]
  },
  {
   "cell_type": "markdown",
   "id": "d6eef72d",
   "metadata": {},
   "source": [
    "现在您已经熟悉如何提示 LLM，接下来您将学习如何通过创建 LangChain 链，优雅地提高您可以使用 LLM 完成的工作。LangChain 链的核心是运行时（runnable），它们能以多种方式组合的为工作流。\n",
    "\n",
    "完成本节后，您会深刻理解为什么 LangChain 是一个如此受欢迎的 LLM 应用开发库。"
   ]
  },
  {
   "cell_type": "markdown",
   "id": "6c4df5e7",
   "metadata": {},
   "source": [
    "---"
   ]
  },
  {
   "cell_type": "markdown",
   "id": "fa8512c7",
   "metadata": {},
   "source": [
    "## 章节目录"
   ]
  },
  {
   "cell_type": "markdown",
   "id": "fb392ea5",
   "metadata": {},
   "source": [
    "1. **LangChain 表达语言和链：** 在这个 notebook 中，您将学习 LangChain 运行时，以及使用 LangChain 表达语言 (LCEL) 将它们组合成链的能力。\n",
    "2. **运行时函数：** 在这个 notebook 中，您将学习如何将自定义函数转换为可以包含在 LangChain 链中的运行时。\n",
    "3. **组合链：** 在这个 notebook 中，您将学习如何组合多个 LLM 链。\n",
    "4. **并行链：** 在这个 notebook 中，您将学习如何创建和使用并行链。"
   ]
  }
 ],
 "metadata": {
  "language_info": {
   "name": "python"
  }
 },
 "nbformat": 4,
 "nbformat_minor": 5
}
