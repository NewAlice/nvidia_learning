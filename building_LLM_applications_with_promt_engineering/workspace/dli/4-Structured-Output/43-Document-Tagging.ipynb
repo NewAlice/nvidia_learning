{
 "cells": [
  {
   "cell_type": "markdown",
   "id": "6a37f2f5",
   "metadata": {},
   "source": [
    "<center><a href=\"https://www.nvidia.cn/training/\"><img src=\"https://dli-lms.s3.amazonaws.com/assets/general/DLI_Header_White.png\" width=\"400\" height=\"186\" /></a></center>"
   ]
  },
  {
   "cell_type": "markdown",
   "id": "dd04f26b",
   "metadata": {},
   "source": [
    "# 文档标记"
   ]
  },
  {
   "cell_type": "code",
   "execution_count": null,
   "id": "67abf5f0",
   "metadata": {},
   "outputs": [],
   "source": [
    "from videos.walkthroughs import walkthrough_43 as walkthrough"
   ]
  },
  {
   "cell_type": "code",
   "execution_count": null,
   "id": "f1ce31b4",
   "metadata": {},
   "outputs": [],
   "source": [
    "walkthrough()"
   ]
  },
  {
   "cell_type": "markdown",
   "id": "221e2cc1",
   "metadata": {},
   "source": [
    "在这个 notebook 中，您将学习如何从长文本中提取并标记数据来扩展生成结构化数据的技能。"
   ]
  },
  {
   "cell_type": "markdown",
   "id": "a8cd50e1",
   "metadata": {},
   "source": [
    "---"
   ]
  },
  {
   "cell_type": "markdown",
   "id": "41bdd120",
   "metadata": {},
   "source": [
    "## 目标"
   ]
  },
  {
   "cell_type": "markdown",
   "id": "4a035464",
   "metadata": {},
   "source": [
    "完成这个 notebook 后，您将能够：\n",
    "\n",
    "- 构建代表其它 Pydantic 类集合的 Pydantic 类。\n",
    "- 对长文本进行提取和标记。"
   ]
  },
  {
   "cell_type": "markdown",
   "id": "842b2792",
   "metadata": {},
   "source": [
    "---"
   ]
  },
  {
   "cell_type": "markdown",
   "id": "8477beb9",
   "metadata": {},
   "source": [
    "## 导入"
   ]
  },
  {
   "cell_type": "code",
   "execution_count": null,
   "id": "bee0e558",
   "metadata": {},
   "outputs": [],
   "source": [
    "from typing import List\n",
    "from pprint import pprint\n",
    "\n",
    "from langchain_nvidia_ai_endpoints import ChatNVIDIA\n",
    "from langchain_core.prompts import ChatPromptTemplate\n",
    "from langchain_core.output_parsers import JsonOutputParser\n",
    "from langchain_core.pydantic_v1 import BaseModel, Field"
   ]
  },
  {
   "cell_type": "markdown",
   "id": "2176603b",
   "metadata": {},
   "source": [
    "---"
   ]
  },
  {
   "cell_type": "markdown",
   "id": "7d4ddd19",
   "metadata": {},
   "source": [
    "## 创建模型实例"
   ]
  },
  {
   "cell_type": "code",
   "execution_count": null,
   "id": "8154e781",
   "metadata": {},
   "outputs": [],
   "source": [
    "base_url = 'http://llama:8000/v1'\n",
    "model = 'meta/llama-3.1-8b-instruct'\n",
    "llm = ChatNVIDIA(base_url=base_url, model=model, temperature=0)"
   ]
  },
  {
   "cell_type": "markdown",
   "id": "7323bf26",
   "metadata": {},
   "source": [
    "---"
   ]
  },
  {
   "cell_type": "markdown",
   "id": "f6a6b4c1",
   "metadata": {},
   "source": [
    "## 文档标记"
   ]
  },
  {
   "cell_type": "markdown",
   "id": "5843bd22",
   "metadata": {},
   "source": [
    "您已经了解如何创建 Pydantic 规范以生成结构化数据了，现在就可以轻松地将这项技能扩展到从长文本中提取和标记数据。\n",
    "\n",
    "为了学习这个技巧，假设我们想要提取文本中提到的任何一种水果的名称。像之前一样，先定义一个数据模式，然后实例化一个解析器，结合使用相应格式的提示词指令，就能从提示词和 LLM 推断的内容中解析出结构化数据。"
   ]
  },
  {
   "cell_type": "code",
   "execution_count": null,
   "id": "ed0060d8",
   "metadata": {},
   "outputs": [],
   "source": [
    "class Fruit(BaseModel):\n",
    "    \"\"\"The name of a piece of fruit.\"\"\"\n",
    "\n",
    "    name: str = Field(description=\"The name of the piece of fruit\")"
   ]
  },
  {
   "cell_type": "code",
   "execution_count": null,
   "id": "1651d799",
   "metadata": {},
   "outputs": [],
   "source": [
    "parser = JsonOutputParser(pydantic_object=Fruit)"
   ]
  },
  {
   "cell_type": "code",
   "execution_count": null,
   "id": "0f6296b4",
   "metadata": {},
   "outputs": [],
   "source": [
    "format_instructions = parser.get_format_instructions()"
   ]
  },
  {
   "cell_type": "code",
   "execution_count": null,
   "id": "dc77ea53",
   "metadata": {},
   "outputs": [],
   "source": [
    "template = ChatPromptTemplate.from_messages([\n",
    "    (\"system\", \"You are an AI that generates JSON and only JSON according to the instructions provided to you.\"),\n",
    "    (\"human\", (\n",
    "        \"Generate JSON about the user input according to the provided format instructions.\\n\" +\n",
    "        \"Input: {input}\\n\" +\n",
    "        \"Format instructions {format_instructions}\")\n",
    "    )\n",
    "])"
   ]
  },
  {
   "cell_type": "code",
   "execution_count": null,
   "id": "07c922d8",
   "metadata": {},
   "outputs": [],
   "source": [
    "template_with_format_instructions = template.partial(format_instructions=format_instructions)"
   ]
  },
  {
   "cell_type": "code",
   "execution_count": null,
   "id": "de633ec4",
   "metadata": {},
   "outputs": [],
   "source": [
    "chain = template_with_format_instructions | llm | parser"
   ]
  },
  {
   "cell_type": "markdown",
   "id": "be12c5d4",
   "metadata": {},
   "source": [
    "现在要做的事情和之前的 notebook 略有不同。我们不提供单个用于转换为结构化数据的实体，而是提供自由格式的文本。\n",
    "\n",
    "考虑到以下语句的简单性，毫无疑问，我们的链能很好地识别并捕获提到的那一种水果。"
   ]
  },
  {
   "cell_type": "code",
   "execution_count": null,
   "id": "94eb02b7",
   "metadata": {},
   "outputs": [],
   "source": [
    "chain.invoke({\"input\": \"An apple fell from the tree.\"})"
   ]
  },
  {
   "cell_type": "markdown",
   "id": "805b6e5b",
   "metadata": {},
   "source": [
    "---"
   ]
  },
  {
   "cell_type": "markdown",
   "id": "ca0478bf",
   "metadata": {},
   "source": [
    "## 结构化数据列表"
   ]
  },
  {
   "cell_type": "markdown",
   "id": "13ef67d8",
   "metadata": {},
   "source": [
    "从自由格式文本中提取和标记多个数据实体时，还缺少一个特性，就是提取一个**列表**而不是只是某个数据类型的唯一实体。\n",
    "\n",
    "这时可以使用 Pydantic 结合 Python 的 `typing.List`，相当简单：创建一个新的 Pydantic 类，并附上有用的 docstring，带上一个包含其它 Pydantic 类的 `List`。"
   ]
  },
  {
   "cell_type": "code",
   "execution_count": null,
   "id": "71a0eef6",
   "metadata": {},
   "outputs": [],
   "source": [
    "from typing import List"
   ]
  },
  {
   "cell_type": "code",
   "execution_count": null,
   "id": "db19f37e",
   "metadata": {},
   "outputs": [],
   "source": [
    "class Fruits(BaseModel):\n",
    "    \"\"\"The names of fruits\"\"\"\n",
    "    fruits: List[Fruit]"
   ]
  },
  {
   "cell_type": "markdown",
   "id": "43ce06a5",
   "metadata": {},
   "source": [
    "现在，我们可以利用带有列表的 `Fruits` 类来构建解析器和链。"
   ]
  },
  {
   "cell_type": "code",
   "execution_count": null,
   "id": "ff882911",
   "metadata": {},
   "outputs": [],
   "source": [
    "parser = JsonOutputParser(pydantic_object=Fruits)"
   ]
  },
  {
   "cell_type": "code",
   "execution_count": null,
   "id": "3a25dc8a",
   "metadata": {},
   "outputs": [],
   "source": [
    "format_instructions = parser.get_format_instructions()"
   ]
  },
  {
   "cell_type": "code",
   "execution_count": null,
   "id": "9f7f03be",
   "metadata": {},
   "outputs": [],
   "source": [
    "template_with_format_instructions = template.partial(format_instructions=format_instructions)"
   ]
  },
  {
   "cell_type": "code",
   "execution_count": null,
   "id": "8d46ca7b",
   "metadata": {},
   "outputs": [],
   "source": [
    "chain = template_with_format_instructions | llm | parser"
   ]
  },
  {
   "cell_type": "markdown",
   "id": "35789d38",
   "metadata": {},
   "source": [
    "现在当我们传入一段包含多种水果的较长文本时，可以看到能提取和标记所有这些水果了。"
   ]
  },
  {
   "cell_type": "code",
   "execution_count": null,
   "id": "840b26ab",
   "metadata": {},
   "outputs": [],
   "source": [
    "chain.invoke({\"input\": \"An apple fell from the tree. It hit the ground right next to a banana peel.\"})"
   ]
  },
  {
   "cell_type": "markdown",
   "id": "811ae39f",
   "metadata": {},
   "source": [
    "---"
   ]
  },
  {
   "cell_type": "markdown",
   "id": "79a6bb11",
   "metadata": {},
   "source": [
    "## 练习：为阿波罗故事进行文档标记"
   ]
  },
  {
   "cell_type": "markdown",
   "id": "67e46031",
   "metadata": {},
   "source": [
    "以下是阿波罗 11 登陆的描述。本练习的目标是从描述中提取和标记几个实体。\n",
    "\n",
    "具体来说，您应该提取和标记以下内容：\n",
    "- 关于整个登陆的细节，包括\n",
    "    - 描述中提到的任何机组成员的列表。对于每位机组成员，您应获取他们的：\n",
    "        - 姓名\n",
    "        - 任务中的角色\n",
    "    - 描述中提到的任何航天器的部件和模块的列表。对于提取的航天器部件，您应获取其：\n",
    "        - 名称\n",
    "        - 所属的具体部件或模块\n",
    "    - 描述中提到的任何重要引用的列表。对于每个重要引用，您应提取和标记：\n",
    "        - 引用本身\n",
    "        - 引用的发言者的姓名\n",
    "\n",
    "如果您想，可以直接开始。当然也可以展开下面的*指导*部分。"
   ]
  },
  {
   "cell_type": "code",
   "execution_count": null,
   "id": "5c0e5f0a",
   "metadata": {},
   "outputs": [],
   "source": [
    "apollo_story = \"\"\"\n",
    "On July 20, 1969, Apollo 11, the first manned mission to land on the Moon, successfully touched down in the Sea of Tranquility. \\\n",
    "The crew consisted of Neil Armstrong, who served as the mission commander, \\\n",
    "Edwin 'Buzz' Aldrin, the lunar module pilot, and Michael Collins, the command module pilot.\n",
    "\n",
    "The spacecraft consisted of two main parts: the command module Columbia and the lunar module Eagle. \\\n",
    "As Armstrong stepped onto the lunar surface, he famously declared, \"That's one small step for man, one giant leap for mankind.\"\n",
    "\n",
    "Buzz Aldrin also descended onto the Moon's surface, where he and Armstrong conducted experiments and collected samples. \\\n",
    "Michael Collins remained in lunar orbit aboard Columbia, ensuring the successful return of his fellow astronauts.\n",
    "\n",
    "The mission was a pivotal moment in space exploration and remains a significant achievement in human history.\n",
    "\"\"\""
   ]
  },
  {
   "cell_type": "markdown",
   "id": "15f2e130",
   "metadata": {},
   "source": [
    "### 您的代码"
   ]
  },
  {
   "cell_type": "code",
   "execution_count": null,
   "id": "088f9837",
   "metadata": {},
   "outputs": [],
   "source": []
  },
  {
   "cell_type": "markdown",
   "id": "00b51fab",
   "metadata": {},
   "source": [
    "---"
   ]
  },
  {
   "cell_type": "markdown",
   "id": "f01c37cc",
   "metadata": {},
   "source": [
    "## 指导"
   ]
  },
  {
   "cell_type": "markdown",
   "id": "5f52a7a7",
   "metadata": {},
   "source": [
    "### 定义机组成员详细信息"
   ]
  },
  {
   "cell_type": "markdown",
   "id": "ef457877",
   "metadata": {},
   "source": [
    "按照上述指南，创建一个表示给定机组成员详细信息的类。\n",
    "\n",
    "如果您卡住了，欢迎查看下面的参考答案。"
   ]
  },
  {
   "cell_type": "markdown",
   "id": "233b2705",
   "metadata": {},
   "source": [
    "### 您的代码"
   ]
  },
  {
   "cell_type": "code",
   "execution_count": null,
   "id": "bdb20da6",
   "metadata": {},
   "outputs": [],
   "source": []
  },
  {
   "cell_type": "markdown",
   "id": "941ecdb4",
   "metadata": {},
   "source": [
    "### 参考答案"
   ]
  },
  {
   "cell_type": "code",
   "execution_count": null,
   "id": "f482f930",
   "metadata": {},
   "outputs": [],
   "source": [
    "class CrewMember(BaseModel):\n",
    "    \"\"\"Details of a crew member\"\"\"\n",
    "    name: str = Field(description=\"Name of the crew member\")\n",
    "    role: str = Field(description=\"Role of the crew member in the mission\")"
   ]
  },
  {
   "cell_type": "markdown",
   "id": "5bc96ea7",
   "metadata": {},
   "source": [
    "### 定义航天器详细信息"
   ]
  },
  {
   "cell_type": "markdown",
   "id": "912db039",
   "metadata": {},
   "source": [
    "按照上述指南，创建一个表示描述中提到的航天器详细信息的类。\n",
    "\n",
    "如果您卡住了，欢迎查看下面的参考答案。"
   ]
  },
  {
   "cell_type": "markdown",
   "id": "856b690b",
   "metadata": {},
   "source": [
    "### 您的代码"
   ]
  },
  {
   "cell_type": "code",
   "execution_count": null,
   "id": "a0b153d3",
   "metadata": {},
   "outputs": [],
   "source": []
  },
  {
   "cell_type": "markdown",
   "id": "4a3fdc7f",
   "metadata": {},
   "source": [
    "### 参考答案"
   ]
  },
  {
   "cell_type": "code",
   "execution_count": null,
   "id": "09660a3e",
   "metadata": {},
   "outputs": [],
   "source": [
    "class SpacecraftDetail(BaseModel):\n",
    "    \"\"\"Details of the spacecraft\"\"\"\n",
    "    name: str = Field(description=\"Name of the spacecraft\")\n",
    "    part: str = Field(description=\"Specific part or module of the spacecraft\")"
   ]
  },
  {
   "cell_type": "markdown",
   "id": "d8c52aa9",
   "metadata": {},
   "source": [
    "### 定义重要引用"
   ]
  },
  {
   "cell_type": "markdown",
   "id": "bfed8116",
   "metadata": {},
   "source": [
    "按照上述指南，创建一个表示描述中所有重要引用详细信息的类。\n",
    "\n",
    "如果您卡住了，欢迎查看下面的参考答案。"
   ]
  },
  {
   "cell_type": "markdown",
   "id": "7859f911",
   "metadata": {},
   "source": [
    "### 您的代码"
   ]
  },
  {
   "cell_type": "code",
   "execution_count": null,
   "id": "5b54a87f",
   "metadata": {},
   "outputs": [],
   "source": []
  },
  {
   "cell_type": "markdown",
   "id": "29a41622",
   "metadata": {},
   "source": [
    "### 参考答案"
   ]
  },
  {
   "cell_type": "code",
   "execution_count": null,
   "id": "57a16eba",
   "metadata": {},
   "outputs": [],
   "source": [
    "class SignificantQuote(BaseModel):\n",
    "    \"\"\"Details of a significant quote\"\"\"\n",
    "    quote: str = Field(description=\"The quote\")\n",
    "    speaker: str = Field(description=\"Name of the person who said the quote\")"
   ]
  },
  {
   "cell_type": "markdown",
   "id": "76a8f505",
   "metadata": {},
   "source": [
    "### 定义整个着陆的综合详情"
   ]
  },
  {
   "cell_type": "markdown",
   "id": "e2815281",
   "metadata": {},
   "source": [
    "创建一个类，包含阿波罗 11 任务的综合详情。它应该包含您上述创建的其它 3 个类的列表。\n",
    "\n",
    "如果您卡住了，欢迎查看下面的参考答案。"
   ]
  },
  {
   "cell_type": "markdown",
   "id": "ebf2afd3",
   "metadata": {},
   "source": [
    "### 您的代码"
   ]
  },
  {
   "cell_type": "code",
   "execution_count": null,
   "id": "38967dd3",
   "metadata": {},
   "outputs": [],
   "source": []
  },
  {
   "cell_type": "markdown",
   "id": "92b84b66",
   "metadata": {},
   "source": [
    "### 参考答案"
   ]
  },
  {
   "cell_type": "code",
   "execution_count": null,
   "id": "e905888f",
   "metadata": {},
   "outputs": [],
   "source": [
    "class Apollo11Details(BaseModel):\n",
    "    \"\"\"Combined details of the Apollo 11 mission\"\"\"\n",
    "    crew_members: List[CrewMember]\n",
    "    spacecraft_details: List[SpacecraftDetail]\n",
    "    significant_quotes: List[SignificantQuote]"
   ]
  },
  {
   "cell_type": "markdown",
   "id": "746792b6",
   "metadata": {},
   "source": [
    "### 创建提取链"
   ]
  },
  {
   "cell_type": "markdown",
   "id": "5bbcf119",
   "metadata": {},
   "source": [
    "在所有数据类都定义好之后，是时候创建一个链，包括将 `JsonOutputParser` 与我们的 LLM 实例结合，执行实际的提取和标记工作了。\n",
    "\n",
    "如果您卡住了，可以查看下面的参考答案。"
   ]
  },
  {
   "cell_type": "markdown",
   "id": "118da8a1",
   "metadata": {},
   "source": [
    "### 您的代码"
   ]
  },
  {
   "cell_type": "code",
   "execution_count": null,
   "id": "64c04290",
   "metadata": {},
   "outputs": [],
   "source": []
  },
  {
   "cell_type": "markdown",
   "id": "6d9538b3",
   "metadata": {},
   "source": [
    "### 参考答案"
   ]
  },
  {
   "cell_type": "code",
   "execution_count": null,
   "id": "c80c7a16",
   "metadata": {},
   "outputs": [],
   "source": [
    "parser = JsonOutputParser(pydantic_object=Apollo11Details)\n",
    "\n",
    "format_instructions = parser.get_format_instructions()\n",
    "\n",
    "template_with_format_instructions = template.partial(format_instructions=format_instructions)\n",
    "\n",
    "chain = template_with_format_instructions | llm | parser"
   ]
  },
  {
   "cell_type": "markdown",
   "id": "0d0b7482",
   "metadata": {},
   "source": [
    "### 调用提取链"
   ]
  },
  {
   "cell_type": "markdown",
   "id": "5bfe8728",
   "metadata": {},
   "source": [
    "现在，对 apollo_story 调用链吧。\n",
    "\n",
    "如果您卡住了，可以查看下面的参考答案。"
   ]
  },
  {
   "cell_type": "markdown",
   "id": "01ddac85",
   "metadata": {},
   "source": [
    "### 您的代码"
   ]
  },
  {
   "cell_type": "code",
   "execution_count": null,
   "id": "bbb63f55",
   "metadata": {},
   "outputs": [],
   "source": []
  },
  {
   "cell_type": "markdown",
   "id": "ce278bf1",
   "metadata": {},
   "source": [
    "### 参考答案"
   ]
  },
  {
   "cell_type": "code",
   "execution_count": null,
   "id": "d96d38d6",
   "metadata": {},
   "outputs": [],
   "source": [
    "apollo_details = chain.invoke({\"input\": apollo_story})"
   ]
  },
  {
   "cell_type": "code",
   "execution_count": null,
   "id": "7fc5a0f6",
   "metadata": {},
   "outputs": [],
   "source": [
    "pprint(apollo_details)"
   ]
  },
  {
   "cell_type": "markdown",
   "id": "d0ded790",
   "metadata": {},
   "source": [
    "---"
   ]
  },
  {
   "cell_type": "markdown",
   "id": "5ddf3b65",
   "metadata": {},
   "source": [
    "## 总结"
   ]
  },
  {
   "cell_type": "markdown",
   "id": "9b20f0db",
   "metadata": {},
   "source": [
    "本 notebook 结束了关于结构化数据生成的部分，我们希望您能认识到这是一种功能强大的工具，有很多应用。\n",
    "\n",
    "与生成结构化数据的能力相关，LLM 可以生成结构化数据，指示何时以及如何调用非 LLM 功能。我们称这种技术为工具使用（tool use），接下来的部分您将学习如何创建工具，并通过智能体将其与 LLM 的交互结合起来。"
   ]
  }
 ],
 "metadata": {
  "language_info": {
   "name": "python"
  }
 },
 "nbformat": 4,
 "nbformat_minor": 5
}
