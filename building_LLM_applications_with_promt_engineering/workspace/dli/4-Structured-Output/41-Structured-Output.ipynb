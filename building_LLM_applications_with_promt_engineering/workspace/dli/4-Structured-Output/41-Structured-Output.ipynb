{
 "cells": [
  {
   "cell_type": "markdown",
   "id": "f9943f66",
   "metadata": {},
   "source": [
    "<center><a href=\"https://www.nvidia.cn/training/\"><img src=\"https://dli-lms.s3.amazonaws.com/assets/general/DLI_Header_White.png\" width=\"400\" height=\"186\" /></a></center>"
   ]
  },
  {
   "cell_type": "markdown",
   "id": "ad37c294",
   "metadata": {},
   "source": [
    "# 结构化输出"
   ]
  },
  {
   "cell_type": "code",
   "execution_count": null,
   "id": "9e59b8ac",
   "metadata": {},
   "outputs": [],
   "source": [
    "from videos.walkthroughs import walkthrough_41 as walkthrough"
   ]
  },
  {
   "cell_type": "code",
   "execution_count": null,
   "id": "95fb926f",
   "metadata": {},
   "outputs": [],
   "source": [
    "walkthrough()"
   ]
  },
  {
   "cell_type": "markdown",
   "id": "d2f45d9d",
   "metadata": {},
   "source": [
    "在这个 notebook 中，我们将介绍如何使用 LLM 生成结构化输出，并探索一些批量生成下游数据的方法。"
   ]
  },
  {
   "cell_type": "markdown",
   "id": "de06d717",
   "metadata": {},
   "source": [
    "---"
   ]
  },
  {
   "cell_type": "markdown",
   "id": "d35ef127",
   "metadata": {},
   "source": [
    "## 目标"
   ]
  },
  {
   "cell_type": "markdown",
   "id": "ce36c8ab",
   "metadata": {},
   "source": [
    "完成这个 notebook 后，您将：\n",
    "\n",
    "- 了解让 LLM 生成结构化输出的价值。\n",
    "- 提示您的模型生成结构化输出。\n",
    "- 使用聊天模型将输入批量处理为结构化数据。"
   ]
  },
  {
   "cell_type": "markdown",
   "id": "9ce5e9c5",
   "metadata": {},
   "source": [
    "---"
   ]
  },
  {
   "cell_type": "markdown",
   "id": "9ca2a463",
   "metadata": {},
   "source": [
    "## 导入"
   ]
  },
  {
   "cell_type": "code",
   "execution_count": null,
   "id": "097093fd",
   "metadata": {},
   "outputs": [],
   "source": [
    "from langchain_nvidia_ai_endpoints import ChatNVIDIA\n",
    "from langchain_core.prompts import ChatPromptTemplate\n",
    "from langchain_core.output_parsers import StrOutputParser, SimpleJsonOutputParser\n",
    "from langchain_core.runnables import RunnableLambda"
   ]
  },
  {
   "cell_type": "markdown",
   "id": "636fd76f",
   "metadata": {},
   "source": [
    "---"
   ]
  },
  {
   "cell_type": "markdown",
   "id": "6081ed44",
   "metadata": {},
   "source": [
    "## 创建模型实例"
   ]
  },
  {
   "cell_type": "code",
   "execution_count": null,
   "id": "49fe4deb",
   "metadata": {},
   "outputs": [],
   "source": [
    "base_url = 'http://llama:8000/v1'\n",
    "model = 'meta/llama-3.1-8b-instruct'\n",
    "llm = ChatNVIDIA(base_url=base_url, model=model, temperature=0)"
   ]
  },
  {
   "cell_type": "markdown",
   "id": "0af729d1",
   "metadata": {},
   "source": [
    "---"
   ]
  },
  {
   "cell_type": "markdown",
   "id": "8506d116",
   "metadata": {},
   "source": [
    "## LLM 和高度结构化的数据格式"
   ]
  },
  {
   "cell_type": "markdown",
   "id": "f222d219",
   "metadata": {},
   "source": [
    "我们希望 LLM 执行的一个非常常见的任务是以高度结构化的格式生成输出。这些格式可以是常见的 JSON，或是 Python 列表，或者是一些根据我们需求定制的结构，比如自定义报告或文档结构。\n",
    "\n",
    "LLM 的表现在逐渐变好，它们生成高度结构化数据的能力大幅提升，即使是小型的 LLM（比如今天使用的 8B 模型），也可以通过一些提示工程，以使模型能够持续产生我们所需的内容，比如 JSON（或任何类型的代码）或其它特定格式的结构。\n",
    "\n",
    "让我们来处理一个非常常见的任务：让模型生成结构化的 JSON。JSON 在许多应用场景中都是一个很好的结构，因为它可以直接用于许多后续任务，或者将 JSON 转换为各种其它可用格式，如 Python 字典、dataframes 等等。"
   ]
  },
  {
   "cell_type": "markdown",
   "id": "9c074e6b",
   "metadata": {},
   "source": [
    "---"
   ]
  },
  {
   "cell_type": "markdown",
   "id": "966bb907",
   "metadata": {},
   "source": [
    "## 一个简单的 JSON 对象"
   ]
  },
  {
   "cell_type": "markdown",
   "id": "7660c578",
   "metadata": {},
   "source": [
    "继续迭代提示词的思路，先从简单开始，设计一个提示词来指导模型构建一个 JSON 对象。这里我们要求模型创建一个简单的 JSON 对象，表示圣克拉拉市的详细信息。"
   ]
  },
  {
   "cell_type": "code",
   "execution_count": null,
   "id": "a73ff173",
   "metadata": {},
   "outputs": [],
   "source": [
    "prompt = '''\\\n",
    "Make a JSON object representing the city Santa Clara. \\\n",
    "It should have fields for: \\\n",
    "- The name of the city \\\n",
    "- The country the city is located in.'''"
   ]
  },
  {
   "cell_type": "code",
   "execution_count": null,
   "id": "17d16794",
   "metadata": {},
   "outputs": [],
   "source": [
    "print(llm.invoke(prompt).content)"
   ]
  },
  {
   "cell_type": "markdown",
   "id": "def64707",
   "metadata": {},
   "source": [
    "我们收到了模型返回的一些对话文本，这些文本并不是我们想要的，但在响应中有一个看起来非常不错的 JSON 对象，这很好。\n",
    "\n",
    "顺便说一下，LLM 在生成结构化输出方面的能力正在迅速提高，我们期待它们会变得越来越好。甚至在几个月前（本文于 2024 年夏天撰写），使用 Llama 3.1 的前身 Llama 2，用如此简单的提示从一个 8B 模型中得到这样好的响应基本是不可能的。\n",
    "\n",
    "我们仍然有工作要做，下面就来迭代一下提示词，看看能否去掉这些对话文本。"
   ]
  },
  {
   "cell_type": "code",
   "execution_count": null,
   "id": "77f25f9a",
   "metadata": {},
   "outputs": [],
   "source": [
    "prompt = '''\\\n",
    "Make a JSON object representing the city Santa Clara. \\\n",
    "It should have fields for:\n",
    "- The name of the city\n",
    "- The country the city is located in.\n",
    "\n",
    "Only return the JSON. Never return non-JSON text.'''"
   ]
  },
  {
   "cell_type": "code",
   "execution_count": null,
   "id": "9b29f385",
   "metadata": {},
   "outputs": [],
   "source": [
    "print(llm.invoke(prompt).content)"
   ]
  },
  {
   "cell_type": "markdown",
   "id": "94b86233",
   "metadata": {},
   "source": [
    "现在更接近我们的目标了，接下来，看看能否继续去掉引号的包裹。"
   ]
  },
  {
   "cell_type": "code",
   "execution_count": null,
   "id": "b046c2f1",
   "metadata": {},
   "outputs": [],
   "source": [
    "prompt = '''\\\n",
    "Make a JSON object representing the city Santa Clara. \\\n",
    "It should have fields for:\n",
    "- The name of the city\n",
    "- The country the city is located in.\n",
    "\n",
    "Only return the JSON. Never return non-JSON text including backtack wrappers around the JSON.'''"
   ]
  },
  {
   "cell_type": "code",
   "execution_count": null,
   "id": "72479d4f",
   "metadata": {},
   "outputs": [],
   "source": [
    "print(llm.invoke(prompt).content)"
   ]
  },
  {
   "cell_type": "markdown",
   "id": "5ca6879b",
   "metadata": {},
   "source": [
    "这才是我们想要的。下面把模型响应加载到一个 Python 字典，遍历它来验证一下。"
   ]
  },
  {
   "cell_type": "code",
   "execution_count": null,
   "id": "365ae4b3",
   "metadata": {},
   "outputs": [],
   "source": [
    "json_city = llm.invoke(prompt).content"
   ]
  },
  {
   "cell_type": "code",
   "execution_count": null,
   "id": "f9edb013",
   "metadata": {},
   "outputs": [],
   "source": [
    "import json\n",
    "python_city = json.loads(json_city)\n",
    "\n",
    "for k, v in python_city.items():\n",
    "    print(f'{k}: {v}')"
   ]
  },
  {
   "cell_type": "markdown",
   "id": "559947c1",
   "metadata": {},
   "source": [
    "---"
   ]
  },
  {
   "cell_type": "markdown",
   "id": "cdab7c1d",
   "metadata": {},
   "source": [
    "## 将提示词制作成模板"
   ]
  },
  {
   "cell_type": "markdown",
   "id": "edd63bef",
   "metadata": {},
   "source": [
    "接下来，让我们把提示词转换为一个提示模板，以便将城市名称参数化。"
   ]
  },
  {
   "cell_type": "code",
   "execution_count": null,
   "id": "0b4b3dc0",
   "metadata": {},
   "outputs": [],
   "source": [
    "json_city_template = ChatPromptTemplate.from_template('''\\\n",
    "Make a JSON object representing the city {city_name}. \\\n",
    "It should have fields for:\n",
    "- The name of the city\n",
    "- The country the city is located in.\n",
    "\n",
    "Only return the JSON. Never return non-JSON text including backtack wrappers around the JSON.''')"
   ]
  },
  {
   "cell_type": "markdown",
   "id": "1bc0fa05",
   "metadata": {},
   "source": [
    "接下来，我们将组合一个简单的链。"
   ]
  },
  {
   "cell_type": "code",
   "execution_count": null,
   "id": "d54fa562",
   "metadata": {},
   "outputs": [],
   "source": [
    "parser = StrOutputParser()"
   ]
  },
  {
   "cell_type": "code",
   "execution_count": null,
   "id": "f4e5a9d9",
   "metadata": {},
   "outputs": [],
   "source": [
    "chain = json_city_template | llm | parser"
   ]
  },
  {
   "cell_type": "code",
   "execution_count": null,
   "id": "c6fb5980",
   "metadata": {},
   "outputs": [],
   "source": [
    "print(chain.invoke({'city_name': 'Santa Clara'}))"
   ]
  },
  {
   "cell_type": "markdown",
   "id": "cf169efd",
   "metadata": {},
   "source": [
    "这看起来也不错。"
   ]
  },
  {
   "cell_type": "markdown",
   "id": "d7a87670",
   "metadata": {},
   "source": [
    "---"
   ]
  },
  {
   "cell_type": "markdown",
   "id": "4f2837c3",
   "metadata": {},
   "source": [
    "## 简单的 JSON 解析"
   ]
  },
  {
   "cell_type": "markdown",
   "id": "edb87902",
   "metadata": {},
   "source": [
    "为了确认我们可以将 JSON 对象加载为 Python 字典，这里用一个自定义的运行时直接将模型响应解析为 Python 字典。"
   ]
  },
  {
   "cell_type": "code",
   "execution_count": null,
   "id": "439b169f",
   "metadata": {},
   "outputs": [],
   "source": [
    "parse_to_dict = RunnableLambda(lambda response: json.loads(response.content))"
   ]
  },
  {
   "cell_type": "markdown",
   "id": "2ee41525",
   "metadata": {},
   "source": [
    "重新组合我们的链，以使用这个自定义解析器。"
   ]
  },
  {
   "cell_type": "code",
   "execution_count": null,
   "id": "a4d2d5b0",
   "metadata": {},
   "outputs": [],
   "source": [
    "chain = json_city_template | llm | parse_to_dict"
   ]
  },
  {
   "cell_type": "code",
   "execution_count": null,
   "id": "8f5ce995",
   "metadata": {},
   "outputs": [],
   "source": [
    "chain.invoke({'city_name': 'Santa Clara'})"
   ]
  },
  {
   "cell_type": "markdown",
   "id": "b47442c0",
   "metadata": {},
   "source": [
    "这看起来不错。\n",
    "\n",
    "再加一个小改进，LangChain 已经提供了 `SimpleJsonOutputParser` 来处理这种情况。让我们用它重建链。"
   ]
  },
  {
   "cell_type": "code",
   "execution_count": null,
   "id": "e9710c40",
   "metadata": {},
   "outputs": [],
   "source": [
    "from langchain_core.output_parsers import SimpleJsonOutputParser"
   ]
  },
  {
   "cell_type": "code",
   "execution_count": null,
   "id": "a9325517",
   "metadata": {},
   "outputs": [],
   "source": [
    "json_parser = SimpleJsonOutputParser()"
   ]
  },
  {
   "cell_type": "code",
   "execution_count": null,
   "id": "295a6c80",
   "metadata": {},
   "outputs": [],
   "source": [
    "chain = json_city_template | llm | json_parser"
   ]
  },
  {
   "cell_type": "code",
   "execution_count": null,
   "id": "bf60ab8e",
   "metadata": {},
   "outputs": [],
   "source": [
    "chain.invoke({'city_name': 'Santa Clara'})"
   ]
  },
  {
   "cell_type": "markdown",
   "id": "23e1c915",
   "metadata": {},
   "source": [
    "---"
   ]
  },
  {
   "cell_type": "markdown",
   "id": "2be03358",
   "metadata": {},
   "source": [
    "## 批量处理多个输入"
   ]
  },
  {
   "cell_type": "markdown",
   "id": "b989a20f",
   "metadata": {},
   "source": [
    "到目前为止一切顺利，出于迭代提示词开发的原则，我们再在几个不同的输入上测试这个链。"
   ]
  },
  {
   "cell_type": "code",
   "execution_count": null,
   "id": "feb87bad",
   "metadata": {},
   "outputs": [],
   "source": [
    "city_names = [\n",
    "    {'city_name': 'Santa Clara'},\n",
    "    {'city_name': 'Busan'},\n",
    "    {'city_name': 'Cairo'},\n",
    "    {'city_name': 'Perth'}\n",
    "]"
   ]
  },
  {
   "cell_type": "code",
   "execution_count": null,
   "id": "7af3a9c2",
   "metadata": {},
   "outputs": [],
   "source": [
    "city_details = chain.batch(city_names)"
   ]
  },
  {
   "cell_type": "code",
   "execution_count": null,
   "id": "2d56eaf9",
   "metadata": {},
   "outputs": [],
   "source": [
    "city_details"
   ]
  },
  {
   "cell_type": "code",
   "execution_count": null,
   "id": "6944d7bf",
   "metadata": {},
   "outputs": [],
   "source": [
    "for city in city_details:\n",
    "    print(f'City: {city['name']}\\nCountry: {city['country']}\\n')"
   ]
  },
  {
   "cell_type": "markdown",
   "id": "466de9f1",
   "metadata": {},
   "source": [
    "---"
   ]
  },
  {
   "cell_type": "markdown",
   "id": "8d260c68",
   "metadata": {},
   "source": [
    "## 结构与生成"
   ]
  },
  {
   "cell_type": "markdown",
   "id": "200fe1e0",
   "metadata": {},
   "source": [
    "我们在整个课程中一直在用 LLM 生成内容，虽然可能很明显，但还是值得强调一下：我们不仅是让 LLM 结构化给定数据，同时也结合了它的生成能力。\n",
    "\n",
    "在刚刚处理的例子中，输入的数据是一个城市名称，我们希望将其结构化成 JSON。但不仅是结构化这个信息（城市的名称），我们还利用了模型的生成能力扩展数据内容，加入了城市所在的国家，而这些信息我们并没有直接提供给模型。\n",
    "\n",
    "结合 LLM 生成能力生成结构化输出/数据，真的非常强大。"
   ]
  },
  {
   "cell_type": "markdown",
   "id": "682cf72b",
   "metadata": {},
   "source": [
    "---"
   ]
  },
  {
   "cell_type": "markdown",
   "id": "8fda3530",
   "metadata": {},
   "source": [
    "## 练习：生成书籍详细信息列表"
   ]
  },
  {
   "cell_type": "markdown",
   "id": "f0cf2591",
   "metadata": {},
   "source": [
    "使用到目前为止您学到的技术，生成一个包含字典的 Python 列表，每个字典都包含以下书籍详细信息。\n",
    "\n",
    "每个字典应包含书名、作者和原始出版年份。\n",
    "\n",
    "如果您遇到困难，可以随时查看下面的*参考答案*。"
   ]
  },
  {
   "cell_type": "code",
   "execution_count": null,
   "id": "b14045e2",
   "metadata": {},
   "outputs": [],
   "source": [
    "sci_fi_books = [\n",
    "    {\"book_title\": \"Dune\"},\n",
    "    {\"book_title\": \"Neuromancer\"},\n",
    "    {\"book_title\": \"Snow Crash\"},\n",
    "    {\"book_title\": \"The Left Hand of Darkness\"},\n",
    "    {\"book_title\": \"Foundation\"}\n",
    "]"
   ]
  },
  {
   "cell_type": "markdown",
   "id": "fc9eed8e",
   "metadata": {},
   "source": [
    "### 您的代码"
   ]
  },
  {
   "cell_type": "code",
   "execution_count": null,
   "id": "771f4a84",
   "metadata": {},
   "outputs": [],
   "source": []
  },
  {
   "cell_type": "markdown",
   "id": "f04bd73e",
   "metadata": {},
   "source": [
    "### 参考答案"
   ]
  },
  {
   "cell_type": "code",
   "execution_count": null,
   "id": "73ce8334",
   "metadata": {},
   "outputs": [],
   "source": [
    "book_template = ChatPromptTemplate.from_template('''\\\n",
    "Make a JSON object representing the details of the following book: {book_title}. \\\n",
    "It should have fields for:\n",
    "- The title of the book.\n",
    "- The author of the book.\n",
    "- The year the book was originally published.\n",
    "\n",
    "Only return the JSON. Never return non-JSON text including backtack wrappers around the JSON.''')"
   ]
  },
  {
   "cell_type": "code",
   "execution_count": null,
   "id": "d3572af8",
   "metadata": {},
   "outputs": [],
   "source": [
    "chain = book_template | llm | json_parser"
   ]
  },
  {
   "cell_type": "code",
   "execution_count": null,
   "id": "405f49d4",
   "metadata": {},
   "outputs": [],
   "source": [
    "chain.batch(sci_fi_books)"
   ]
  },
  {
   "cell_type": "markdown",
   "id": "f50c75ee",
   "metadata": {},
   "source": [
    "---"
   ]
  },
  {
   "cell_type": "markdown",
   "id": "cad44df8",
   "metadata": {},
   "source": [
    "## 总结"
   ]
  },
  {
   "cell_type": "markdown",
   "id": "f1d37051",
   "metadata": {},
   "source": [
    "在这个 notebook 中，您开始接触 LLM 生成结构化输出的能力。下一个 notebook 您将使用 Pydantic 类和 LangChain 的 JsonOutputParser 来大幅提升这项能力。"
   ]
  }
 ],
 "metadata": {
  "kernelspec": {
   "display_name": "Python 3 (ipykernel)",
   "language": "python",
   "name": "python3"
  },
  "language_info": {
   "codemirror_mode": {
    "name": "ipython",
    "version": 3
   },
   "file_extension": ".py",
   "mimetype": "text/x-python",
   "name": "python",
   "nbconvert_exporter": "python",
   "pygments_lexer": "ipython3",
   "version": "3.12.1"
  }
 },
 "nbformat": 4,
 "nbformat_minor": 5
}
