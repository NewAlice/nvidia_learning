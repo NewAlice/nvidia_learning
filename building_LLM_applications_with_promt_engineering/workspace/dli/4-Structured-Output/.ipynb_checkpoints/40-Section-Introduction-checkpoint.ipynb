{
 "cells": [
  {
   "cell_type": "markdown",
   "id": "ee03c5e5",
   "metadata": {},
   "source": [
    "<center><a href=\"https://www.nvidia.cn/training/\"><img src=\"https://dli-lms.s3.amazonaws.com/assets/general/DLI_Header_White.png\" width=\"400\" height=\"186\" /></a></center>"
   ]
  },
  {
   "cell_type": "markdown",
   "id": "2f4b0468",
   "metadata": {},
   "source": [
    "# 第四部分：结构化输出"
   ]
  },
  {
   "cell_type": "code",
   "execution_count": null,
   "id": "fe07bce1",
   "metadata": {},
   "outputs": [],
   "source": [
    "from videos.walkthroughs import walkthrough_40 as walkthrough"
   ]
  },
  {
   "cell_type": "code",
   "execution_count": null,
   "id": "e7f060a7",
   "metadata": {},
   "outputs": [],
   "source": [
    "walkthrough()"
   ]
  },
  {
   "cell_type": "markdown",
   "id": "4755d3f4",
   "metadata": {},
   "source": [
    "您将这部分学习一些实用的技术，不仅能生成结构化输出，还能处理任何格式的文本，进行复杂的数据提取和标记。您将使用非常流行的数据验证库 Pydantic，完成这部分后，您将拥有一个可以在许多 LLM 应用中使用的工具。"
   ]
  },
  {
   "cell_type": "markdown",
   "id": "eee6a9d9",
   "metadata": {},
   "source": [
    "---"
   ]
  },
  {
   "cell_type": "markdown",
   "id": "3e2bb591",
   "metadata": {},
   "source": [
    "## 目录"
   ]
  },
  {
   "cell_type": "markdown",
   "id": "a39cb1a5",
   "metadata": {},
   "source": [
    "1. **结构化输出：** 在这个 notebook 中，我们介绍了如何用 LLM 生成结构化输出，并探讨了一些用 LLM 批量生成下游数据的方法。\n",
    "2. **使用 Pydantic 进行结构化输出：** 在这个 notebook 中，您将通过结合 Pydantic 类和 LangChain 的 `JsonOutputParser` 大幅提升生成结构化输出的能力。\n",
    "3. **文档标记：** 在这个 notebook 中，您将通过学习如何从长文本提取并按指定条件标记数据，来扩展结构化数据的生成能力。"
   ]
  }
 ],
 "metadata": {
  "language_info": {
   "name": "python"
  }
 },
 "nbformat": 4,
 "nbformat_minor": 5
}
