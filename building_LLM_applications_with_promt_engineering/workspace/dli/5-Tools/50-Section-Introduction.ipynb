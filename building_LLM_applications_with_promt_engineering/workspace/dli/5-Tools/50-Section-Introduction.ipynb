{
 "cells": [
  {
   "cell_type": "markdown",
   "id": "870b73db",
   "metadata": {},
   "source": [
    "<center><a href=\"https://www.nvidia.cn/training/\"><img src=\"https://dli-lms.s3.amazonaws.com/assets/general/DLI_Header_White.png\" width=\"400\" height=\"186\" /></a></center>"
   ]
  },
  {
   "cell_type": "markdown",
   "id": "11cd64ae",
   "metadata": {},
   "source": [
    "# 第 5 章：工具使用与智能体"
   ]
  },
  {
   "cell_type": "code",
   "execution_count": null,
   "id": "4e3b5729",
   "metadata": {},
   "outputs": [],
   "source": [
    "from videos.walkthroughs import walkthrough_50 as walkthrough"
   ]
  },
  {
   "cell_type": "code",
   "execution_count": null,
   "id": "c9bc6e72",
   "metadata": {},
   "outputs": [],
   "source": [
    "walkthrough()"
   ]
  },
  {
   "cell_type": "markdown",
   "id": "5e12e937",
   "metadata": {},
   "source": [
    "大语言模型能识别应用在什么时候应该调用 LLM 本身之外的功能。这些 LLM 外部的功能组件被称为工具，而能识别何时以及如何使用工具的 LLM 应用被称为智能体。\n",
    "\n",
    "工具使用和智能体是一个非常庞大的主题，但这一节，我们先为您在 LLM 应用的背景下进行介绍。完成本节后，您将能创建工具及简单的智能体，并将它们整合到您的 LLM 链中。"
   ]
  },
  {
   "cell_type": "markdown",
   "id": "b45d6cae",
   "metadata": {},
   "source": [
    "---"
   ]
  },
  {
   "cell_type": "markdown",
   "id": "da90a188",
   "metadata": {},
   "source": [
    "## 章节目录"
   ]
  },
  {
   "cell_type": "markdown",
   "id": "d88ad898",
   "metadata": {},
   "source": [
    "1. **工具调用：** 在这个 notebook 中，您将学习如何创建工具，并让您的 LLM 实例意识到可以使用它们。\n",
    "2. **智能体：** 在这个 notebook 中，您将学习如何创建一个能推理何时应该使用工具的智能体，并将工具使用的结果整合到响应中。\n",
    "3. **课程总结：** 在这个最终 notebook 中，我们会总结您所做的所有内容，提供获取课程证书的说明，征求反馈意见，以及对进一步学习的建议。"
   ]
  }
 ],
 "metadata": {
  "language_info": {
   "name": "python"
  }
 },
 "nbformat": 4,
 "nbformat_minor": 5
}
