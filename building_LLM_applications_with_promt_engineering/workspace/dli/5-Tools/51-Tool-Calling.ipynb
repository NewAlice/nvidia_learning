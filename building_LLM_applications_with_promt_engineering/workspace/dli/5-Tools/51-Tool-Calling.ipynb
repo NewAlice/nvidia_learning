{
 "cells": [
  {
   "cell_type": "markdown",
   "id": "d5c1c5d6",
   "metadata": {},
   "source": [
    "<center><a href=\"https://www.nvidia.cn/training/\"><img src=\"https://dli-lms.s3.amazonaws.com/assets/general/DLI_Header_White.png\" width=\"400\" height=\"186\" /></a></center>"
   ]
  },
  {
   "cell_type": "markdown",
   "id": "608e9018",
   "metadata": {},
   "source": [
    "# 工具调用"
   ]
  },
  {
   "cell_type": "code",
   "execution_count": null,
   "id": "922a06f2",
   "metadata": {},
   "outputs": [],
   "source": [
    "from videos.walkthroughs import walkthrough_51 as walkthrough"
   ]
  },
  {
   "cell_type": "code",
   "execution_count": null,
   "id": "00928281",
   "metadata": {},
   "outputs": [],
   "source": [
    "walkthrough()"
   ]
  },
  {
   "cell_type": "markdown",
   "id": "92ebb693",
   "metadata": {},
   "source": [
    "在这个 notebook 中，您将学习如何增强您的 LLM，使其能利用外部的、与 LLM 无关的功能，这个技术被称为工具使用。"
   ]
  },
  {
   "cell_type": "markdown",
   "id": "5916e8ff",
   "metadata": {},
   "source": [
    "---"
   ]
  },
  {
   "cell_type": "markdown",
   "id": "d94eb26c",
   "metadata": {},
   "source": [
    "## 目标"
   ]
  },
  {
   "cell_type": "markdown",
   "id": "3106ae47",
   "metadata": {},
   "source": [
    "完成这个 notebook 后，您将:\n",
    "\n",
    "- 理解在 LLM 应用中工具的含义。\n",
    "- 能够创建工具。\n",
    "- 了解模型如何判断何时以及如何使用工具。"
   ]
  },
  {
   "cell_type": "markdown",
   "id": "c7394709",
   "metadata": {},
   "source": [
    "---"
   ]
  },
  {
   "cell_type": "markdown",
   "id": "840b9137",
   "metadata": {},
   "source": [
    "## 导入"
   ]
  },
  {
   "cell_type": "code",
   "execution_count": null,
   "id": "f88d1ac8",
   "metadata": {},
   "outputs": [],
   "source": [
    "from langchain_nvidia_ai_endpoints import ChatNVIDIA\n",
    "from langchain_core.prompts import ChatPromptTemplate\n",
    "from langchain_core.pydantic_v1 import BaseModel, Field\n",
    "from langchain_core.runnables import RunnableLambda\n",
    "import wikipediaapi"
   ]
  },
  {
   "cell_type": "markdown",
   "id": "529a1a22",
   "metadata": {},
   "source": [
    "---"
   ]
  },
  {
   "cell_type": "markdown",
   "id": "e9e4e878",
   "metadata": {},
   "source": [
    "## 创建模型实例"
   ]
  },
  {
   "cell_type": "code",
   "execution_count": null,
   "id": "fcfb0243",
   "metadata": {},
   "outputs": [],
   "source": [
    "base_url = 'http://llama:8000/v1'\n",
    "model = 'meta/llama-3.1-8b-instruct'\n",
    "llm = ChatNVIDIA(base_url=base_url, model=model, temperature=0)"
   ]
  },
  {
   "cell_type": "markdown",
   "id": "58d4f60d",
   "metadata": {},
   "source": [
    "---"
   ]
  },
  {
   "cell_type": "markdown",
   "id": "d7d74438",
   "metadata": {},
   "source": [
    "## 使用工具的 LLM"
   ]
  },
  {
   "cell_type": "markdown",
   "id": "457749dc",
   "metadata": {},
   "source": [
    "在整个课程中，我们探讨了一些 LLM 能执行的惊人任务，但当然并不是说它们擅长所有任务。无论是模型尝试执行并不擅长的任务，比如数学或其它基于计算的任务，还是那些对 LLM 来说根本不可能完成的任务，比如调用外部服务。这时我们就希望能增强 LLM 应用，让它能使用 LLM 本身以外的工具。\n",
    "\n",
    "您已经通过 `RunnableLambda` 创建了自定义运行时，并将其包含在您的链中。实际上，这些自定义运行时可以执行任意任务，不一定非得使用 LLM。\n",
    "\n",
    "现在就来看看另一种强大的技术，我们可以通过它为 LLM 提供一组函数或“工具”，这些工具可能会更适合处理用户的输入，并允许 LLM 决定何时使用一个或多个工具。此外，我们还将利用 LLM 提供关于如何调用其认为合适的工具的细节。\n",
    "\n",
    "您在上一节中学到的关于结构化数据生成的很多内容也适用于 LLM 工具调用：LLM 能生成符合特定结构的输出。当调用工具时，LLM 将生成应该调用哪个工具，以及如何传递参数的指示。"
   ]
  },
  {
   "cell_type": "markdown",
   "id": "6c2502b4",
   "metadata": {},
   "source": [
    "---"
   ]
  },
  {
   "cell_type": "markdown",
   "id": "ec6a674a",
   "metadata": {},
   "source": [
    "## 简单的工具创建"
   ]
  },
  {
   "cell_type": "markdown",
   "id": "4f626385",
   "metadata": {},
   "source": [
    "首先，我们需要知道如何创建一个 LLM 工具。最简单的方法就是用 `tool` 装饰器，可以将其应用于任何函数来转换为工具。"
   ]
  },
  {
   "cell_type": "code",
   "execution_count": null,
   "id": "50e2c3da",
   "metadata": {},
   "outputs": [],
   "source": [
    "from langchain_core.tools import tool"
   ]
  },
  {
   "cell_type": "markdown",
   "id": "a38406f1",
   "metadata": {},
   "source": [
    "这里我们将 `tool` 装饰器应用于一个非常简单的 `add` 函数"
   ]
  },
  {
   "cell_type": "code",
   "execution_count": null,
   "id": "b9ee4a52",
   "metadata": {},
   "outputs": [],
   "source": [
    "@tool\n",
    "def add(a: int, b: int) -> int:\n",
    "    \"\"\"Add two numbers\"\"\"\n",
    "    return a * b"
   ]
  },
  {
   "cell_type": "markdown",
   "id": "bf2f2caf",
   "metadata": {},
   "source": [
    "由于 `add` 不再是一个 Python 函数，而是一个工具，因此它有一些特定的属性。第一个是它的名称，这是一个带装饰 Python 函数的名称字符串。"
   ]
  },
  {
   "cell_type": "code",
   "execution_count": null,
   "id": "eeb96d4e",
   "metadata": {},
   "outputs": [],
   "source": [
    "add.name"
   ]
  },
  {
   "cell_type": "markdown",
   "id": "f8f988bd",
   "metadata": {},
   "source": [
    "接下来是一个 `description`，您会注意到它是从装饰函数的 docstring 创建的。"
   ]
  },
  {
   "cell_type": "code",
   "execution_count": null,
   "id": "8d5c909e",
   "metadata": {},
   "outputs": [],
   "source": [
    "add.description"
   ]
  },
  {
   "cell_type": "markdown",
   "id": "348ac946",
   "metadata": {},
   "source": [
    "与上一节中用于结构化数据输出的 Pydantic 类一样，我们的文档字符串将被 LangChain 在后台用于向 LLM 传达信息。因此，为您的工具添加有意义的 docstring 是必要且必须的。\n",
    "\n",
    "工具还有一个 `args` 属性。因为上面的定义中使用了类型提示，所以我们可以看到每个参数都有与其类型相关的额外信息。"
   ]
  },
  {
   "cell_type": "code",
   "execution_count": null,
   "id": "8c9158c4",
   "metadata": {},
   "outputs": [],
   "source": [
    "add.args"
   ]
  },
  {
   "cell_type": "markdown",
   "id": "1d45cebc",
   "metadata": {},
   "source": [
    "---"
   ]
  },
  {
   "cell_type": "markdown",
   "id": "ca35c868",
   "metadata": {},
   "source": [
    "## 调用工具"
   ]
  },
  {
   "cell_type": "markdown",
   "id": "401781c0",
   "metadata": {},
   "source": [
    "工具并不是字面意义上的函数，我们不能像调用普通 Python 函数那样用 `()` 来调用它们。这样会引发异常。"
   ]
  },
  {
   "cell_type": "code",
   "execution_count": null,
   "id": "0e7bef00",
   "metadata": {},
   "outputs": [],
   "source": [
    "try:\n",
    "    add(3, 4)\n",
    "except AttributeError as e:\n",
    "    print(e)"
   ]
  },
  {
   "cell_type": "markdown",
   "id": "71c9d814",
   "metadata": {},
   "source": [
    "相反，工具有一个 `invoke` 方法，我们总是需要提供一个字典，将装饰函数的预期参数映射到我们想要传入的实际值。"
   ]
  },
  {
   "cell_type": "code",
   "execution_count": null,
   "id": "de167e3a",
   "metadata": {},
   "outputs": [],
   "source": [
    "add.invoke({'a': 3, 'b': 5})"
   ]
  },
  {
   "cell_type": "markdown",
   "id": "607ccce6",
   "metadata": {},
   "source": [
    "---"
   ]
  },
  {
   "cell_type": "markdown",
   "id": "204d42c3",
   "metadata": {},
   "source": [
    "## 带工具的 Pydantic 类"
   ]
  },
  {
   "cell_type": "markdown",
   "id": "39e35ff9",
   "metadata": {},
   "source": [
    "就像在上一节中用 Pydantic 类来表达我们希望 LLM 输出符合特定数据类型的结构一样，也可以用它们来表达 LLM 推荐的，需要传给特定工具的参数结构（schema）。\n",
    "\n",
    "这里我们创建了一个 Pydantic 类 `Add` 来指定将传递给 `add` 工具的参数结构。使用 Pydantic 可以让我们对工具所需的参数结构有更多的控制，包括字段验证等，但今天我们暂时不讨论这些。至少，它为我们提供了一种简单干净的方式来指定结构，并且通过为每个字段添加描述，使 LLM 更容易获取调用工具的额外信息。\n",
    "\n",
    "值得一提的是，`Field` 描述中的 `...` 表示该字段是必需的。"
   ]
  },
  {
   "cell_type": "code",
   "execution_count": null,
   "id": "3337068d",
   "metadata": {},
   "outputs": [],
   "source": [
    "class Add(BaseModel):\n",
    "    \"\"\"Use when and if you need to add two numbers.\"\"\"\n",
    "    a: int = Field(..., description=\"First integer\")\n",
    "    b: int = Field(..., description=\"Second integer\")"
   ]
  },
  {
   "cell_type": "markdown",
   "id": "91ef22a9",
   "metadata": {},
   "source": [
    "定义了 `add` 工具参数结构的 Pydantic 类后，我们可以将其作为传递给 `tool` 装饰器的 `args_schema` 参数，来将其与实际的 `add` 工具关联起来。"
   ]
  },
  {
   "cell_type": "code",
   "execution_count": null,
   "id": "f7da5820",
   "metadata": {},
   "outputs": [],
   "source": [
    "@tool(args_schema=Add)\n",
    "def add(a: int, b: int) -> int:\n",
    "    return a + b "
   ]
  },
  {
   "cell_type": "markdown",
   "id": "a5f76ed7",
   "metadata": {},
   "source": [
    "您会注意到这里不再直接为工具定义提供 docstring，因为我们已经将其作为与之相关的 Pydantic 类的一部分提供了。"
   ]
  },
  {
   "cell_type": "markdown",
   "id": "a4ed92e2",
   "metadata": {},
   "source": [
    "---"
   ]
  },
  {
   "cell_type": "markdown",
   "id": "ddb6e801",
   "metadata": {},
   "source": [
    "## 练习：创建一个乘法工具"
   ]
  },
  {
   "cell_type": "markdown",
   "id": "c80f6a64",
   "metadata": {},
   "source": [
    "作为一个简单的练习，创建一个乘法工具，目的是将两个整数相乘。使用 Pydantic 类来指定工具的参数结构。\n",
    "\n",
    "如果您遇到困难，可以随时查看下面的*参考答案*。"
   ]
  },
  {
   "cell_type": "markdown",
   "id": "2733c43e",
   "metadata": {},
   "source": [
    "### 您的代码"
   ]
  },
  {
   "cell_type": "code",
   "execution_count": null,
   "id": "eef36a41",
   "metadata": {},
   "outputs": [],
   "source": []
  },
  {
   "cell_type": "markdown",
   "id": "63be46bd",
   "metadata": {},
   "source": [
    "### 参考答案"
   ]
  },
  {
   "cell_type": "code",
   "execution_count": null,
   "id": "ff6b8672",
   "metadata": {},
   "outputs": [],
   "source": [
    "class Multiply(BaseModel):\n",
    "    \"\"\"Use when and if you need to multiply to numbers.\"\"\"\n",
    "    a: int = Field(..., description=\"First integer\")\n",
    "    b: int = Field(..., description=\"Second integer\") "
   ]
  },
  {
   "cell_type": "code",
   "execution_count": null,
   "id": "14c32db5",
   "metadata": {},
   "outputs": [],
   "source": [
    "@tool(args_schema=Multiply)\n",
    "def multiply(a: int, b: int) -> int:\n",
    "    return a * b "
   ]
  },
  {
   "cell_type": "markdown",
   "id": "2e5895d1",
   "metadata": {},
   "source": [
    "---"
   ]
  },
  {
   "cell_type": "markdown",
   "id": "08268aa2",
   "metadata": {},
   "source": [
    "## 将工具绑定到模型"
   ]
  },
  {
   "cell_type": "markdown",
   "id": "deeb1b92",
   "metadata": {},
   "source": [
    "我们已经创建了几个 LLM 工具，现在想让 LLM 知道可以使用它们。最简单的方法就是用 LLM 实例的 `bind_tools` 方法，它接收一个工具定义的列表。上面已经定义了一个 LLM 实例 `llm`，所以下面构建一个包含现有的两个工具的列表并将它们绑定到 LLM 实例上。"
   ]
  },
  {
   "cell_type": "code",
   "execution_count": null,
   "id": "f2d90e58",
   "metadata": {},
   "outputs": [],
   "source": [
    "tools = [add, multiply]"
   ]
  },
  {
   "cell_type": "code",
   "execution_count": null,
   "id": "6b0bcf29",
   "metadata": {},
   "outputs": [],
   "source": [
    "llm_with_tools = llm.bind_tools(tools)"
   ]
  },
  {
   "cell_type": "markdown",
   "id": "8b2b9635",
   "metadata": {},
   "source": [
    "当一个 LLM 实例绑定了工具后，仍然可以像往常一样用于非工具相关的调用。这里我们提供一个与加法/乘法无关的提示。"
   ]
  },
  {
   "cell_type": "code",
   "execution_count": null,
   "id": "8c5898a2",
   "metadata": {},
   "outputs": [],
   "source": [
    "response = llm_with_tools.invoke('Who are you?')"
   ]
  },
  {
   "cell_type": "markdown",
   "id": "c0cd9612",
   "metadata": {},
   "source": [
    "我们看到 LLM 返回了一个典型的 `AIMessage` 响应。"
   ]
  },
  {
   "cell_type": "code",
   "execution_count": null,
   "id": "6cc9cb2f",
   "metadata": {},
   "outputs": [],
   "source": [
    "response"
   ]
  },
  {
   "cell_type": "markdown",
   "id": "0d6bc2ab",
   "metadata": {},
   "source": [
    "响应的内容基本上与我们预期的一致。"
   ]
  },
  {
   "cell_type": "code",
   "execution_count": null,
   "id": "a1ded14b",
   "metadata": {},
   "outputs": [],
   "source": [
    "response.content"
   ]
  },
  {
   "cell_type": "markdown",
   "id": "47a41f5d",
   "metadata": {},
   "source": [
    "然而，如果我们用与乘法相关的提示词来提示模型，就会看到一些非常重要的区别。"
   ]
  },
  {
   "cell_type": "code",
   "execution_count": null,
   "id": "58b389e8",
   "metadata": {},
   "outputs": [],
   "source": [
    "response = llm_with_tools.invoke('What is 1234 times 5678?') "
   ]
  },
  {
   "cell_type": "code",
   "execution_count": null,
   "id": "85ff493f",
   "metadata": {},
   "outputs": [],
   "source": [
    "response"
   ]
  },
  {
   "cell_type": "markdown",
   "id": "e94977c0",
   "metadata": {},
   "source": [
    "乍一看，响应的内容似乎是空的，我们可以在这里确认。"
   ]
  },
  {
   "cell_type": "code",
   "execution_count": null,
   "id": "1819ebde",
   "metadata": {},
   "outputs": [],
   "source": [
    "response.content "
   ]
  },
  {
   "cell_type": "markdown",
   "id": "6fb894bc",
   "metadata": {},
   "source": [
    "不过，响应中有一个我们之前没见过的新属性：`tool_calls`。"
   ]
  },
  {
   "cell_type": "code",
   "execution_count": null,
   "id": "73951417",
   "metadata": {},
   "outputs": [],
   "source": [
    "response.tool_calls"
   ]
  },
  {
   "cell_type": "markdown",
   "id": "5036ef1d",
   "metadata": {},
   "source": [
    "正如您所看到的，这个 `tool_calls` 是包含了一个字典的列表。在这个字典中，包含了我们绑定到模型的其中一个工具的名称（`multiply`），以及一个符合该工具参数结构的内部字典，具体来说，就是两个整数参数 `a` 和 `b`。就像使用 LLM 生成结构化数据一样，LLM 在提供值的细节时也遵循了我们的规范，这次提供的值是 `1234` 和 `5678`，它们是从用户的提示词中提取出来的，提示词是 `\"What is 1234 times 5678?\"`。"
   ]
  },
  {
   "cell_type": "markdown",
   "id": "07d22714",
   "metadata": {},
   "source": [
    "---"
   ]
  },
  {
   "cell_type": "markdown",
   "id": "be435ee0",
   "metadata": {},
   "source": [
    "## LLM 并没有调用工具"
   ]
  },
  {
   "cell_type": "markdown",
   "id": "004bd448",
   "metadata": {},
   "source": [
    "正如我们刚才看到的，LLM 能够指出何时应该调用工具，并且能够*提供参数*来说明应该如何调用工具。但当我们说模型在“做一个工具调用”时，它实际上并没有真正调用这个工具。"
   ]
  },
  {
   "cell_type": "markdown",
   "id": "8e85c40b",
   "metadata": {},
   "source": [
    "---"
   ]
  },
  {
   "cell_type": "markdown",
   "id": "1f175c35",
   "metadata": {},
   "source": [
    "## 实际调用工具"
   ]
  },
  {
   "cell_type": "markdown",
   "id": "a63d74a9",
   "metadata": {},
   "source": [
    "有很多方法可以实际调用模型指示的工具，重要的是，再将实际工具调用的结果反馈给模型，以便它能利用工具返回的内容。最常见的方式是使用我们称之为智能体（agents），下一个 notebook 将讨论这个主题。\n",
    "\n",
    "正如您在下一个 notebook 构建智能体时会看到的，LangChain 会在背后做很多工作，这些工作对我们是隐形的。考虑到这一点，尽管使用智能体通常是更好的方法，我们还是想花一点时间在这里展示当模型给出调用工具的指示时，工具是如何实际调用的。\n",
    "\n",
    "请回想一下，我们从 `llm_with_tools` 收到的关于乘法提示词的响应中包含了一个 `tool_calls` 属性。"
   ]
  },
  {
   "cell_type": "code",
   "execution_count": null,
   "id": "a943bbd1",
   "metadata": {},
   "outputs": [],
   "source": [
    "response.tool_calls "
   ]
  },
  {
   "cell_type": "markdown",
   "id": "c3e1e684",
   "metadata": {},
   "source": [
    "让我们从 `tool_calls` 列表中提取出一个 `tool` 调用（是这个例子里唯一的工具调用）。"
   ]
  },
  {
   "cell_type": "code",
   "execution_count": null,
   "id": "9d6cf6b6",
   "metadata": {},
   "outputs": [],
   "source": [
    "tool_call = response.tool_calls[0] "
   ]
  },
  {
   "cell_type": "code",
   "execution_count": null,
   "id": "bcf9fb31",
   "metadata": {},
   "outputs": [],
   "source": [
    "tool_call "
   ]
  },
  {
   "cell_type": "markdown",
   "id": "eccad83b",
   "metadata": {},
   "source": [
    "回想一下，`tool_call` 包含了要传递给实际工具调用的参数..."
   ]
  },
  {
   "cell_type": "code",
   "execution_count": null,
   "id": "914e2fcb",
   "metadata": {},
   "outputs": [],
   "source": [
    "tool_call_args = tool_call[\"args\"] "
   ]
  },
  {
   "cell_type": "markdown",
   "id": "3b1ef280",
   "metadata": {},
   "source": [
    "... 还有一个名称字段，指示应该调用哪个 `tool`。"
   ]
  },
  {
   "cell_type": "code",
   "execution_count": null,
   "id": "afa941b2",
   "metadata": {},
   "outputs": [],
   "source": [
    "tool_to_call_name = tool_call[\"name\"]"
   ]
  },
  {
   "cell_type": "markdown",
   "id": "ca9e3b48",
   "metadata": {},
   "source": [
    "这个值是一个字符串，并且与 `tool` 自身的名称字段匹配。"
   ]
  },
  {
   "cell_type": "code",
   "execution_count": null,
   "id": "c67f98bd",
   "metadata": {},
   "outputs": [],
   "source": [
    "tool_to_call_name "
   ]
  },
  {
   "cell_type": "code",
   "execution_count": null,
   "id": "1e0f80a2",
   "metadata": {},
   "outputs": [],
   "source": [
    "tool_to_call_name == multiply.name "
   ]
  },
  {
   "cell_type": "markdown",
   "id": "e578c082",
   "metadata": {},
   "source": [
    "然而，工具本身并不是字符串，我们无法调用 `tool_to_call_name`。所以我们需要一种方法将工具名称映射到实际的工具，在这个例子中是 `multiply`（不是字符串）。为此，我们将创建一个工具名称到实际工具的简单映射，包括我们的 `add` 和 `multiply` 工具。"
   ]
  },
  {
   "cell_type": "code",
   "execution_count": null,
   "id": "27f9c90a",
   "metadata": {},
   "outputs": [],
   "source": [
    "tool_map = {\n",
    "    \"add\": add,\n",
    "    \"multiply\": multiply\n",
    "}"
   ]
  },
  {
   "cell_type": "markdown",
   "id": "b27feb5b",
   "metadata": {},
   "source": [
    "有了这个映射和工具名称，现在就可以拿到实际要调用的工具了。"
   ]
  },
  {
   "cell_type": "code",
   "execution_count": null,
   "id": "96a6c6d6",
   "metadata": {},
   "outputs": [],
   "source": [
    "tool_to_call = tool_map[tool_to_call_name]"
   ]
  },
  {
   "cell_type": "markdown",
   "id": "a8825c1a",
   "metadata": {},
   "source": [
    "我们可以打印 `tool_to_call` 和 `multiply` 来比较它们是否相同。"
   ]
  },
  {
   "cell_type": "code",
   "execution_count": null,
   "id": "757cc74f",
   "metadata": {},
   "outputs": [],
   "source": [
    "print(tool_to_call)"
   ]
  },
  {
   "cell_type": "code",
   "execution_count": null,
   "id": "1f5ce92b",
   "metadata": {},
   "outputs": [],
   "source": [
    "print(multiply)"
   ]
  },
  {
   "cell_type": "code",
   "execution_count": null,
   "id": "ea7a0efc",
   "metadata": {},
   "outputs": [],
   "source": [
    "tool_to_call is multiply"
   ]
  },
  {
   "cell_type": "markdown",
   "id": "4cd0ca4a",
   "metadata": {},
   "source": [
    "最后，通过提供的参数来测试一下。"
   ]
  },
  {
   "cell_type": "code",
   "execution_count": null,
   "id": "f95d238e",
   "metadata": {},
   "outputs": [],
   "source": [
    "tool_to_call.invoke(tool_call_args)"
   ]
  },
  {
   "cell_type": "code",
   "execution_count": null,
   "id": "99ebbebd",
   "metadata": {},
   "outputs": [],
   "source": [
    "tool_to_call.invoke({'a': 1234, 'b': 5678})"
   ]
  },
  {
   "cell_type": "markdown",
   "id": "ee61c4f4",
   "metadata": {},
   "source": [
    "---"
   ]
  },
  {
   "cell_type": "markdown",
   "id": "2d4845d4",
   "metadata": {},
   "source": [
    "## 将实际工具调用添加到工作流"
   ]
  },
  {
   "cell_type": "markdown",
   "id": "b6ced8e7",
   "metadata": {},
   "source": [
    "虽然细节很多，但希望您能理解，当我们提供以下函数时究竟发生了什么。这个函数会期望一个模型响应，如果有工具调用，就会按照我们刚才讲的过程实际调用工具，接受 LLM 提供的参数并返回实际工具调用的结果。\n",
    "\n",
    "如果 LLM 没有指示工具调用，那么这个函数就简单地返回模型的（非工具调用）响应的内容。"
   ]
  },
  {
   "cell_type": "code",
   "execution_count": null,
   "id": "9fde88c8",
   "metadata": {},
   "outputs": [],
   "source": [
    "# Very naive implementation of actual tool calling.\n",
    "def call_tools(response):\n",
    "\n",
    "    if not response.tool_calls:\n",
    "        return response.content\n",
    "\n",
    "    tool_map = {\n",
    "        \"add\": add,\n",
    "        \"multiply\": multiply\n",
    "    }\n",
    "\n",
    "    # In this naive implementation, we are only supporting a single tool call.\n",
    "    tool_call = response.tool_calls[0]\n",
    "    selected_tool = tool_map[tool_call[\"name\"]]\n",
    "    args = tool_call[\"args\"]\n",
    "        \n",
    "    return selected_tool.invoke(args) "
   ]
  },
  {
   "cell_type": "markdown",
   "id": "b616ad81",
   "metadata": {},
   "source": [
    "现在我们应该能够使用刚定义的 `call_tools` 函数，创建一个简单的工作流，将我们绑定了工具的 LLM 和一个自定义运行时结合起来。"
   ]
  },
  {
   "cell_type": "code",
   "execution_count": null,
   "id": "151447c6",
   "metadata": {},
   "outputs": [],
   "source": [
    "chain = llm_with_tools | RunnableLambda(call_tools)"
   ]
  },
  {
   "cell_type": "markdown",
   "id": "5751a867",
   "metadata": {},
   "source": [
    "首先，让我们在一个与加法或乘法无关的提示词上调用这个工作流"
   ]
  },
  {
   "cell_type": "code",
   "execution_count": null,
   "id": "45facde6",
   "metadata": {},
   "outputs": [],
   "source": [
    "chain.invoke(\"Who are you?\")"
   ]
  },
  {
   "cell_type": "markdown",
   "id": "1f286dc0",
   "metadata": {},
   "source": [
    "现在试一个乘法。"
   ]
  },
  {
   "cell_type": "code",
   "execution_count": null,
   "id": "e6192c9f",
   "metadata": {},
   "outputs": [],
   "source": [
    "chain.invoke(\"What is the product of 1234 and 5678?\") "
   ]
  },
  {
   "cell_type": "code",
   "execution_count": null,
   "id": "1e9f2c77",
   "metadata": {},
   "outputs": [],
   "source": [
    "1234 * 5678"
   ]
  },
  {
   "cell_type": "markdown",
   "id": "32f0c82f",
   "metadata": {},
   "source": [
    "再试试加法。"
   ]
  },
  {
   "cell_type": "code",
   "execution_count": null,
   "id": "c4dbf66e",
   "metadata": {},
   "outputs": [],
   "source": [
    "chain.invoke(\"What 1234567 plus 10111213?\") "
   ]
  },
  {
   "cell_type": "code",
   "execution_count": null,
   "id": "84d59bdf",
   "metadata": {},
   "outputs": [],
   "source": [
    "1234567 + 10111213"
   ]
  },
  {
   "cell_type": "markdown",
   "id": "e95463ca",
   "metadata": {},
   "source": [
    "---"
   ]
  },
  {
   "cell_type": "markdown",
   "id": "5c6412b4",
   "metadata": {},
   "source": [
    "## 工具调用并不完美"
   ]
  },
  {
   "cell_type": "markdown",
   "id": "7b874663",
   "metadata": {},
   "source": [
    "为了给模型制造一些挑战，我们将提供一个主要以自然语言而非数字表述的加法问题。"
   ]
  },
  {
   "cell_type": "code",
   "execution_count": null,
   "id": "61c6eece",
   "metadata": {},
   "outputs": [],
   "source": [
    "chain.invoke(\"What is 9 million and 12 plus thirteen thousand three hundred and sixty three?\")"
   ]
  },
  {
   "cell_type": "code",
   "execution_count": null,
   "id": "5738de84",
   "metadata": {},
   "outputs": [],
   "source": [
    "9000012 + 13363"
   ]
  },
  {
   "cell_type": "markdown",
   "id": "5a72d686",
   "metadata": {},
   "source": [
    "可以看到我们的链没有得到正确的答案。观察一下用相同提示词调用 `llm_with_tools` 时 `tool_calls` 的属性，看看是出了什么问题。"
   ]
  },
  {
   "cell_type": "code",
   "execution_count": null,
   "id": "2b114d9f",
   "metadata": {},
   "outputs": [],
   "source": [
    "llm_with_tools.invoke(\"What is 9 million and 12 plus thirteen thousand three hundred and sixty three?\").tool_calls"
   ]
  },
  {
   "cell_type": "markdown",
   "id": "33387266",
   "metadata": {},
   "source": [
    "如果我们查看 `args` 属性，会发现模型把 `a` 设置为 `9000000`，而不是 `9000012`，这导致 `add` 工具加了错误的数字并返回了错误的结果。\n",
    "\n",
    "这里的主要收获是，工具调用是强大的，可以为应用提供不太适合 LLM 的功能。不过，课程中我们一直在提的幻觉等问题在利用工具时仍然存在。"
   ]
  },
  {
   "cell_type": "markdown",
   "id": "05ac1466",
   "metadata": {},
   "source": [
    "---"
   ]
  },
  {
   "cell_type": "markdown",
   "id": "a5c14ed9",
   "metadata": {},
   "source": [
    "## 练习：构建一个查询维基百科的工具"
   ]
  },
  {
   "cell_type": "markdown",
   "id": "69135538",
   "metadata": {},
   "source": [
    "在这个练习中，您将创建并使用一个可以使用维基百科 API 的工具。\n",
    "\n",
    "以下函数能接受一个给定的主题，并返回该主题维基百科摘要的第一段，或者返回一条消息，说明找不到该主题的维基百科页面。"
   ]
  },
  {
   "cell_type": "code",
   "execution_count": null,
   "id": "6ba4891e",
   "metadata": {},
   "outputs": [],
   "source": [
    "def get_wikipedia_intro(topic):\n",
    "    user_agent = 'MyApp/1.0 (myemail@example.com)'\n",
    "    wiki_wiki = wikipediaapi.Wikipedia(user_agent=user_agent)\n",
    "    page = wiki_wiki.page(topic)\n",
    "    if page.exists():\n",
    "        return page.summary.split('\\n')[0]  # Get the first paragraph of the summary\n",
    "    else:\n",
    "        return f\"No Wikipedia page found for '{topic}'\" "
   ]
  },
  {
   "cell_type": "markdown",
   "id": "7d542ff8",
   "metadata": {},
   "source": [
    "我们希望使用您创建的这个工具来增强 LLM，使其在被问及一个过于新颖而无法了解的主题时也能起作用。\n",
    "\n",
    "请按照以下方法进行：\n",
    "- 从上述函数创建一个工具，并确保在其结构中明确给出使用案例。\n",
    "- 将工具绑定到您的 LLM。\n",
    "- 构建一个链，将您绑定工具的 LLM 和下面的 `call_tools` 函数创建的自定义运行时结合在一起（该函数包含对 `get_wikipedia_intro` 的映射）。\n",
    "- 使用 LLM 本身无法回答的主题创建一个提示词调用链，例如 2024 年夏季奥运会（2024 Summer Olympics）。\n",
    "\n",
    "\n",
    "如果您遇到困难，可以查看下面的参考答案。"
   ]
  },
  {
   "cell_type": "code",
   "execution_count": null,
   "id": "d985d52b",
   "metadata": {},
   "outputs": [],
   "source": [
    "def call_tools(response):\n",
    "\n",
    "    if not response.tool_calls:\n",
    "        return response.content\n",
    "\n",
    "    tool_map = {\n",
    "        \"get_wikipedia_intro\": get_wikipedia_intro\n",
    "    }\n",
    "    \n",
    "    for tool_call in response.tool_calls:\n",
    "        selected_tool = tool_map[tool_call[\"name\"]]\n",
    "        args = tool_call[\"args\"]\n",
    "        \n",
    "        return selected_tool.invoke(args) "
   ]
  },
  {
   "cell_type": "markdown",
   "id": "b0bd9211",
   "metadata": {},
   "source": [
    "### 您的代码"
   ]
  },
  {
   "cell_type": "code",
   "execution_count": null,
   "id": "19f0daa1",
   "metadata": {},
   "outputs": [],
   "source": []
  },
  {
   "cell_type": "markdown",
   "id": "148652ae",
   "metadata": {},
   "source": [
    "### 参考答案"
   ]
  },
  {
   "cell_type": "code",
   "execution_count": null,
   "id": "b500e714",
   "metadata": {},
   "outputs": [],
   "source": [
    "class GetWikipediaIntro(BaseModel):\n",
    "    \"\"\"Look up information for events that happened after the year 2022.\"\"\"\n",
    "    topic: str = Field(..., description=\"Topic to get more info about\") "
   ]
  },
  {
   "cell_type": "code",
   "execution_count": null,
   "id": "d0360527",
   "metadata": {},
   "outputs": [],
   "source": [
    "@tool(args_schema=GetWikipediaIntro)\n",
    "def get_wikipedia_intro(topic):\n",
    "    user_agent = 'MyApp/1.0 (myemail@example.com)'\n",
    "    wiki_wiki = wikipediaapi.Wikipedia(user_agent=user_agent)\n",
    "    page = wiki_wiki.page(topic)\n",
    "    if page.exists():\n",
    "        return page.summary.split('\\n')[0]  # Get the first paragraph of the summary\n",
    "    else:\n",
    "        return f\"No Wikipedia page found for '{topic}'\" "
   ]
  },
  {
   "cell_type": "code",
   "execution_count": null,
   "id": "b8dca965",
   "metadata": {},
   "outputs": [],
   "source": [
    "llm_with_tools = llm.bind_tools([get_wikipedia_intro]) "
   ]
  },
  {
   "cell_type": "code",
   "execution_count": null,
   "id": "14d0ecc8",
   "metadata": {},
   "outputs": [],
   "source": [
    "chain = llm_with_tools | RunnableLambda(call_tools) "
   ]
  },
  {
   "cell_type": "code",
   "execution_count": null,
   "id": "b5ff9463",
   "metadata": {},
   "outputs": [],
   "source": [
    "chain.invoke(\"Give me a short summary about the 2024 Summer Olympics\") "
   ]
  },
  {
   "cell_type": "markdown",
   "id": "fde65ce8",
   "metadata": {},
   "source": [
    "---"
   ]
  },
  {
   "cell_type": "markdown",
   "id": "7e0fa563",
   "metadata": {},
   "source": [
    "## 总结"
   ]
  },
  {
   "cell_type": "markdown",
   "id": "8bc08863",
   "metadata": {},
   "source": [
    "在这个 notebook 中，您学习了如何为 LLM 不太擅长的任务创建工具。您还看到在一个简单链条中实际调用工具的结果。在下一个 notebook 中，我们将介绍智能体，这是一种更强大的工具编排（orchestrating）方式，允许模型推理工具的使用方式，并将实际调用工具的结果作为输入返回给模型，以帮助生成响应。"
   ]
  }
 ],
 "metadata": {
  "language_info": {
   "name": "python"
  }
 },
 "nbformat": 4,
 "nbformat_minor": 5
}
