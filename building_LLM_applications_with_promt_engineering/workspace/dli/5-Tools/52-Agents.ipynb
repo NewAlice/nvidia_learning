{
 "cells": [
  {
   "cell_type": "markdown",
   "id": "e691b109",
   "metadata": {},
   "source": [
    "<center><a href=\"https://www.nvidia.cn/training/\"><img src=\"https://dli-lms.s3.amazonaws.com/assets/general/DLI_Header_White.png\" width=\"400\" height=\"186\" /></a></center>"
   ]
  },
  {
   "cell_type": "markdown",
   "id": "78de84a6",
   "metadata": {},
   "source": [
    "# 智能体"
   ]
  },
  {
   "cell_type": "code",
   "execution_count": null,
   "id": "f1a59f4e",
   "metadata": {},
   "outputs": [],
   "source": [
    "from videos.walkthroughs import walkthrough_52 as walkthrough"
   ]
  },
  {
   "cell_type": "code",
   "execution_count": null,
   "id": "66c76150",
   "metadata": {},
   "outputs": [],
   "source": [
    "walkthrough()"
   ]
  },
  {
   "cell_type": "markdown",
   "id": "3672ee60",
   "metadata": {},
   "source": [
    "在这个 notebook 中，我们将介绍能推理工具使用方法的智能体，并将工具的实际调用整合到 LLM 响应中。"
   ]
  },
  {
   "cell_type": "markdown",
   "id": "58149cf7",
   "metadata": {},
   "source": [
    "---"
   ]
  },
  {
   "cell_type": "markdown",
   "id": "0b1d111e",
   "metadata": {},
   "source": [
    "## 目标"
   ]
  },
  {
   "cell_type": "markdown",
   "id": "6ccfe884",
   "metadata": {},
   "source": [
    "完成这个 notebook 后，您将会：\n",
    "\n",
    "- 理解智能体在 LLM 工具使用中的角色。\n",
    "- 创建并使用一个简单的智能体，能将工具使用结果整合到 LLM 响应中。\n",
    "- 将您创建的智能体整合到 LCEL 链中。"
   ]
  },
  {
   "cell_type": "markdown",
   "id": "e17c3cf0",
   "metadata": {},
   "source": [
    "---"
   ]
  },
  {
   "cell_type": "markdown",
   "id": "1ad62574",
   "metadata": {},
   "source": [
    "## 导入"
   ]
  },
  {
   "cell_type": "code",
   "execution_count": null,
   "id": "4d65b510",
   "metadata": {},
   "outputs": [],
   "source": [
    "import requests\n",
    "\n",
    "from langchain_nvidia_ai_endpoints import ChatNVIDIA\n",
    "\n",
    "from langchain_core.pydantic_v1 import BaseModel, Field\n",
    "from langchain_core.tools import tool\n",
    "from langchain_core.runnables import RunnableLambda\n",
    "from langchain_core.prompts import ChatPromptTemplate\n",
    "\n",
    "from langgraph.prebuilt import create_react_agent\n",
    "\n",
    "from IPython.display import Image, display"
   ]
  },
  {
   "cell_type": "markdown",
   "id": "32ff9414",
   "metadata": {},
   "source": [
    "---"
   ]
  },
  {
   "cell_type": "markdown",
   "id": "b8cd7cfc",
   "metadata": {},
   "source": [
    "## 创建模型实例"
   ]
  },
  {
   "cell_type": "code",
   "execution_count": null,
   "id": "67211f52",
   "metadata": {},
   "outputs": [],
   "source": [
    "base_url = 'http://llama:8000/v1'\n",
    "model = 'meta/llama-3.1-8b-instruct'\n",
    "llm = ChatNVIDIA(base_url=base_url, model=model, temperature=0)"
   ]
  },
  {
   "cell_type": "markdown",
   "id": "984e68ed",
   "metadata": {},
   "source": [
    "---"
   ]
  },
  {
   "cell_type": "markdown",
   "id": "3b9a1616",
   "metadata": {},
   "source": [
    "## 智能体"
   ]
  },
  {
   "cell_type": "markdown",
   "id": "f5f3841e",
   "metadata": {},
   "source": [
    "在之前的 notebook 中，我们学习了如何创建工具，使用 LLM 指示何时以及如何调用工具，然后设计了一个简单的系统，在 LLM 给出调用工具的指示时实际地执行调用。\n",
    "\n",
    "我们采取的简单方法缺少一些非常关键的功能，最重要的或许是无法向 LLM 提供实际调用工具的结果，以使它可以利用工具结果来指导对用户的响应。为了解决这个问题进而引出更多强大的功能，我们通常会创建**智能体**。\n",
    "\n",
    "[LangChain 文档](https://python.langchain.com/v0.2/docs/concepts/#agents)对智能体有很好的描述：\n",
    "> 语言模型本身无法采取行动——它们只是输出文本。LangChain 的一个主要用例是创建智能体。智能体是使用 LLM 作为推理引擎来确定采取哪些行动及这些行动的输入应该是什么的系统。这些行动的结果可以反馈到智能体中，智能体会判断是否需要采取更多的行动，或是结束。\n",
    "\n",
    "虽然智能体的主题非常庞大，值得深入研究，但我们希望在这个课程中对智能体进行一些基本的介绍，让您有机会试试它们。"
   ]
  },
  {
   "cell_type": "markdown",
   "id": "7dab54fd",
   "metadata": {},
   "source": [
    "---"
   ]
  },
  {
   "cell_type": "markdown",
   "id": "ba2338cf",
   "metadata": {},
   "source": [
    "## 智能体需要的工具"
   ]
  },
  {
   "cell_type": "markdown",
   "id": "715f2f4e",
   "metadata": {},
   "source": [
    "在我们创建智能体之前，很自然地会想到要先创建可能会用到的工具。我们将在这里重新创建简单的乘法工具。"
   ]
  },
  {
   "cell_type": "code",
   "execution_count": null,
   "id": "ca3c5df9",
   "metadata": {},
   "outputs": [],
   "source": [
    "class Multiply(BaseModel):\n",
    "    \"\"\"Use when needed to get the product of multiplying two integers together.\"\"\"\n",
    "    a: int = Field(..., description=\"First integer to multiply.\")\n",
    "    b: int = Field(..., description=\"Second integer to multiply.\")"
   ]
  },
  {
   "cell_type": "code",
   "execution_count": null,
   "id": "801d64a3",
   "metadata": {},
   "outputs": [],
   "source": [
    "@tool(args_schema=Multiply)\n",
    "def multiply(a: int, b: int) -> int:\n",
    "    return a * b "
   ]
  },
  {
   "cell_type": "markdown",
   "id": "6b4933cb",
   "metadata": {},
   "source": [
    "下面做一个快速的合理性检查，以确保乘法工具如预期表现。"
   ]
  },
  {
   "cell_type": "code",
   "execution_count": null,
   "id": "d7275f32",
   "metadata": {},
   "outputs": [],
   "source": [
    "multiply.invoke({'a': 12, 'b': 10})"
   ]
  },
  {
   "cell_type": "markdown",
   "id": "684434b5",
   "metadata": {},
   "source": [
    "创建一个 `tools` 列表，包含我们的 `multiply` 工具，以便在后续的 notebook 使用。"
   ]
  },
  {
   "cell_type": "code",
   "execution_count": null,
   "id": "73ef37eb",
   "metadata": {},
   "outputs": [],
   "source": [
    "tools = [multiply] "
   ]
  },
  {
   "cell_type": "markdown",
   "id": "86648e69",
   "metadata": {},
   "source": [
    "---"
   ]
  },
  {
   "cell_type": "markdown",
   "id": "0a0ff262",
   "metadata": {},
   "source": [
    "## 使用 LangGraph 创建一个简单的智能体"
   ]
  },
  {
   "cell_type": "markdown",
   "id": "e1f4ccb9",
   "metadata": {},
   "source": [
    "为了创建一个能够在适当的时候使用工具并将工具调用结果整合到响应中的智能体，我们将使用 [LangGraph](https://langchain-ai.github.io/langgraph/)。\n",
    "\n",
    "LangGraph 是由创建 LangChain 的团队开发的一个衍生开源项目。总体来看，LangGraph 简化了图形工作流的创建过程。图是节点的集合，每个节点负责执行某种计算，而边则连接节点并定义何时以及如何调用它们。\n",
    "\n",
    "这里，我们将限制使用 LangGraph 的范围，利用一个简单但强大的预构建智能体，这个智能体是 LangGraph 自带的。如果您希望了解更多创建智能体的内容，我们强烈建议您花时间深入了解 [LangGraph](https://langchain-ai.github.io/langgraph/)。"
   ]
  },
  {
   "cell_type": "markdown",
   "id": "b8cd4d4e",
   "metadata": {},
   "source": [
    "---"
   ]
  },
  {
   "cell_type": "markdown",
   "id": "f1bade8c",
   "metadata": {},
   "source": [
    "## 使用 LangGraph 创建一个简单的智能体"
   ]
  },
  {
   "cell_type": "markdown",
   "id": "9e990536",
   "metadata": {},
   "source": [
    "正如我们上面提到的，智能体创建是一个值得单独讨论的大话题。然而，LangGraph 提供了一些非常易于使用的预构建图，我们将在本次课程中利用其中一个：**ReAct** 智能体图。\n",
    "\n",
    "**ReAct** 代表“推理与行动”（Reason and Act）（[论文链接](https://arxiv.org/abs/2210.03629)）。本课程中，我们可以将 ReAct 模式视为一种指示 LLM 判断是否使用外部工具的方式，然后在合适的时候使用这些工具，最后生成响应。\n",
    "\n",
    "使用 LangGraph 创建 ReAct 智能体时，我们只需导入 `create_react_agent` 函数，并传入一个 LLM 实例和一组工具（上面已经创建好了），智能体就可以访问这些工具。"
   ]
  },
  {
   "cell_type": "code",
   "execution_count": null,
   "id": "2fa4804f",
   "metadata": {},
   "outputs": [],
   "source": [
    "from langgraph.prebuilt import create_react_agent"
   ]
  },
  {
   "cell_type": "code",
   "execution_count": null,
   "id": "e556f2af",
   "metadata": {},
   "outputs": [],
   "source": [
    "agent = create_react_agent(llm, tools=tools)"
   ]
  },
  {
   "cell_type": "markdown",
   "id": "873aba3e",
   "metadata": {},
   "source": [
    "可以用一些辅助方法来可视化智能体图。"
   ]
  },
  {
   "cell_type": "code",
   "execution_count": null,
   "id": "f0e3bf6c",
   "metadata": {},
   "outputs": [],
   "source": [
    "display(Image(agent.get_graph().draw_mermaid_png()))"
   ]
  },
  {
   "cell_type": "markdown",
   "id": "b088f5aa",
   "metadata": {},
   "source": [
    "如上所示，图由能执行工作的节点组成，还包括描述数据如何在节点之间传递以完成工作的边。\n",
    "\n",
    "上面的图中，我们可以看到在图的起始点，传入的数据将被路由到 `agent`，在我们的例子中就是 LLM 实例。在 LangGraph 的支持下，它已经被提示去推理是否需要使用我们提供给智能体的任何工具。根据 LLM 是否认为需要使用工具，智能体将继续前往 `tools` 节点，工具将在那里被适时的调用，然后将返回值返回给智能体。或者，如果不需要调用工具，或者所有必要的调用已完成，智能体节点就会向图的尾部发送最终响应给终端用户。"
   ]
  },
  {
   "cell_type": "markdown",
   "id": "593a1080",
   "metadata": {},
   "source": [
    "---"
   ]
  },
  {
   "cell_type": "markdown",
   "id": "67f05a92",
   "metadata": {},
   "source": [
    "## 调用智能体"
   ]
  },
  {
   "cell_type": "markdown",
   "id": "59edea14",
   "metadata": {},
   "source": [
    "LangGraph 图是有状态的，这意味着每个图都有一些定义好的状态（通常是一个字典），图的不同部分可以读取和写入这些状态。\n",
    "\n",
    "这里使用的预构建 `create_react_agent` 图中，图的状态已经被定义为一个包含单个 `messages` 键的字典，`messages` 键本身包含一系列消息。\n",
    "\n",
    "这意味着当使用 `agent` 图时，我们需要将人类消息提示添加到其状态中，也就是添加到字典的 `messages` 属性中。并且图中的任何其它活动（比如 AI 消息）也会添加到这个 `messages` 属性中。\n",
    "\n",
    "就像 LangChain 的链一样，我们的 LangGraph 智能体上有 `invoke`、`batch` 和 `stream` 方法。我们先给它一个简单的提示词调用 `invoke` 方法，这个提示词不期望智能体利用 `multiply` 工具。\n",
    "\n",
    "调用图的 `invoke` 返回的值就是智能体图完成后的状态，我们将把它存储在一个变量中以便后续探索。"
   ]
  },
  {
   "cell_type": "code",
   "execution_count": null,
   "id": "5af8f6ec",
   "metadata": {},
   "outputs": [],
   "source": [
    "agent_state = agent.invoke({\"messages\": [\"Give a short summary of directed cyclical graphs in the context of computer science.\"]})"
   ]
  },
  {
   "cell_type": "markdown",
   "id": "043d3b0f",
   "metadata": {},
   "source": [
    "`agent_state` 就是图的当前状态，从这里我们可以看到它是一个字典，包含一个 `messages` 键，里面是所有发送给图的消息和由图生成的消息。在这个例子中，有发送到图的 `HumanMessage`，以及来自 LLM 的 `AIMessage` 响应。"
   ]
  },
  {
   "cell_type": "code",
   "execution_count": null,
   "id": "200bb3fb",
   "metadata": {},
   "outputs": [],
   "source": [
    "print(agent_state)"
   ]
  },
  {
   "cell_type": "markdown",
   "id": "1fa136d4",
   "metadata": {},
   "source": [
    "为方便起见，LangGraph 消息有一个 `pretty_print` 方法。我们来循环遍历消息，用这个辅助方法更清晰地查看内容。"
   ]
  },
  {
   "cell_type": "code",
   "execution_count": null,
   "id": "dc382dda",
   "metadata": {},
   "outputs": [],
   "source": [
    "for message in agent_state['messages']:\n",
    "    message.pretty_print()"
   ]
  },
  {
   "cell_type": "markdown",
   "id": "cecdcc8b",
   "metadata": {},
   "source": [
    "这里我们可以更清楚地看到传入智能体图的人类消息，以及它生成的 AI 消息响应。"
   ]
  },
  {
   "cell_type": "markdown",
   "id": "fc868876",
   "metadata": {},
   "source": [
    "---"
   ]
  },
  {
   "cell_type": "markdown",
   "id": "f6b6b083",
   "metadata": {},
   "source": [
    "## 调用智能体使用工具"
   ]
  },
  {
   "cell_type": "markdown",
   "id": "413ad346",
   "metadata": {},
   "source": [
    "接下来，我们给一个期待智能体利用 `multiply` 工具的提示词。"
   ]
  },
  {
   "cell_type": "code",
   "execution_count": null,
   "id": "6fcb17f9",
   "metadata": {},
   "outputs": [],
   "source": [
    "agent_state = agent.invoke({\"messages\": [\"What is 19944 times 2342?\"]})"
   ]
  },
  {
   "cell_type": "markdown",
   "id": "a1f5da2c",
   "metadata": {},
   "source": [
    "再次循环遍历返回状态中的消息，使用 `pretty_print` 辅助方法来清晰地查看所有消息。"
   ]
  },
  {
   "cell_type": "code",
   "execution_count": null,
   "id": "299e424b",
   "metadata": {},
   "outputs": [],
   "source": [
    "for message in agent_state['messages']:\n",
    "    message.pretty_print()"
   ]
  },
  {
   "cell_type": "markdown",
   "id": "a3039630",
   "metadata": {},
   "source": [
    "这里可以看到初始的人类消息，但现在，像之前 notebook 中学到的那样，AI 消息并没有返回响应，而是指出需要调用的工具。在 AI 消息之后，我们看到一种新类型的消息，即工具消息，这是来自工具（在这种情况下是 `multiply`）的消息，以及它在被调用后返回的值。最后，我们还有另一条 AI 消息，它根据工具调用的结果生成了对初始人类消息的响应。\n",
    "\n",
    "至此，我们观察到智能体真正释放了工具的能力。它能够推理何时应该使用并能实际调用工具，最后用工具调用的结果构建一个有意义的响应返回给用户。\n",
    "\n",
    "我们再试一个提示词，这次给一个需要多次使用 `multiply` 工具的提示词。"
   ]
  },
  {
   "cell_type": "code",
   "execution_count": null,
   "id": "3cdc2fe2",
   "metadata": {},
   "outputs": [],
   "source": [
    "agent_state = agent.invoke({\"messages\": [\"What is 19944 times 2342? Also, what is 9877 time 22875?\"]})"
   ]
  },
  {
   "cell_type": "markdown",
   "id": "b9d5e3dc",
   "metadata": {},
   "source": [
    "再循环遍历消息，看看智能体图内发生了什么。"
   ]
  },
  {
   "cell_type": "code",
   "execution_count": null,
   "id": "90f1390f",
   "metadata": {},
   "outputs": [],
   "source": [
    "for message in agent_state['messages']:\n",
    "    message.pretty_print()"
   ]
  },
  {
   "cell_type": "markdown",
   "id": "59402954",
   "metadata": {},
   "source": [
    "考虑到提示词询问了两个不同的乘法问题，智能体成功进行了两次独立的工具调用，并且在完成这两次调用后，将两个工具调用的结果综合成了最终响应。"
   ]
  },
  {
   "cell_type": "markdown",
   "id": "99566bd2",
   "metadata": {},
   "source": [
    "---"
   ]
  },
  {
   "cell_type": "markdown",
   "id": "858d4a3f",
   "metadata": {},
   "source": [
    "## 无意的工具使用"
   ]
  },
  {
   "cell_type": "markdown",
   "id": "2cf2f47b",
   "metadata": {},
   "source": [
    "作为实验，我们给智能体发送另一条消息，这次我们不需要智能体使用 `multiply` 工具。"
   ]
  },
  {
   "cell_type": "code",
   "execution_count": null,
   "id": "ca243724",
   "metadata": {},
   "outputs": [],
   "source": [
    "agent_state = agent.invoke({\"messages\": [\"In what year was NVIDIA founded?\"]}) # The actual answer is 1993"
   ]
  },
  {
   "cell_type": "code",
   "execution_count": null,
   "id": "26f320ed",
   "metadata": {},
   "outputs": [],
   "source": [
    "for message in agent_state['messages']:\n",
    "    message.pretty_print()"
   ]
  },
  {
   "cell_type": "markdown",
   "id": "fab30075",
   "metadata": {},
   "source": [
    "不幸的是，智能体认为应该使用 `multiply` 工具来回答这个问题。原因并不完全清楚，但一个合理的假设是，问题的答案是一个整数，所以智能体认为它应该使用这个工具。\n",
    "\n",
    "更糟糕的是，LLM 虚构了两个整数值传给 `multiply` 工具，这两个值都不是 NVIDIA 成立年份的实际整数值（即 1993），并在响应中使用了这个错误的乘法结果。"
   ]
  },
  {
   "cell_type": "markdown",
   "id": "6cc3d93e",
   "metadata": {},
   "source": [
    "---"
   ]
  },
  {
   "cell_type": "markdown",
   "id": "5c40b0d9",
   "metadata": {},
   "source": [
    "## 通过提示工程提高工具使用能力"
   ]
  },
  {
   "cell_type": "markdown",
   "id": "a1284c58",
   "metadata": {},
   "source": [
    "到了课程的这个阶段，我们已经知道具体提示词的重要性。所以我们试着在提示中更具体，从而让 LLM 智能体按我们希望的方式行动。\n",
    "\n",
    "如果想的话，可以尝试更具体地说明智能体何时应该使用工具，通过写一个更长更具体的提示词。但既然我们是想影响模型的整体行为，尝试添加系统消息可能更有意义。\n",
    "\n",
    "试试以下内容，它对我们期望的行为进行了明确的说明，并使用了零样本思维链提示（通过加上“认真考虑...”这样的语句）。"
   ]
  },
  {
   "cell_type": "code",
   "execution_count": null,
   "id": "6757d72b",
   "metadata": {},
   "outputs": [],
   "source": [
    "system_message = \"\"\"\\\n",
    "You are a helpful assistant capable of tool calling when helpful, necessary, and appropriate.\n",
    "\n",
    "Think hard about whether or not you need to call a tool, \\\n",
    "based on your tools' descriptions and use them, but only when appropriate!\n",
    "\n",
    "Whether or not you need to call a tool, address the user's query in a helpful informative way.\n",
    "\"\"\""
   ]
  },
  {
   "cell_type": "markdown",
   "id": "c077a6f0",
   "metadata": {},
   "source": [
    "在使用预构建智能体的情况下，可以在实例化时通过 `state_modifier` 命名参数添加系统消息。以下是 `create_react_agent` 的文档。您不需要阅读完整内容，但可以看一下 `state_modifier` 参数的用法，我们可以把系统消息放进去。"
   ]
  },
  {
   "cell_type": "code",
   "execution_count": null,
   "id": "02a40c24",
   "metadata": {},
   "outputs": [],
   "source": [
    "help(create_react_agent)"
   ]
  },
  {
   "cell_type": "markdown",
   "id": "1a377f66",
   "metadata": {},
   "source": [
    "考虑到这一点，我们将重新创建 `agent` 实例，这次传入上面的系统消息。"
   ]
  },
  {
   "cell_type": "code",
   "execution_count": null,
   "id": "dd81de9a",
   "metadata": {},
   "outputs": [],
   "source": [
    "agent = create_react_agent(llm, tools=tools, state_modifier=system_message)"
   ]
  },
  {
   "cell_type": "markdown",
   "id": "2b800aac",
   "metadata": {},
   "source": [
    "现在用同样的提示词调用新智能体，看看添加系统消息是否影响了它的行为。"
   ]
  },
  {
   "cell_type": "code",
   "execution_count": null,
   "id": "d08b31e8",
   "metadata": {},
   "outputs": [],
   "source": [
    "agent_state = agent.invoke({\"messages\": ['In what year was NVIDIA founded?']})"
   ]
  },
  {
   "cell_type": "code",
   "execution_count": null,
   "id": "67e899c8",
   "metadata": {},
   "outputs": [],
   "source": [
    "for message in agent_state['messages']:\n",
    "    message.pretty_print()"
   ]
  },
  {
   "cell_type": "markdown",
   "id": "5b145bac",
   "metadata": {},
   "source": [
    "这就是我们想要的答案。\n",
    "\n",
    "既然我们对提示词进行了重大更新，影响了智能体调用工具的方式和时机，那么再来确认一下，当智能体面对乘法问题时，它是否依然会正确地调用 `multiply` 工具。"
   ]
  },
  {
   "cell_type": "code",
   "execution_count": null,
   "id": "9b6f2df5",
   "metadata": {},
   "outputs": [],
   "source": [
    "agent_state = agent.invoke({\"messages\": ['What is 87889 times 23484?']})"
   ]
  },
  {
   "cell_type": "code",
   "execution_count": null,
   "id": "860c7ff5",
   "metadata": {},
   "outputs": [],
   "source": [
    "for message in agent_state['messages']:\n",
    "    message.pretty_print()"
   ]
  },
  {
   "cell_type": "markdown",
   "id": "91b5a8f2",
   "metadata": {},
   "source": [
    "给定一个请求两个数字相乘的提示词，智能体正确地使用了 `multiply` 工具，并在最终响应中使用了它的结果，这正是我们希望看到的。"
   ]
  },
  {
   "cell_type": "markdown",
   "id": "16fe75b1",
   "metadata": {},
   "source": [
    "---"
   ]
  },
  {
   "cell_type": "markdown",
   "id": "1a3b8afc",
   "metadata": {},
   "source": [
    "## 为智能体调用创建一个链"
   ]
  },
  {
   "cell_type": "markdown",
   "id": "2ef84265",
   "metadata": {},
   "source": [
    "现在我们能调用 ReAct 智能体，并观察其最终状态中的所有消息。让我们更进一步，构建一个链，以便更直接地调用智能体，同时更容易观察我们从智能体那里得到的最终响应。"
   ]
  },
  {
   "cell_type": "markdown",
   "id": "654b8e0f",
   "metadata": {},
   "source": [
    "---"
   ]
  },
  {
   "cell_type": "markdown",
   "id": "bdce7abe",
   "metadata": {},
   "source": [
    "## 简化向智能体传递提示词的方式"
   ]
  },
  {
   "cell_type": "markdown",
   "id": "1082a7f7",
   "metadata": {},
   "source": [
    "我们先创建一个接收提示词的 `RunnableLambda`，并返回一个包含 `messages` 键的字典，格式正好符合智能体的要求。"
   ]
  },
  {
   "cell_type": "code",
   "execution_count": null,
   "id": "435e1c95",
   "metadata": {},
   "outputs": [],
   "source": [
    "convert_to_agent_state = RunnableLambda(lambda prompt: {'messages': [prompt]})"
   ]
  },
  {
   "cell_type": "markdown",
   "id": "6a485704",
   "metadata": {},
   "source": [
    "接下来调用 `convert_to_agent_state`，传入一个字符串提示词，以确保它将我们的字符串提示词转换成智能体所期望的格式。"
   ]
  },
  {
   "cell_type": "code",
   "execution_count": null,
   "id": "619dd640",
   "metadata": {},
   "outputs": [],
   "source": [
    "convert_to_agent_state.invoke('In what year was NVIDIA founded?')"
   ]
  },
  {
   "cell_type": "markdown",
   "id": "c80db823",
   "metadata": {},
   "source": [
    "结果是一个包含 `messages` 键的字典，其中包含一个消息列表（在这个例子中仅包含一条消息），这正是我们需要传给智能体的格式。"
   ]
  },
  {
   "cell_type": "markdown",
   "id": "93ae0d19",
   "metadata": {},
   "source": [
    "---"
   ]
  },
  {
   "cell_type": "markdown",
   "id": "f8925016",
   "metadata": {},
   "source": [
    "## 创建一个链"
   ]
  },
  {
   "cell_type": "markdown",
   "id": "00358955",
   "metadata": {},
   "source": [
    "我们用刚创建的自定义运行时和智能体创建一个简单的链。"
   ]
  },
  {
   "cell_type": "code",
   "execution_count": null,
   "id": "2f961bca",
   "metadata": {},
   "outputs": [],
   "source": [
    "chain = convert_to_agent_state | agent"
   ]
  },
  {
   "cell_type": "markdown",
   "id": "6255f273",
   "metadata": {},
   "source": [
    "现在应该能用字符串提示词调用这个链，并获得最终的智能体状态。"
   ]
  },
  {
   "cell_type": "code",
   "execution_count": null,
   "id": "fea3d8cc",
   "metadata": {},
   "outputs": [],
   "source": [
    "agent_state = chain.invoke('In what year was NVIDIA founded?')"
   ]
  },
  {
   "cell_type": "code",
   "execution_count": null,
   "id": "6ee4d096",
   "metadata": {},
   "outputs": [],
   "source": [
    "for message in agent_state['messages']:\n",
    "    message.pretty_print()"
   ]
  },
  {
   "cell_type": "markdown",
   "id": "94412160",
   "metadata": {},
   "source": [
    "到目前为止，一切看起来都按预期工作。"
   ]
  },
  {
   "cell_type": "markdown",
   "id": "2e7f6138",
   "metadata": {},
   "source": [
    "---"
   ]
  },
  {
   "cell_type": "markdown",
   "id": "086a270c",
   "metadata": {},
   "source": [
    "## 简化查看最终消息的方式"
   ]
  },
  {
   "cell_type": "markdown",
   "id": "2ace9d5a",
   "metadata": {},
   "source": [
    "最后，我们来创建另一个 `RunnableLambda`，这次是为了获取最终的智能体状态。从之前观察，我们知道它包含好几条消息，现在我们让它只返回最终消息的 `content` 属性。"
   ]
  },
  {
   "cell_type": "code",
   "execution_count": null,
   "id": "3d279a90",
   "metadata": {},
   "outputs": [],
   "source": [
    "agent_state_parser = RunnableLambda(lambda final_agent_state: final_agent_state['messages'][-1].content)"
   ]
  },
  {
   "cell_type": "markdown",
   "id": "124f496b",
   "metadata": {},
   "source": [
    "如果现在用上所有组件创建一个新链，我们应该能用字符串提示词调用它，并直接获得字符串响应。"
   ]
  },
  {
   "cell_type": "code",
   "execution_count": null,
   "id": "4523cfde",
   "metadata": {},
   "outputs": [],
   "source": [
    "chain = convert_to_agent_state | agent | agent_state_parser"
   ]
  },
  {
   "cell_type": "code",
   "execution_count": null,
   "id": "700b09f9",
   "metadata": {},
   "outputs": [],
   "source": [
    "chain.invoke('In what year was NVIDIA founded?')"
   ]
  },
  {
   "cell_type": "markdown",
   "id": "7cdae3c4",
   "metadata": {},
   "source": [
    "这看起来不错。\n",
    "\n",
    "还要确保我们的链能按预期处理乘法问题。"
   ]
  },
  {
   "cell_type": "code",
   "execution_count": null,
   "id": "aebe36d0",
   "metadata": {},
   "outputs": [],
   "source": [
    "chain.invoke(\"What is 19944 times 2342?\")"
   ]
  },
  {
   "cell_type": "code",
   "execution_count": null,
   "id": "2e378ec8",
   "metadata": {},
   "outputs": [],
   "source": [
    "19944*2342 "
   ]
  },
  {
   "cell_type": "markdown",
   "id": "272e7063",
   "metadata": {},
   "source": [
    "---"
   ]
  },
  {
   "cell_type": "markdown",
   "id": "5876c4c2",
   "metadata": {},
   "source": [
    "## 练习：创建能获取空气质量数据的智能体"
   ]
  },
  {
   "cell_type": "markdown",
   "id": "5c31406a",
   "metadata": {},
   "source": [
    "在这个练习中，您将创建一个智能体，它能够使用外部 API 获取给定地点的实时空气质量信息。\n",
    "\n",
    "为了简化您的工作，我们提供了以下函数，它会以一个类别字符串的形式，根据经纬度坐标返回该地点的当前空气质量。\n",
    "\n",
    "您不需要过多关注这个函数的内部工作原理。只需知道它使用免费的开源天气 API Open Meteo 来获取结果，然后将从 API 获取的数值结果转换为像“Good（好）”、“Fair（一般）”、“Poor（差）”等类别字符串。"
   ]
  },
  {
   "cell_type": "code",
   "execution_count": null,
   "id": "e349f346",
   "metadata": {},
   "outputs": [],
   "source": [
    "def get_air_quality_category_for_location(latitude: float, longitude: float) -> str:\n",
    "    base_url = \"https://air-quality-api.open-meteo.com/v1/air-quality\"\n",
    "    params = {\n",
    "        \"latitude\": latitude,\n",
    "        \"longitude\": longitude,\n",
    "        \"hourly\": \"european_aqi\"\n",
    "    }\n",
    "\n",
    "    try:\n",
    "        response = requests.get(base_url, params=params)\n",
    "        response.raise_for_status()\n",
    "        data = response.json()\n",
    "\n",
    "        if \"hourly\" in data:\n",
    "            euro_aqi = data['hourly']['european_aqi'][0]\n",
    "            \n",
    "            # Determine AQI category\n",
    "            if euro_aqi <= 20:\n",
    "                return \"Good\"\n",
    "            elif euro_aqi <= 40:\n",
    "                return \"Fair\"\n",
    "            elif euro_aqi <= 60:\n",
    "                return \"Moderate\"\n",
    "            elif euro_aqi <= 80:\n",
    "                return \"Poor\"\n",
    "            elif euro_aqi <= 100:\n",
    "                return \"Very Poor\"\n",
    "            else:\n",
    "                return \"Extremely Poor\"\n",
    "        else:\n",
    "            return \"No air quality data found for the given coordinates.\"\n",
    "\n",
    "    except requests.exceptions.RequestException as e:\n",
    "        return f\"An error occurred: {e}\""
   ]
  },
  {
   "cell_type": "markdown",
   "id": "9b1b5109",
   "metadata": {},
   "source": [
    "值得一提的是，我们今天使用的 LLM 非常强大，完全不需要外部工具，就能将字符串位置转换为经纬度坐标，所以并不需要额外的工具来将提示词中提供的位置名称转换为 `get_air_quality_category_for_location` 所需的经纬度坐标。\n",
    "\n",
    "为了证明这一点，我们让 LLM 给出印度孟买的坐标，格式是 `get_air_quality_category_for_location` 所期望的浮点格式。"
   ]
  },
  {
   "cell_type": "code",
   "execution_count": null,
   "id": "a4a124f4",
   "metadata": {},
   "outputs": [],
   "source": [
    "print(llm.invoke(\"Give me the latitude and longitude coordinates for Mumbai, India as floating point numbers.\").content)"
   ]
  },
  {
   "cell_type": "markdown",
   "id": "430c6e4d",
   "metadata": {},
   "source": [
    "有了这些坐标，我们现在可以演示 `get_air_quality_category_for_location` 如何获取该地点的实时空气质量信息。"
   ]
  },
  {
   "cell_type": "code",
   "execution_count": null,
   "id": "0e986122",
   "metadata": {},
   "outputs": [],
   "source": [
    "get_air_quality_category_for_location(19.0760, 72.8777)"
   ]
  },
  {
   "cell_type": "markdown",
   "id": "5dd84765",
   "metadata": {},
   "source": [
    "完成这个练习，您需要做以下几件事：\n",
    "- 将提供的 `get_air_quality_category_for_location` 函数转换为一个工具。\n",
    "- 创建一个智能体（使用 `create_react_agent`），可以利用您创建的工具并响应用户。\n",
    "- 创建一个链，利用您的智能体，接受一个字符串提示词并返回智能体的字符串响应。\n",
    "\n",
    "当您成功完成链时，就应该能够批量发送以下提示，并获得相应的回应。"
   ]
  },
  {
   "cell_type": "code",
   "execution_count": null,
   "id": "67b21264",
   "metadata": {},
   "outputs": [],
   "source": [
    "air_quality_agent_test_prompts = [\n",
    "    \"What is the current air quality in Korobosea in Papua New Guinea?\",\n",
    "    \"What is the current air quality in Washington DC?\",\n",
    "    \"What is the current air quality in Mumbai?\",\n",
    "    \"Where is the city of Rome located?\" # Make sure agent behaves as expected when not needing to make a tool call.\n",
    "]"
   ]
  },
  {
   "cell_type": "markdown",
   "id": "22d7240a",
   "metadata": {},
   "source": [
    "如果您准备好迎接挑战，那就直接开始吧。如果您愿意，可以展开下面的*指导*部分获取逐步指导。"
   ]
  },
  {
   "cell_type": "markdown",
   "id": "77411f68",
   "metadata": {},
   "source": [
    "### 您的代码"
   ]
  },
  {
   "cell_type": "code",
   "execution_count": null,
   "id": "759ab5fc",
   "metadata": {},
   "outputs": [],
   "source": []
  },
  {
   "cell_type": "markdown",
   "id": "54875138",
   "metadata": {},
   "source": [
    "## 指南"
   ]
  },
  {
   "cell_type": "markdown",
   "id": "12b9c8e7",
   "metadata": {},
   "source": [
    "### 创建工具"
   ]
  },
  {
   "cell_type": "markdown",
   "id": "db7dff08",
   "metadata": {},
   "source": [
    "第一步，将 `get_air_quality_category_for_location` 函数转换为一个工具。\n",
    "\n",
    "如果您卡住了，随时可以查看下面的*参考答案*。"
   ]
  },
  {
   "cell_type": "markdown",
   "id": "2507f173",
   "metadata": {},
   "source": [
    "### 您的代码"
   ]
  },
  {
   "cell_type": "code",
   "execution_count": null,
   "id": "5e13d5d2",
   "metadata": {},
   "outputs": [],
   "source": []
  },
  {
   "cell_type": "markdown",
   "id": "44a4c400",
   "metadata": {},
   "source": [
    "### 参考答案"
   ]
  },
  {
   "cell_type": "markdown",
   "id": "8437e161",
   "metadata": {},
   "source": [
    "就像之前一样，我们先用 Pydantic 类创建一个工具，该类用一个文档字符串描述工具的功能，用 `Field` 描述各个期望参数。"
   ]
  },
  {
   "cell_type": "code",
   "execution_count": null,
   "id": "d53f41cb",
   "metadata": {},
   "outputs": [],
   "source": [
    "class GetAirQualityCategoryForLocation(BaseModel):\n",
    "    \"\"\"Use external API to get current and accurate air quality category ('Fair', 'Poor', etc.) for a specified location.\"\"\"\n",
    "    latitude: float = Field(..., description=\"Latitude of the city.\")\n",
    "    longitude: float = Field(..., description=\"Longitude of the city.\")"
   ]
  },
  {
   "cell_type": "markdown",
   "id": "e0c9714c",
   "metadata": {},
   "source": [
    "然后，我们将上面复制的函数定义用 `tool` 进行装饰，设置其 `args_schema` 为我们刚创建的 Pydantic 类。"
   ]
  },
  {
   "cell_type": "code",
   "execution_count": null,
   "id": "35a6cd48",
   "metadata": {},
   "outputs": [],
   "source": [
    "@tool(args_schema=GetAirQualityCategoryForLocation)\n",
    "def get_air_quality_category_for_location(latitude, longitude) -> str:\n",
    "    base_url = \"https://air-quality-api.open-meteo.com/v1/air-quality\"\n",
    "    params = {\n",
    "        \"latitude\": latitude,\n",
    "        \"longitude\": longitude,\n",
    "        \"hourly\": \"european_aqi\"\n",
    "    }\n",
    "\n",
    "    try:\n",
    "        response = requests.get(base_url, params=params)\n",
    "        response.raise_for_status()\n",
    "        data = response.json()\n",
    "\n",
    "        if \"hourly\" in data:\n",
    "            euro_aqi = data['hourly']['european_aqi'][0]\n",
    "            \n",
    "            # Determine AQI category\n",
    "            if euro_aqi <= 20:\n",
    "                return \"Good\"\n",
    "            elif euro_aqi <= 40:\n",
    "                return \"Fair\"\n",
    "            elif euro_aqi <= 60:\n",
    "                return \"Moderate\"\n",
    "            elif euro_aqi <= 80:\n",
    "                return \"Poor\"\n",
    "            elif euro_aqi <= 100:\n",
    "                return \"Very Poor\"\n",
    "            else:\n",
    "                return \"Extremely Poor\"\n",
    "        else:\n",
    "            return \"No air quality data found for the given coordinates.\"\n",
    "\n",
    "    except requests.exceptions.RequestException as e:\n",
    "        return f\"An error occurred: {e}\""
   ]
  },
  {
   "cell_type": "markdown",
   "id": "cd704705",
   "metadata": {},
   "source": [
    "由于 `get_air_quality_category_for_location` 现在是一个 `tool`，我们应该能用一个 dict 调用它，该 dict 映射到它需要的参数（就像之前的 notebook 那样）。"
   ]
  },
  {
   "cell_type": "code",
   "execution_count": null,
   "id": "1bab193d",
   "metadata": {},
   "outputs": [],
   "source": [
    "get_air_quality_category_for_location.invoke({'latitude': 19.0760, 'longitude': 72.8777})"
   ]
  },
  {
   "cell_type": "markdown",
   "id": "679d34e9",
   "metadata": {},
   "source": [
    "### 为智能体创建系统消息"
   ]
  },
  {
   "cell_type": "markdown",
   "id": "2668b631",
   "metadata": {},
   "source": [
    "如果您是从头开始创建这个智能体，您会在测试的时候发现它有一种，将自己想要用空气质量工具说出来的倾向，这对最终用户并不是很有帮助。了解迭代提示工程的知识后，您就可以对系统消息进行迭代来纠正这种行为。\n",
    "\n",
    "这里我们省略迭代开发有效系统消息的过程，直接给您提供一个迭代好的有效系统消息。"
   ]
  },
  {
   "cell_type": "code",
   "execution_count": null,
   "id": "93b60d26",
   "metadata": {},
   "outputs": [],
   "source": [
    "system_message = \"\"\"\\\n",
    "You are a helpful assistant capable of tool calling when helpful, necessary, and appropriate.\n",
    "\n",
    "Think hard about whether or not you need to call a tool, \\\n",
    "based on your tools' descriptions and use them, but only when appropriate!\n",
    "\n",
    "Whether or not you need to call a tool, address the user's query in a helpful informative way.\n",
    "\n",
    "You should ALWAYS actually address the query and NEVER discuss your thought process about whether or not to use a tool.\n",
    "\"\"\""
   ]
  },
  {
   "cell_type": "markdown",
   "id": "d6a155a1",
   "metadata": {},
   "source": [
    "### 创建智能体"
   ]
  },
  {
   "cell_type": "markdown",
   "id": "b3291182",
   "metadata": {},
   "source": [
    "现在您已经创建了智能体使用的工具、引导其行为的系统消息，以及一个 LLM 实例（即 `llm`），准备好使用 `create_react_agent` 创建一个智能体实例了。\n",
    "\n",
    "如果您卡住了，可以查看下面的*参考答案*。"
   ]
  },
  {
   "cell_type": "markdown",
   "id": "1e0e19b7",
   "metadata": {},
   "source": [
    "### 您的代码"
   ]
  },
  {
   "cell_type": "code",
   "execution_count": null,
   "id": "cb8cccad",
   "metadata": {},
   "outputs": [],
   "source": []
  },
  {
   "cell_type": "markdown",
   "id": "442a4ddd",
   "metadata": {},
   "source": [
    "### 参考答案"
   ]
  },
  {
   "cell_type": "markdown",
   "id": "247f7000",
   "metadata": {},
   "source": [
    "首先，我们需要创建一个包含希望智能体访问的工具的列表。"
   ]
  },
  {
   "cell_type": "code",
   "execution_count": null,
   "id": "0a425d65",
   "metadata": {},
   "outputs": [],
   "source": [
    "tools = [get_air_quality_category_for_location]"
   ]
  },
  {
   "cell_type": "markdown",
   "id": "ce0a5ea0",
   "metadata": {},
   "source": [
    "现在我们就有了创建智能体实例所需的一切。"
   ]
  },
  {
   "cell_type": "code",
   "execution_count": null,
   "id": "5f24c639",
   "metadata": {},
   "outputs": [],
   "source": [
    "agent = create_react_agent(llm, tools=tools, state_modifier=system_message)"
   ]
  },
  {
   "cell_type": "markdown",
   "id": "c114a71b",
   "metadata": {},
   "source": [
    "让我们检查一下智能体能否正常工作。"
   ]
  },
  {
   "cell_type": "code",
   "execution_count": null,
   "id": "5d0021c0",
   "metadata": {},
   "outputs": [],
   "source": [
    "agent_state = agent.invoke({\"messages\": ['What is the current air quality in Mumbai?']})"
   ]
  },
  {
   "cell_type": "code",
   "execution_count": null,
   "id": "13b3b597",
   "metadata": {},
   "outputs": [],
   "source": [
    "for message in agent_state['messages']:\n",
    "    message.pretty_print()"
   ]
  },
  {
   "cell_type": "markdown",
   "id": "7e059f3a",
   "metadata": {},
   "source": [
    "至少在我们的示例输入中，智能体似乎能正常工作，将地点转换为正确的浮点数纬度和经度坐标以供工具使用，然后调用工具，并在最终响应中使用工具调用的结果。"
   ]
  },
  {
   "cell_type": "markdown",
   "id": "e1e4c97f",
   "metadata": {},
   "source": [
    "### 创建链"
   ]
  },
  {
   "cell_type": "markdown",
   "id": "251db58e",
   "metadata": {},
   "source": [
    "现在让我们创建一个可以用简单字符串提示词调用的链，并接收简单字符串响应。您可以复用之前 notebook 中的任何代码。\n",
    "\n",
    "如果您卡住了，可以查看下面的*参考答案*。"
   ]
  },
  {
   "cell_type": "markdown",
   "id": "9ad23a29",
   "metadata": {},
   "source": [
    "### 您的代码"
   ]
  },
  {
   "cell_type": "markdown",
   "id": "fd2cd864",
   "metadata": {},
   "source": [
    "### 参考答案"
   ]
  },
  {
   "cell_type": "code",
   "execution_count": null,
   "id": "1b82f999",
   "metadata": {},
   "outputs": [],
   "source": []
  },
  {
   "cell_type": "markdown",
   "id": "3ec4207c",
   "metadata": {},
   "source": [
    "我们将利用新创建的`智能体`以及之前在 notebook 中创建的 `convert_to_agent_state` 和 `agent_state_parser` 自定义运行时来创建链。"
   ]
  },
  {
   "cell_type": "code",
   "execution_count": null,
   "id": "627775d9",
   "metadata": {},
   "outputs": [],
   "source": [
    "chain = convert_to_agent_state | agent | agent_state_parser"
   ]
  },
  {
   "cell_type": "markdown",
   "id": "515fe122",
   "metadata": {},
   "source": [
    "现在我们有了运行时链，来测试一下，传给它们测试提示词。"
   ]
  },
  {
   "cell_type": "code",
   "execution_count": null,
   "id": "75d345f9",
   "metadata": {},
   "outputs": [],
   "source": [
    "air_quality_agent_test_prompts = [\n",
    "    \"What is the current air quality in Korobosea in Papua New Guinea?\",\n",
    "    \"What is the current air quality in Washington DC?\",\n",
    "    \"What is the current air quality in Mumbai?\",\n",
    "    \"Where is the city of Rome located?\" # Make sure agent behaves as expected when not needing to make a tool call.\n",
    "]"
   ]
  },
  {
   "cell_type": "code",
   "execution_count": null,
   "id": "6cc0169e",
   "metadata": {},
   "outputs": [],
   "source": [
    "chain.batch(air_quality_agent_test_prompts)"
   ]
  },
  {
   "cell_type": "markdown",
   "id": "fa97589a",
   "metadata": {},
   "source": [
    "大功告成！"
   ]
  },
  {
   "cell_type": "markdown",
   "id": "b2092b21",
   "metadata": {},
   "source": [
    "---"
   ]
  },
  {
   "cell_type": "markdown",
   "id": "fc6eef39",
   "metadata": {},
   "source": [
    "## 总结"
   ]
  },
  {
   "cell_type": "markdown",
   "id": "95809a4d",
   "metadata": {},
   "source": [
    "在这个 notebook 中，您学习了如何创建能整合并使用工具的智能体。此外，您还实践了将智能体组合成 LCEL 链，从而将您在本 notebook 中学到的知识与之前的经验结合起来。"
   ]
  }
 ],
 "metadata": {
  "language_info": {
   "name": "python"
  }
 },
 "nbformat": 4,
 "nbformat_minor": 5
}
