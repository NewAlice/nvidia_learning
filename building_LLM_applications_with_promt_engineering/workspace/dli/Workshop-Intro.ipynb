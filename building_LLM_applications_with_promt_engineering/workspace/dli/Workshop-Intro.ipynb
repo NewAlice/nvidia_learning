{
 "cells": [
  {
   "cell_type": "markdown",
   "id": "9e4b318e",
   "metadata": {},
   "source": [
    "<center><a href=\"https://www.nvidia.cn/training/\"><img src=\"https://dli-lms.s3.amazonaws.com/assets/general/DLI_Header_White.png\" width=\"400\" height=\"186\" /></a></center>"
   ]
  },
  {
   "cell_type": "markdown",
   "id": "cf55d2a6",
   "metadata": {},
   "source": [
    "# 利用提示工程构建大语言模型（LLM）应用"
   ]
  },
  {
   "cell_type": "markdown",
   "id": "c8ba68bf",
   "metadata": {},
   "source": [
    "欢迎。\n",
    "\n",
    "在这个课程中，您将学习一系列强大的技巧，通过提示工程以编程的方式与 LLM 进行互动。完成此课程后，您将能够编写 LLM 应用的代码，处理各种语言相关的任务。"
   ]
  },
  {
   "cell_type": "markdown",
   "id": "2206a794",
   "metadata": {},
   "source": [
    "---"
   ]
  },
  {
   "cell_type": "markdown",
   "id": "3bf2e871",
   "metadata": {},
   "source": [
    "## 课程大纲"
   ]
  },
  {
   "cell_type": "markdown",
   "id": "f294f59a",
   "metadata": {},
   "source": [
    "本课程分为 5 个部分，可以通过您 JupyterLab 窗口左侧的文件查看器访问。为了帮助您了解今天在课程中将要进行的工作，下面是每个部分的简要描述。"
   ]
  },
  {
   "cell_type": "markdown",
   "id": "68b117c9",
   "metadata": {},
   "source": [
    "---"
   ]
  },
  {
   "cell_type": "markdown",
   "id": "b89b25be",
   "metadata": {},
   "source": [
    "### 第 1 部分：提示词简介"
   ]
  },
  {
   "cell_type": "markdown",
   "id": "29b81a12",
   "metadata": {},
   "source": [
    "在这一部分，您将熟悉课程环境，包括将在整个课程中使用的 Llama-3.1-8b-instruct 大语言模型。您将从向 LLM 询问“你好，世界”开始，查看其响应，并逐步了解一些核心提示技术，比如 LangChain，这将支持您在剩余课程中的工作。\n",
    "\n",
    "这部分以一个迷你项目结束，您将对一批输入执行分析和生成任务。"
   ]
  },
  {
   "cell_type": "markdown",
   "id": "b4b84ed0",
   "metadata": {},
   "source": [
    "---"
   ]
  },
  {
   "cell_type": "markdown",
   "id": "f41c8126",
   "metadata": {},
   "source": [
    "### 第 2 部分：LangChain 表达语言（LCEL）、运行时和链"
   ]
  },
  {
   "cell_type": "markdown",
   "id": "0a7498da",
   "metadata": {},
   "source": [
    "在这一部分，您将学习如何使用 LangChain 表达语言（LCEL）创建模块化、可复用和可组合的 LLM 工作单元，称为链。在创建和使用 LCEL 链的过程中，您将学习如何创建自定义链组件并组合链，包括并行处理。\n",
    "\n",
    "这一部分以一个迷你项目结束，您将重温第一部分的迷你项目，但这次将通过利用 LCEL 链来简化代码，并行处理一些项目的子任务。"
   ]
  },
  {
   "cell_type": "markdown",
   "id": "1c6af52b",
   "metadata": {},
   "source": [
    "---"
   ]
  },
  {
   "cell_type": "markdown",
   "id": "2236d97f",
   "metadata": {},
   "source": [
    "### 第 3 部分：使用消息进行提示"
   ]
  },
  {
   "cell_type": "markdown",
   "id": "14cff980",
   "metadata": {},
   "source": [
    "在这一部分，您将学习如何明确控制发送给聊天模型和从中接收的消息类型，并利用这些消息执行多种强大的提示工程，包括少样本提示、系统消息更新和思维链提示。\n",
    "\n",
    "这部分结束时，您将通过消息创建一个能够保留对话历史并假设人格的聊天机器人。"
   ]
  },
  {
   "cell_type": "markdown",
   "id": "6f69226d",
   "metadata": {},
   "source": [
    "---"
   ]
  },
  {
   "cell_type": "markdown",
   "id": "af350e67",
   "metadata": {},
   "source": [
    "### 第 4 部分：结构化输出"
   ]
  },
  {
   "cell_type": "markdown",
   "id": "ce261535",
   "metadata": {},
   "source": [
    "在这一部分，您将学习如何定义精确的数据结构，并将其提供给 LLM，以便让 LLM 生成可直接在代码中使用的结构化数据。\n",
    "\n",
    "这一部分结束时，您将使用结构化数据生成技术对一份非结构化文本文档进行数据提取和文档标记的迷你项目。"
   ]
  },
  {
   "cell_type": "markdown",
   "id": "475f92a9",
   "metadata": {},
   "source": [
    "---"
   ]
  },
  {
   "cell_type": "markdown",
   "id": "504e79c5",
   "metadata": {},
   "source": [
    "### 第 5 部分：工具使用和智能体"
   ]
  },
  {
   "cell_type": "markdown",
   "id": "78576ea0",
   "metadata": {},
   "source": [
    "在这一部分，您将学习如何创建独立于 LLM 的功能单元，称为工具，并增强 LLM 使其能够利用这些工具，并将其工作结果包含在生成的响应中。\n",
    "\n",
    "在这一部分，您将进行一个迷你项目，创建一个能利用外部 API 调用的 LLM 智能体，使用实时数据增强其响应。\n",
    "\n",
    "这部分以一个课程总结结束，并指导您获取课程能力证书。"
   ]
  }
 ],
 "metadata": {
  "kernelspec": {
   "display_name": "Python 3 (ipykernel)",
   "language": "python",
   "name": "python3"
  },
  "language_info": {
   "codemirror_mode": {
    "name": "ipython",
    "version": 3
   },
   "file_extension": ".py",
   "mimetype": "text/x-python",
   "name": "python",
   "nbconvert_exporter": "python",
   "pygments_lexer": "ipython3",
   "version": "3.12.1"
  }
 },
 "nbformat": 4,
 "nbformat_minor": 5
}
